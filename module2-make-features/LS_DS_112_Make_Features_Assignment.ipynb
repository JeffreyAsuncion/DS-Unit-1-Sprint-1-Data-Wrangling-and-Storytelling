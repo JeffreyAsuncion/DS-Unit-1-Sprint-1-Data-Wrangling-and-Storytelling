{
  "nbformat": 4,
  "nbformat_minor": 0,
  "metadata": {
    "colab": {
      "name": "LS_DS_112_Make_Features_Assignment.ipynb",
      "provenance": [],
      "collapsed_sections": []
    },
    "kernelspec": {
      "display_name": "Python 3",
      "language": "python",
      "name": "python3"
    },
    "language_info": {
      "codemirror_mode": {
        "name": "ipython",
        "version": 3
      },
      "file_extension": ".py",
      "mimetype": "text/x-python",
      "name": "python",
      "nbconvert_exporter": "python",
      "pygments_lexer": "ipython3",
      "version": "3.7.1"
    }
  },
  "cells": [
    {
      "cell_type": "markdown",
      "metadata": {
        "id": "SnDJqBLi0FYW",
        "colab_type": "text"
      },
      "source": [
        "<img align=\"left\" src=\"https://lever-client-logos.s3.amazonaws.com/864372b1-534c-480e-acd5-9711f850815c-1524247202159.png\" width=200> "
      ]
    },
    {
      "cell_type": "markdown",
      "metadata": {
        "id": "W5GjI1z5yNG4",
        "colab_type": "text"
      },
      "source": [
        "# Assignment:\n",
        "\n",
        "- Replicate the lesson code.\n",
        "\n",
        " - This means that if you haven't followed along already, type out the things that we did in class. Forcing your fingers to hit each key will help you internalize the syntax of what we're doing. Make sure you understand each line of code that you're writing, google things that you don't fully understand.\n",
        " - [Lambda Learning Method for DS - By Ryan Herr](https://docs.google.com/document/d/1ubOw9B3Hfip27hF2ZFnW3a3z9xAgrUDRReOEo-FHCVs/edit?usp=sharing)\n",
        "- Convert the `term` column from string to integer.\n",
        "- Make a column named `loan_status_is_great`. It should contain the integer 1 if `loan_status` is \"Current\" or \"Fully Paid.\" Else it should contain the integer 0.\n",
        "- Make `last_pymnt_d_month` and `last_pymnt_d_year` columns."
      ]
    },
    {
      "cell_type": "code",
      "metadata": {
        "id": "AazB4eFwym2p",
        "colab_type": "code",
        "colab": {
          "base_uri": "https://localhost:8080/",
          "height": 253
        },
        "outputId": "fd25181a-028b-44ac-e945-66df7523626f"
      },
      "source": [
        "##### Begin Working Here #####\n",
        "# Working with the Ames Iowa Housing Dataset:\n",
        "import pandas as pd\n",
        "source_url = 'https://raw.githubusercontent.com/ryanleeallred/datasets/master/Ames%20Housing%20Data/train.csv'\n",
        "iowa_df = pd.read_csv(source_url)\n",
        "# first few rows\n",
        "iowa_df.head()"
      ],
      "execution_count": 76,
      "outputs": [
        {
          "output_type": "execute_result",
          "data": {
            "text/html": [
              "<div>\n",
              "<style scoped>\n",
              "    .dataframe tbody tr th:only-of-type {\n",
              "        vertical-align: middle;\n",
              "    }\n",
              "\n",
              "    .dataframe tbody tr th {\n",
              "        vertical-align: top;\n",
              "    }\n",
              "\n",
              "    .dataframe thead th {\n",
              "        text-align: right;\n",
              "    }\n",
              "</style>\n",
              "<table border=\"1\" class=\"dataframe\">\n",
              "  <thead>\n",
              "    <tr style=\"text-align: right;\">\n",
              "      <th></th>\n",
              "      <th>Id</th>\n",
              "      <th>MSSubClass</th>\n",
              "      <th>MSZoning</th>\n",
              "      <th>LotFrontage</th>\n",
              "      <th>LotArea</th>\n",
              "      <th>Street</th>\n",
              "      <th>Alley</th>\n",
              "      <th>LotShape</th>\n",
              "      <th>LandContour</th>\n",
              "      <th>Utilities</th>\n",
              "      <th>LotConfig</th>\n",
              "      <th>LandSlope</th>\n",
              "      <th>Neighborhood</th>\n",
              "      <th>Condition1</th>\n",
              "      <th>Condition2</th>\n",
              "      <th>BldgType</th>\n",
              "      <th>HouseStyle</th>\n",
              "      <th>OverallQual</th>\n",
              "      <th>OverallCond</th>\n",
              "      <th>YearBuilt</th>\n",
              "      <th>YearRemodAdd</th>\n",
              "      <th>RoofStyle</th>\n",
              "      <th>RoofMatl</th>\n",
              "      <th>Exterior1st</th>\n",
              "      <th>Exterior2nd</th>\n",
              "      <th>MasVnrType</th>\n",
              "      <th>MasVnrArea</th>\n",
              "      <th>ExterQual</th>\n",
              "      <th>ExterCond</th>\n",
              "      <th>Foundation</th>\n",
              "      <th>BsmtQual</th>\n",
              "      <th>BsmtCond</th>\n",
              "      <th>BsmtExposure</th>\n",
              "      <th>BsmtFinType1</th>\n",
              "      <th>BsmtFinSF1</th>\n",
              "      <th>BsmtFinType2</th>\n",
              "      <th>BsmtFinSF2</th>\n",
              "      <th>BsmtUnfSF</th>\n",
              "      <th>TotalBsmtSF</th>\n",
              "      <th>Heating</th>\n",
              "      <th>...</th>\n",
              "      <th>CentralAir</th>\n",
              "      <th>Electrical</th>\n",
              "      <th>1stFlrSF</th>\n",
              "      <th>2ndFlrSF</th>\n",
              "      <th>LowQualFinSF</th>\n",
              "      <th>GrLivArea</th>\n",
              "      <th>BsmtFullBath</th>\n",
              "      <th>BsmtHalfBath</th>\n",
              "      <th>FullBath</th>\n",
              "      <th>HalfBath</th>\n",
              "      <th>BedroomAbvGr</th>\n",
              "      <th>KitchenAbvGr</th>\n",
              "      <th>KitchenQual</th>\n",
              "      <th>TotRmsAbvGrd</th>\n",
              "      <th>Functional</th>\n",
              "      <th>Fireplaces</th>\n",
              "      <th>FireplaceQu</th>\n",
              "      <th>GarageType</th>\n",
              "      <th>GarageYrBlt</th>\n",
              "      <th>GarageFinish</th>\n",
              "      <th>GarageCars</th>\n",
              "      <th>GarageArea</th>\n",
              "      <th>GarageQual</th>\n",
              "      <th>GarageCond</th>\n",
              "      <th>PavedDrive</th>\n",
              "      <th>WoodDeckSF</th>\n",
              "      <th>OpenPorchSF</th>\n",
              "      <th>EnclosedPorch</th>\n",
              "      <th>3SsnPorch</th>\n",
              "      <th>ScreenPorch</th>\n",
              "      <th>PoolArea</th>\n",
              "      <th>PoolQC</th>\n",
              "      <th>Fence</th>\n",
              "      <th>MiscFeature</th>\n",
              "      <th>MiscVal</th>\n",
              "      <th>MoSold</th>\n",
              "      <th>YrSold</th>\n",
              "      <th>SaleType</th>\n",
              "      <th>SaleCondition</th>\n",
              "      <th>SalePrice</th>\n",
              "    </tr>\n",
              "  </thead>\n",
              "  <tbody>\n",
              "    <tr>\n",
              "      <th>0</th>\n",
              "      <td>1</td>\n",
              "      <td>60</td>\n",
              "      <td>RL</td>\n",
              "      <td>65.0</td>\n",
              "      <td>8450</td>\n",
              "      <td>Pave</td>\n",
              "      <td>NaN</td>\n",
              "      <td>Reg</td>\n",
              "      <td>Lvl</td>\n",
              "      <td>AllPub</td>\n",
              "      <td>Inside</td>\n",
              "      <td>Gtl</td>\n",
              "      <td>CollgCr</td>\n",
              "      <td>Norm</td>\n",
              "      <td>Norm</td>\n",
              "      <td>1Fam</td>\n",
              "      <td>2Story</td>\n",
              "      <td>7</td>\n",
              "      <td>5</td>\n",
              "      <td>2003</td>\n",
              "      <td>2003</td>\n",
              "      <td>Gable</td>\n",
              "      <td>CompShg</td>\n",
              "      <td>VinylSd</td>\n",
              "      <td>VinylSd</td>\n",
              "      <td>BrkFace</td>\n",
              "      <td>196.0</td>\n",
              "      <td>Gd</td>\n",
              "      <td>TA</td>\n",
              "      <td>PConc</td>\n",
              "      <td>Gd</td>\n",
              "      <td>TA</td>\n",
              "      <td>No</td>\n",
              "      <td>GLQ</td>\n",
              "      <td>706</td>\n",
              "      <td>Unf</td>\n",
              "      <td>0</td>\n",
              "      <td>150</td>\n",
              "      <td>856</td>\n",
              "      <td>GasA</td>\n",
              "      <td>...</td>\n",
              "      <td>Y</td>\n",
              "      <td>SBrkr</td>\n",
              "      <td>856</td>\n",
              "      <td>854</td>\n",
              "      <td>0</td>\n",
              "      <td>1710</td>\n",
              "      <td>1</td>\n",
              "      <td>0</td>\n",
              "      <td>2</td>\n",
              "      <td>1</td>\n",
              "      <td>3</td>\n",
              "      <td>1</td>\n",
              "      <td>Gd</td>\n",
              "      <td>8</td>\n",
              "      <td>Typ</td>\n",
              "      <td>0</td>\n",
              "      <td>NaN</td>\n",
              "      <td>Attchd</td>\n",
              "      <td>2003.0</td>\n",
              "      <td>RFn</td>\n",
              "      <td>2</td>\n",
              "      <td>548</td>\n",
              "      <td>TA</td>\n",
              "      <td>TA</td>\n",
              "      <td>Y</td>\n",
              "      <td>0</td>\n",
              "      <td>61</td>\n",
              "      <td>0</td>\n",
              "      <td>0</td>\n",
              "      <td>0</td>\n",
              "      <td>0</td>\n",
              "      <td>NaN</td>\n",
              "      <td>NaN</td>\n",
              "      <td>NaN</td>\n",
              "      <td>0</td>\n",
              "      <td>2</td>\n",
              "      <td>2008</td>\n",
              "      <td>WD</td>\n",
              "      <td>Normal</td>\n",
              "      <td>208500</td>\n",
              "    </tr>\n",
              "    <tr>\n",
              "      <th>1</th>\n",
              "      <td>2</td>\n",
              "      <td>20</td>\n",
              "      <td>RL</td>\n",
              "      <td>80.0</td>\n",
              "      <td>9600</td>\n",
              "      <td>Pave</td>\n",
              "      <td>NaN</td>\n",
              "      <td>Reg</td>\n",
              "      <td>Lvl</td>\n",
              "      <td>AllPub</td>\n",
              "      <td>FR2</td>\n",
              "      <td>Gtl</td>\n",
              "      <td>Veenker</td>\n",
              "      <td>Feedr</td>\n",
              "      <td>Norm</td>\n",
              "      <td>1Fam</td>\n",
              "      <td>1Story</td>\n",
              "      <td>6</td>\n",
              "      <td>8</td>\n",
              "      <td>1976</td>\n",
              "      <td>1976</td>\n",
              "      <td>Gable</td>\n",
              "      <td>CompShg</td>\n",
              "      <td>MetalSd</td>\n",
              "      <td>MetalSd</td>\n",
              "      <td>None</td>\n",
              "      <td>0.0</td>\n",
              "      <td>TA</td>\n",
              "      <td>TA</td>\n",
              "      <td>CBlock</td>\n",
              "      <td>Gd</td>\n",
              "      <td>TA</td>\n",
              "      <td>Gd</td>\n",
              "      <td>ALQ</td>\n",
              "      <td>978</td>\n",
              "      <td>Unf</td>\n",
              "      <td>0</td>\n",
              "      <td>284</td>\n",
              "      <td>1262</td>\n",
              "      <td>GasA</td>\n",
              "      <td>...</td>\n",
              "      <td>Y</td>\n",
              "      <td>SBrkr</td>\n",
              "      <td>1262</td>\n",
              "      <td>0</td>\n",
              "      <td>0</td>\n",
              "      <td>1262</td>\n",
              "      <td>0</td>\n",
              "      <td>1</td>\n",
              "      <td>2</td>\n",
              "      <td>0</td>\n",
              "      <td>3</td>\n",
              "      <td>1</td>\n",
              "      <td>TA</td>\n",
              "      <td>6</td>\n",
              "      <td>Typ</td>\n",
              "      <td>1</td>\n",
              "      <td>TA</td>\n",
              "      <td>Attchd</td>\n",
              "      <td>1976.0</td>\n",
              "      <td>RFn</td>\n",
              "      <td>2</td>\n",
              "      <td>460</td>\n",
              "      <td>TA</td>\n",
              "      <td>TA</td>\n",
              "      <td>Y</td>\n",
              "      <td>298</td>\n",
              "      <td>0</td>\n",
              "      <td>0</td>\n",
              "      <td>0</td>\n",
              "      <td>0</td>\n",
              "      <td>0</td>\n",
              "      <td>NaN</td>\n",
              "      <td>NaN</td>\n",
              "      <td>NaN</td>\n",
              "      <td>0</td>\n",
              "      <td>5</td>\n",
              "      <td>2007</td>\n",
              "      <td>WD</td>\n",
              "      <td>Normal</td>\n",
              "      <td>181500</td>\n",
              "    </tr>\n",
              "    <tr>\n",
              "      <th>2</th>\n",
              "      <td>3</td>\n",
              "      <td>60</td>\n",
              "      <td>RL</td>\n",
              "      <td>68.0</td>\n",
              "      <td>11250</td>\n",
              "      <td>Pave</td>\n",
              "      <td>NaN</td>\n",
              "      <td>IR1</td>\n",
              "      <td>Lvl</td>\n",
              "      <td>AllPub</td>\n",
              "      <td>Inside</td>\n",
              "      <td>Gtl</td>\n",
              "      <td>CollgCr</td>\n",
              "      <td>Norm</td>\n",
              "      <td>Norm</td>\n",
              "      <td>1Fam</td>\n",
              "      <td>2Story</td>\n",
              "      <td>7</td>\n",
              "      <td>5</td>\n",
              "      <td>2001</td>\n",
              "      <td>2002</td>\n",
              "      <td>Gable</td>\n",
              "      <td>CompShg</td>\n",
              "      <td>VinylSd</td>\n",
              "      <td>VinylSd</td>\n",
              "      <td>BrkFace</td>\n",
              "      <td>162.0</td>\n",
              "      <td>Gd</td>\n",
              "      <td>TA</td>\n",
              "      <td>PConc</td>\n",
              "      <td>Gd</td>\n",
              "      <td>TA</td>\n",
              "      <td>Mn</td>\n",
              "      <td>GLQ</td>\n",
              "      <td>486</td>\n",
              "      <td>Unf</td>\n",
              "      <td>0</td>\n",
              "      <td>434</td>\n",
              "      <td>920</td>\n",
              "      <td>GasA</td>\n",
              "      <td>...</td>\n",
              "      <td>Y</td>\n",
              "      <td>SBrkr</td>\n",
              "      <td>920</td>\n",
              "      <td>866</td>\n",
              "      <td>0</td>\n",
              "      <td>1786</td>\n",
              "      <td>1</td>\n",
              "      <td>0</td>\n",
              "      <td>2</td>\n",
              "      <td>1</td>\n",
              "      <td>3</td>\n",
              "      <td>1</td>\n",
              "      <td>Gd</td>\n",
              "      <td>6</td>\n",
              "      <td>Typ</td>\n",
              "      <td>1</td>\n",
              "      <td>TA</td>\n",
              "      <td>Attchd</td>\n",
              "      <td>2001.0</td>\n",
              "      <td>RFn</td>\n",
              "      <td>2</td>\n",
              "      <td>608</td>\n",
              "      <td>TA</td>\n",
              "      <td>TA</td>\n",
              "      <td>Y</td>\n",
              "      <td>0</td>\n",
              "      <td>42</td>\n",
              "      <td>0</td>\n",
              "      <td>0</td>\n",
              "      <td>0</td>\n",
              "      <td>0</td>\n",
              "      <td>NaN</td>\n",
              "      <td>NaN</td>\n",
              "      <td>NaN</td>\n",
              "      <td>0</td>\n",
              "      <td>9</td>\n",
              "      <td>2008</td>\n",
              "      <td>WD</td>\n",
              "      <td>Normal</td>\n",
              "      <td>223500</td>\n",
              "    </tr>\n",
              "    <tr>\n",
              "      <th>3</th>\n",
              "      <td>4</td>\n",
              "      <td>70</td>\n",
              "      <td>RL</td>\n",
              "      <td>60.0</td>\n",
              "      <td>9550</td>\n",
              "      <td>Pave</td>\n",
              "      <td>NaN</td>\n",
              "      <td>IR1</td>\n",
              "      <td>Lvl</td>\n",
              "      <td>AllPub</td>\n",
              "      <td>Corner</td>\n",
              "      <td>Gtl</td>\n",
              "      <td>Crawfor</td>\n",
              "      <td>Norm</td>\n",
              "      <td>Norm</td>\n",
              "      <td>1Fam</td>\n",
              "      <td>2Story</td>\n",
              "      <td>7</td>\n",
              "      <td>5</td>\n",
              "      <td>1915</td>\n",
              "      <td>1970</td>\n",
              "      <td>Gable</td>\n",
              "      <td>CompShg</td>\n",
              "      <td>Wd Sdng</td>\n",
              "      <td>Wd Shng</td>\n",
              "      <td>None</td>\n",
              "      <td>0.0</td>\n",
              "      <td>TA</td>\n",
              "      <td>TA</td>\n",
              "      <td>BrkTil</td>\n",
              "      <td>TA</td>\n",
              "      <td>Gd</td>\n",
              "      <td>No</td>\n",
              "      <td>ALQ</td>\n",
              "      <td>216</td>\n",
              "      <td>Unf</td>\n",
              "      <td>0</td>\n",
              "      <td>540</td>\n",
              "      <td>756</td>\n",
              "      <td>GasA</td>\n",
              "      <td>...</td>\n",
              "      <td>Y</td>\n",
              "      <td>SBrkr</td>\n",
              "      <td>961</td>\n",
              "      <td>756</td>\n",
              "      <td>0</td>\n",
              "      <td>1717</td>\n",
              "      <td>1</td>\n",
              "      <td>0</td>\n",
              "      <td>1</td>\n",
              "      <td>0</td>\n",
              "      <td>3</td>\n",
              "      <td>1</td>\n",
              "      <td>Gd</td>\n",
              "      <td>7</td>\n",
              "      <td>Typ</td>\n",
              "      <td>1</td>\n",
              "      <td>Gd</td>\n",
              "      <td>Detchd</td>\n",
              "      <td>1998.0</td>\n",
              "      <td>Unf</td>\n",
              "      <td>3</td>\n",
              "      <td>642</td>\n",
              "      <td>TA</td>\n",
              "      <td>TA</td>\n",
              "      <td>Y</td>\n",
              "      <td>0</td>\n",
              "      <td>35</td>\n",
              "      <td>272</td>\n",
              "      <td>0</td>\n",
              "      <td>0</td>\n",
              "      <td>0</td>\n",
              "      <td>NaN</td>\n",
              "      <td>NaN</td>\n",
              "      <td>NaN</td>\n",
              "      <td>0</td>\n",
              "      <td>2</td>\n",
              "      <td>2006</td>\n",
              "      <td>WD</td>\n",
              "      <td>Abnorml</td>\n",
              "      <td>140000</td>\n",
              "    </tr>\n",
              "    <tr>\n",
              "      <th>4</th>\n",
              "      <td>5</td>\n",
              "      <td>60</td>\n",
              "      <td>RL</td>\n",
              "      <td>84.0</td>\n",
              "      <td>14260</td>\n",
              "      <td>Pave</td>\n",
              "      <td>NaN</td>\n",
              "      <td>IR1</td>\n",
              "      <td>Lvl</td>\n",
              "      <td>AllPub</td>\n",
              "      <td>FR2</td>\n",
              "      <td>Gtl</td>\n",
              "      <td>NoRidge</td>\n",
              "      <td>Norm</td>\n",
              "      <td>Norm</td>\n",
              "      <td>1Fam</td>\n",
              "      <td>2Story</td>\n",
              "      <td>8</td>\n",
              "      <td>5</td>\n",
              "      <td>2000</td>\n",
              "      <td>2000</td>\n",
              "      <td>Gable</td>\n",
              "      <td>CompShg</td>\n",
              "      <td>VinylSd</td>\n",
              "      <td>VinylSd</td>\n",
              "      <td>BrkFace</td>\n",
              "      <td>350.0</td>\n",
              "      <td>Gd</td>\n",
              "      <td>TA</td>\n",
              "      <td>PConc</td>\n",
              "      <td>Gd</td>\n",
              "      <td>TA</td>\n",
              "      <td>Av</td>\n",
              "      <td>GLQ</td>\n",
              "      <td>655</td>\n",
              "      <td>Unf</td>\n",
              "      <td>0</td>\n",
              "      <td>490</td>\n",
              "      <td>1145</td>\n",
              "      <td>GasA</td>\n",
              "      <td>...</td>\n",
              "      <td>Y</td>\n",
              "      <td>SBrkr</td>\n",
              "      <td>1145</td>\n",
              "      <td>1053</td>\n",
              "      <td>0</td>\n",
              "      <td>2198</td>\n",
              "      <td>1</td>\n",
              "      <td>0</td>\n",
              "      <td>2</td>\n",
              "      <td>1</td>\n",
              "      <td>4</td>\n",
              "      <td>1</td>\n",
              "      <td>Gd</td>\n",
              "      <td>9</td>\n",
              "      <td>Typ</td>\n",
              "      <td>1</td>\n",
              "      <td>TA</td>\n",
              "      <td>Attchd</td>\n",
              "      <td>2000.0</td>\n",
              "      <td>RFn</td>\n",
              "      <td>3</td>\n",
              "      <td>836</td>\n",
              "      <td>TA</td>\n",
              "      <td>TA</td>\n",
              "      <td>Y</td>\n",
              "      <td>192</td>\n",
              "      <td>84</td>\n",
              "      <td>0</td>\n",
              "      <td>0</td>\n",
              "      <td>0</td>\n",
              "      <td>0</td>\n",
              "      <td>NaN</td>\n",
              "      <td>NaN</td>\n",
              "      <td>NaN</td>\n",
              "      <td>0</td>\n",
              "      <td>12</td>\n",
              "      <td>2008</td>\n",
              "      <td>WD</td>\n",
              "      <td>Normal</td>\n",
              "      <td>250000</td>\n",
              "    </tr>\n",
              "  </tbody>\n",
              "</table>\n",
              "<p>5 rows × 81 columns</p>\n",
              "</div>"
            ],
            "text/plain": [
              "   Id  MSSubClass MSZoning  ...  SaleType  SaleCondition SalePrice\n",
              "0   1          60       RL  ...        WD         Normal    208500\n",
              "1   2          20       RL  ...        WD         Normal    181500\n",
              "2   3          60       RL  ...        WD         Normal    223500\n",
              "3   4          70       RL  ...        WD        Abnorml    140000\n",
              "4   5          60       RL  ...        WD         Normal    250000\n",
              "\n",
              "[5 rows x 81 columns]"
            ]
          },
          "metadata": {
            "tags": []
          },
          "execution_count": 76
        }
      ]
    },
    {
      "cell_type": "code",
      "metadata": {
        "id": "Aa9R-4QtlHtK",
        "colab_type": "code",
        "colab": {
          "base_uri": "https://localhost:8080/",
          "height": 34
        },
        "outputId": "79574675-9d76-4d83-a60e-b3df4ed597a0"
      },
      "source": [
        "# shape\n",
        "iowa_df.shape"
      ],
      "execution_count": 6,
      "outputs": [
        {
          "output_type": "execute_result",
          "data": {
            "text/plain": [
              "(1460, 81)"
            ]
          },
          "metadata": {
            "tags": []
          },
          "execution_count": 6
        }
      ]
    },
    {
      "cell_type": "code",
      "metadata": {
        "id": "rSMG3RVnlIAO",
        "colab_type": "code",
        "colab": {
          "base_uri": "https://localhost:8080/",
          "height": 317
        },
        "outputId": "cd442f87-317e-4696-81a5-c891018cc83f"
      },
      "source": [
        "# describe\n",
        "iowa_df.describe()"
      ],
      "execution_count": 7,
      "outputs": [
        {
          "output_type": "execute_result",
          "data": {
            "text/html": [
              "<div>\n",
              "<style scoped>\n",
              "    .dataframe tbody tr th:only-of-type {\n",
              "        vertical-align: middle;\n",
              "    }\n",
              "\n",
              "    .dataframe tbody tr th {\n",
              "        vertical-align: top;\n",
              "    }\n",
              "\n",
              "    .dataframe thead th {\n",
              "        text-align: right;\n",
              "    }\n",
              "</style>\n",
              "<table border=\"1\" class=\"dataframe\">\n",
              "  <thead>\n",
              "    <tr style=\"text-align: right;\">\n",
              "      <th></th>\n",
              "      <th>Id</th>\n",
              "      <th>MSSubClass</th>\n",
              "      <th>LotFrontage</th>\n",
              "      <th>LotArea</th>\n",
              "      <th>OverallQual</th>\n",
              "      <th>OverallCond</th>\n",
              "      <th>YearBuilt</th>\n",
              "      <th>YearRemodAdd</th>\n",
              "      <th>MasVnrArea</th>\n",
              "      <th>BsmtFinSF1</th>\n",
              "      <th>BsmtFinSF2</th>\n",
              "      <th>BsmtUnfSF</th>\n",
              "      <th>TotalBsmtSF</th>\n",
              "      <th>1stFlrSF</th>\n",
              "      <th>2ndFlrSF</th>\n",
              "      <th>LowQualFinSF</th>\n",
              "      <th>GrLivArea</th>\n",
              "      <th>BsmtFullBath</th>\n",
              "      <th>BsmtHalfBath</th>\n",
              "      <th>FullBath</th>\n",
              "      <th>HalfBath</th>\n",
              "      <th>BedroomAbvGr</th>\n",
              "      <th>KitchenAbvGr</th>\n",
              "      <th>TotRmsAbvGrd</th>\n",
              "      <th>Fireplaces</th>\n",
              "      <th>GarageYrBlt</th>\n",
              "      <th>GarageCars</th>\n",
              "      <th>GarageArea</th>\n",
              "      <th>WoodDeckSF</th>\n",
              "      <th>OpenPorchSF</th>\n",
              "      <th>EnclosedPorch</th>\n",
              "      <th>3SsnPorch</th>\n",
              "      <th>ScreenPorch</th>\n",
              "      <th>PoolArea</th>\n",
              "      <th>MiscVal</th>\n",
              "      <th>MoSold</th>\n",
              "      <th>YrSold</th>\n",
              "      <th>SalePrice</th>\n",
              "    </tr>\n",
              "  </thead>\n",
              "  <tbody>\n",
              "    <tr>\n",
              "      <th>count</th>\n",
              "      <td>1460.000000</td>\n",
              "      <td>1460.000000</td>\n",
              "      <td>1201.000000</td>\n",
              "      <td>1460.000000</td>\n",
              "      <td>1460.000000</td>\n",
              "      <td>1460.000000</td>\n",
              "      <td>1460.000000</td>\n",
              "      <td>1460.000000</td>\n",
              "      <td>1452.000000</td>\n",
              "      <td>1460.000000</td>\n",
              "      <td>1460.000000</td>\n",
              "      <td>1460.000000</td>\n",
              "      <td>1460.000000</td>\n",
              "      <td>1460.000000</td>\n",
              "      <td>1460.000000</td>\n",
              "      <td>1460.000000</td>\n",
              "      <td>1460.000000</td>\n",
              "      <td>1460.000000</td>\n",
              "      <td>1460.000000</td>\n",
              "      <td>1460.000000</td>\n",
              "      <td>1460.000000</td>\n",
              "      <td>1460.000000</td>\n",
              "      <td>1460.000000</td>\n",
              "      <td>1460.000000</td>\n",
              "      <td>1460.000000</td>\n",
              "      <td>1379.000000</td>\n",
              "      <td>1460.000000</td>\n",
              "      <td>1460.000000</td>\n",
              "      <td>1460.000000</td>\n",
              "      <td>1460.000000</td>\n",
              "      <td>1460.000000</td>\n",
              "      <td>1460.000000</td>\n",
              "      <td>1460.000000</td>\n",
              "      <td>1460.000000</td>\n",
              "      <td>1460.000000</td>\n",
              "      <td>1460.000000</td>\n",
              "      <td>1460.000000</td>\n",
              "      <td>1460.000000</td>\n",
              "    </tr>\n",
              "    <tr>\n",
              "      <th>mean</th>\n",
              "      <td>730.500000</td>\n",
              "      <td>56.897260</td>\n",
              "      <td>70.049958</td>\n",
              "      <td>10516.828082</td>\n",
              "      <td>6.099315</td>\n",
              "      <td>5.575342</td>\n",
              "      <td>1971.267808</td>\n",
              "      <td>1984.865753</td>\n",
              "      <td>103.685262</td>\n",
              "      <td>443.639726</td>\n",
              "      <td>46.549315</td>\n",
              "      <td>567.240411</td>\n",
              "      <td>1057.429452</td>\n",
              "      <td>1162.626712</td>\n",
              "      <td>346.992466</td>\n",
              "      <td>5.844521</td>\n",
              "      <td>1515.463699</td>\n",
              "      <td>0.425342</td>\n",
              "      <td>0.057534</td>\n",
              "      <td>1.565068</td>\n",
              "      <td>0.382877</td>\n",
              "      <td>2.866438</td>\n",
              "      <td>1.046575</td>\n",
              "      <td>6.517808</td>\n",
              "      <td>0.613014</td>\n",
              "      <td>1978.506164</td>\n",
              "      <td>1.767123</td>\n",
              "      <td>472.980137</td>\n",
              "      <td>94.244521</td>\n",
              "      <td>46.660274</td>\n",
              "      <td>21.954110</td>\n",
              "      <td>3.409589</td>\n",
              "      <td>15.060959</td>\n",
              "      <td>2.758904</td>\n",
              "      <td>43.489041</td>\n",
              "      <td>6.321918</td>\n",
              "      <td>2007.815753</td>\n",
              "      <td>180921.195890</td>\n",
              "    </tr>\n",
              "    <tr>\n",
              "      <th>std</th>\n",
              "      <td>421.610009</td>\n",
              "      <td>42.300571</td>\n",
              "      <td>24.284752</td>\n",
              "      <td>9981.264932</td>\n",
              "      <td>1.382997</td>\n",
              "      <td>1.112799</td>\n",
              "      <td>30.202904</td>\n",
              "      <td>20.645407</td>\n",
              "      <td>181.066207</td>\n",
              "      <td>456.098091</td>\n",
              "      <td>161.319273</td>\n",
              "      <td>441.866955</td>\n",
              "      <td>438.705324</td>\n",
              "      <td>386.587738</td>\n",
              "      <td>436.528436</td>\n",
              "      <td>48.623081</td>\n",
              "      <td>525.480383</td>\n",
              "      <td>0.518911</td>\n",
              "      <td>0.238753</td>\n",
              "      <td>0.550916</td>\n",
              "      <td>0.502885</td>\n",
              "      <td>0.815778</td>\n",
              "      <td>0.220338</td>\n",
              "      <td>1.625393</td>\n",
              "      <td>0.644666</td>\n",
              "      <td>24.689725</td>\n",
              "      <td>0.747315</td>\n",
              "      <td>213.804841</td>\n",
              "      <td>125.338794</td>\n",
              "      <td>66.256028</td>\n",
              "      <td>61.119149</td>\n",
              "      <td>29.317331</td>\n",
              "      <td>55.757415</td>\n",
              "      <td>40.177307</td>\n",
              "      <td>496.123024</td>\n",
              "      <td>2.703626</td>\n",
              "      <td>1.328095</td>\n",
              "      <td>79442.502883</td>\n",
              "    </tr>\n",
              "    <tr>\n",
              "      <th>min</th>\n",
              "      <td>1.000000</td>\n",
              "      <td>20.000000</td>\n",
              "      <td>21.000000</td>\n",
              "      <td>1300.000000</td>\n",
              "      <td>1.000000</td>\n",
              "      <td>1.000000</td>\n",
              "      <td>1872.000000</td>\n",
              "      <td>1950.000000</td>\n",
              "      <td>0.000000</td>\n",
              "      <td>0.000000</td>\n",
              "      <td>0.000000</td>\n",
              "      <td>0.000000</td>\n",
              "      <td>0.000000</td>\n",
              "      <td>334.000000</td>\n",
              "      <td>0.000000</td>\n",
              "      <td>0.000000</td>\n",
              "      <td>334.000000</td>\n",
              "      <td>0.000000</td>\n",
              "      <td>0.000000</td>\n",
              "      <td>0.000000</td>\n",
              "      <td>0.000000</td>\n",
              "      <td>0.000000</td>\n",
              "      <td>0.000000</td>\n",
              "      <td>2.000000</td>\n",
              "      <td>0.000000</td>\n",
              "      <td>1900.000000</td>\n",
              "      <td>0.000000</td>\n",
              "      <td>0.000000</td>\n",
              "      <td>0.000000</td>\n",
              "      <td>0.000000</td>\n",
              "      <td>0.000000</td>\n",
              "      <td>0.000000</td>\n",
              "      <td>0.000000</td>\n",
              "      <td>0.000000</td>\n",
              "      <td>0.000000</td>\n",
              "      <td>1.000000</td>\n",
              "      <td>2006.000000</td>\n",
              "      <td>34900.000000</td>\n",
              "    </tr>\n",
              "    <tr>\n",
              "      <th>25%</th>\n",
              "      <td>365.750000</td>\n",
              "      <td>20.000000</td>\n",
              "      <td>59.000000</td>\n",
              "      <td>7553.500000</td>\n",
              "      <td>5.000000</td>\n",
              "      <td>5.000000</td>\n",
              "      <td>1954.000000</td>\n",
              "      <td>1967.000000</td>\n",
              "      <td>0.000000</td>\n",
              "      <td>0.000000</td>\n",
              "      <td>0.000000</td>\n",
              "      <td>223.000000</td>\n",
              "      <td>795.750000</td>\n",
              "      <td>882.000000</td>\n",
              "      <td>0.000000</td>\n",
              "      <td>0.000000</td>\n",
              "      <td>1129.500000</td>\n",
              "      <td>0.000000</td>\n",
              "      <td>0.000000</td>\n",
              "      <td>1.000000</td>\n",
              "      <td>0.000000</td>\n",
              "      <td>2.000000</td>\n",
              "      <td>1.000000</td>\n",
              "      <td>5.000000</td>\n",
              "      <td>0.000000</td>\n",
              "      <td>1961.000000</td>\n",
              "      <td>1.000000</td>\n",
              "      <td>334.500000</td>\n",
              "      <td>0.000000</td>\n",
              "      <td>0.000000</td>\n",
              "      <td>0.000000</td>\n",
              "      <td>0.000000</td>\n",
              "      <td>0.000000</td>\n",
              "      <td>0.000000</td>\n",
              "      <td>0.000000</td>\n",
              "      <td>5.000000</td>\n",
              "      <td>2007.000000</td>\n",
              "      <td>129975.000000</td>\n",
              "    </tr>\n",
              "    <tr>\n",
              "      <th>50%</th>\n",
              "      <td>730.500000</td>\n",
              "      <td>50.000000</td>\n",
              "      <td>69.000000</td>\n",
              "      <td>9478.500000</td>\n",
              "      <td>6.000000</td>\n",
              "      <td>5.000000</td>\n",
              "      <td>1973.000000</td>\n",
              "      <td>1994.000000</td>\n",
              "      <td>0.000000</td>\n",
              "      <td>383.500000</td>\n",
              "      <td>0.000000</td>\n",
              "      <td>477.500000</td>\n",
              "      <td>991.500000</td>\n",
              "      <td>1087.000000</td>\n",
              "      <td>0.000000</td>\n",
              "      <td>0.000000</td>\n",
              "      <td>1464.000000</td>\n",
              "      <td>0.000000</td>\n",
              "      <td>0.000000</td>\n",
              "      <td>2.000000</td>\n",
              "      <td>0.000000</td>\n",
              "      <td>3.000000</td>\n",
              "      <td>1.000000</td>\n",
              "      <td>6.000000</td>\n",
              "      <td>1.000000</td>\n",
              "      <td>1980.000000</td>\n",
              "      <td>2.000000</td>\n",
              "      <td>480.000000</td>\n",
              "      <td>0.000000</td>\n",
              "      <td>25.000000</td>\n",
              "      <td>0.000000</td>\n",
              "      <td>0.000000</td>\n",
              "      <td>0.000000</td>\n",
              "      <td>0.000000</td>\n",
              "      <td>0.000000</td>\n",
              "      <td>6.000000</td>\n",
              "      <td>2008.000000</td>\n",
              "      <td>163000.000000</td>\n",
              "    </tr>\n",
              "    <tr>\n",
              "      <th>75%</th>\n",
              "      <td>1095.250000</td>\n",
              "      <td>70.000000</td>\n",
              "      <td>80.000000</td>\n",
              "      <td>11601.500000</td>\n",
              "      <td>7.000000</td>\n",
              "      <td>6.000000</td>\n",
              "      <td>2000.000000</td>\n",
              "      <td>2004.000000</td>\n",
              "      <td>166.000000</td>\n",
              "      <td>712.250000</td>\n",
              "      <td>0.000000</td>\n",
              "      <td>808.000000</td>\n",
              "      <td>1298.250000</td>\n",
              "      <td>1391.250000</td>\n",
              "      <td>728.000000</td>\n",
              "      <td>0.000000</td>\n",
              "      <td>1776.750000</td>\n",
              "      <td>1.000000</td>\n",
              "      <td>0.000000</td>\n",
              "      <td>2.000000</td>\n",
              "      <td>1.000000</td>\n",
              "      <td>3.000000</td>\n",
              "      <td>1.000000</td>\n",
              "      <td>7.000000</td>\n",
              "      <td>1.000000</td>\n",
              "      <td>2002.000000</td>\n",
              "      <td>2.000000</td>\n",
              "      <td>576.000000</td>\n",
              "      <td>168.000000</td>\n",
              "      <td>68.000000</td>\n",
              "      <td>0.000000</td>\n",
              "      <td>0.000000</td>\n",
              "      <td>0.000000</td>\n",
              "      <td>0.000000</td>\n",
              "      <td>0.000000</td>\n",
              "      <td>8.000000</td>\n",
              "      <td>2009.000000</td>\n",
              "      <td>214000.000000</td>\n",
              "    </tr>\n",
              "    <tr>\n",
              "      <th>max</th>\n",
              "      <td>1460.000000</td>\n",
              "      <td>190.000000</td>\n",
              "      <td>313.000000</td>\n",
              "      <td>215245.000000</td>\n",
              "      <td>10.000000</td>\n",
              "      <td>9.000000</td>\n",
              "      <td>2010.000000</td>\n",
              "      <td>2010.000000</td>\n",
              "      <td>1600.000000</td>\n",
              "      <td>5644.000000</td>\n",
              "      <td>1474.000000</td>\n",
              "      <td>2336.000000</td>\n",
              "      <td>6110.000000</td>\n",
              "      <td>4692.000000</td>\n",
              "      <td>2065.000000</td>\n",
              "      <td>572.000000</td>\n",
              "      <td>5642.000000</td>\n",
              "      <td>3.000000</td>\n",
              "      <td>2.000000</td>\n",
              "      <td>3.000000</td>\n",
              "      <td>2.000000</td>\n",
              "      <td>8.000000</td>\n",
              "      <td>3.000000</td>\n",
              "      <td>14.000000</td>\n",
              "      <td>3.000000</td>\n",
              "      <td>2010.000000</td>\n",
              "      <td>4.000000</td>\n",
              "      <td>1418.000000</td>\n",
              "      <td>857.000000</td>\n",
              "      <td>547.000000</td>\n",
              "      <td>552.000000</td>\n",
              "      <td>508.000000</td>\n",
              "      <td>480.000000</td>\n",
              "      <td>738.000000</td>\n",
              "      <td>15500.000000</td>\n",
              "      <td>12.000000</td>\n",
              "      <td>2010.000000</td>\n",
              "      <td>755000.000000</td>\n",
              "    </tr>\n",
              "  </tbody>\n",
              "</table>\n",
              "</div>"
            ],
            "text/plain": [
              "                Id   MSSubClass  ...       YrSold      SalePrice\n",
              "count  1460.000000  1460.000000  ...  1460.000000    1460.000000\n",
              "mean    730.500000    56.897260  ...  2007.815753  180921.195890\n",
              "std     421.610009    42.300571  ...     1.328095   79442.502883\n",
              "min       1.000000    20.000000  ...  2006.000000   34900.000000\n",
              "25%     365.750000    20.000000  ...  2007.000000  129975.000000\n",
              "50%     730.500000    50.000000  ...  2008.000000  163000.000000\n",
              "75%    1095.250000    70.000000  ...  2009.000000  214000.000000\n",
              "max    1460.000000   190.000000  ...  2010.000000  755000.000000\n",
              "\n",
              "[8 rows x 38 columns]"
            ]
          },
          "metadata": {
            "tags": []
          },
          "execution_count": 7
        }
      ]
    },
    {
      "cell_type": "code",
      "metadata": {
        "id": "z4sHtPtnldcC",
        "colab_type": "code",
        "colab": {
          "base_uri": "https://localhost:8080/",
          "height": 170
        },
        "outputId": "3d5c216d-6ee0-427c-fbc9-704769e0d39d"
      },
      "source": [
        "iowa_df['LotArea'].describe()"
      ],
      "execution_count": 8,
      "outputs": [
        {
          "output_type": "execute_result",
          "data": {
            "text/plain": [
              "count      1460.000000\n",
              "mean      10516.828082\n",
              "std        9981.264932\n",
              "min        1300.000000\n",
              "25%        7553.500000\n",
              "50%        9478.500000\n",
              "75%       11601.500000\n",
              "max      215245.000000\n",
              "Name: LotArea, dtype: float64"
            ]
          },
          "metadata": {
            "tags": []
          },
          "execution_count": 8
        }
      ]
    },
    {
      "cell_type": "code",
      "metadata": {
        "id": "0RHOzov_ldl5",
        "colab_type": "code",
        "colab": {
          "base_uri": "https://localhost:8080/",
          "height": 153
        },
        "outputId": "0e3e9a7d-45d8-4af5-849d-f37167dd1f10"
      },
      "source": [
        "# Specific Columns hold specific kinds of data\n",
        "pd.set_option('display.max_rows', 100)\n",
        "# pd.set_option('display.max_rows', 100)\n",
        "# to view a continuous columns types w/o breaks\n",
        "iowa_df.dtypes[:7] \n",
        "# to truncate list to see the 1st 7\n",
        "# iowa_df.dtype() to see all columns"
      ],
      "execution_count": 12,
      "outputs": [
        {
          "output_type": "execute_result",
          "data": {
            "text/plain": [
              "Id               int64\n",
              "MSSubClass       int64\n",
              "MSZoning        object\n",
              "LotFrontage    float64\n",
              "LotArea          int64\n",
              "Street          object\n",
              "Alley           object\n",
              "dtype: object"
            ]
          },
          "metadata": {
            "tags": []
          },
          "execution_count": 12
        }
      ]
    },
    {
      "cell_type": "code",
      "metadata": {
        "id": "NjyebfQClIMO",
        "colab_type": "code",
        "colab": {
          "base_uri": "https://localhost:8080/",
          "height": 173
        },
        "outputId": "875b4364-130f-4978-f87d-05429aa49788"
      },
      "source": [
        "# Look at the first ten rows of the 'BedroomAbvGr' column\n",
        "# Looks like integers to me!\n",
        "iowa_df[['BedroomAbvGr', 'Fireplaces']].sample(4)\n",
        "## [[double square brackets]] is a DataFrame\n",
        "#### This is a way to Call a Column"
      ],
      "execution_count": 15,
      "outputs": [
        {
          "output_type": "execute_result",
          "data": {
            "text/html": [
              "<div>\n",
              "<style scoped>\n",
              "    .dataframe tbody tr th:only-of-type {\n",
              "        vertical-align: middle;\n",
              "    }\n",
              "\n",
              "    .dataframe tbody tr th {\n",
              "        vertical-align: top;\n",
              "    }\n",
              "\n",
              "    .dataframe thead th {\n",
              "        text-align: right;\n",
              "    }\n",
              "</style>\n",
              "<table border=\"1\" class=\"dataframe\">\n",
              "  <thead>\n",
              "    <tr style=\"text-align: right;\">\n",
              "      <th></th>\n",
              "      <th>BedroomAbvGr</th>\n",
              "      <th>Fireplaces</th>\n",
              "    </tr>\n",
              "  </thead>\n",
              "  <tbody>\n",
              "    <tr>\n",
              "      <th>905</th>\n",
              "      <td>3</td>\n",
              "      <td>0</td>\n",
              "    </tr>\n",
              "    <tr>\n",
              "      <th>42</th>\n",
              "      <td>2</td>\n",
              "      <td>0</td>\n",
              "    </tr>\n",
              "    <tr>\n",
              "      <th>1048</th>\n",
              "      <td>3</td>\n",
              "      <td>1</td>\n",
              "    </tr>\n",
              "    <tr>\n",
              "      <th>1110</th>\n",
              "      <td>3</td>\n",
              "      <td>1</td>\n",
              "    </tr>\n",
              "  </tbody>\n",
              "</table>\n",
              "</div>"
            ],
            "text/plain": [
              "      BedroomAbvGr  Fireplaces\n",
              "905              3           0\n",
              "42               2           0\n",
              "1048             3           1\n",
              "1110             3           1"
            ]
          },
          "metadata": {
            "tags": []
          },
          "execution_count": 15
        }
      ]
    },
    {
      "cell_type": "code",
      "metadata": {
        "id": "Fxa0BlKTm1y3",
        "colab_type": "code",
        "colab": {
          "base_uri": "https://localhost:8080/",
          "height": 102
        },
        "outputId": "e5347907-436a-4311-f2b2-6f4355da09ba"
      },
      "source": [
        "# another way to call columns: dot method\n",
        "iowa_df.Fireplaces.sample(4)"
      ],
      "execution_count": 16,
      "outputs": [
        {
          "output_type": "execute_result",
          "data": {
            "text/plain": [
              "609     0\n",
              "684     0\n",
              "1335    1\n",
              "488     1\n",
              "Name: Fireplaces, dtype: int64"
            ]
          },
          "metadata": {
            "tags": []
          },
          "execution_count": 16
        }
      ]
    },
    {
      "cell_type": "code",
      "metadata": {
        "id": "uBpLcDBGm2EL",
        "colab_type": "code",
        "colab": {}
      },
      "source": [
        "# this example shows the reason DOT Method will be DEPRECATED\n",
        "iowa_df['fire places are nice and hot'] = iowa_df['Fireplaces']"
      ],
      "execution_count": 0,
      "outputs": []
    },
    {
      "cell_type": "code",
      "metadata": {
        "id": "rGXw_MzRlIXN",
        "colab_type": "code",
        "colab": {
          "base_uri": "https://localhost:8080/",
          "height": 111
        },
        "outputId": "62fa1932-02eb-4b82-94d1-1aaf585d4d3d"
      },
      "source": [
        "iowa_df[['fire places are nice and hot','Fireplaces', 'BedroomAbvGr']].head(2)"
      ],
      "execution_count": 18,
      "outputs": [
        {
          "output_type": "execute_result",
          "data": {
            "text/html": [
              "<div>\n",
              "<style scoped>\n",
              "    .dataframe tbody tr th:only-of-type {\n",
              "        vertical-align: middle;\n",
              "    }\n",
              "\n",
              "    .dataframe tbody tr th {\n",
              "        vertical-align: top;\n",
              "    }\n",
              "\n",
              "    .dataframe thead th {\n",
              "        text-align: right;\n",
              "    }\n",
              "</style>\n",
              "<table border=\"1\" class=\"dataframe\">\n",
              "  <thead>\n",
              "    <tr style=\"text-align: right;\">\n",
              "      <th></th>\n",
              "      <th>fire places are nice and hot</th>\n",
              "      <th>Fireplaces</th>\n",
              "      <th>BedroomAbvGr</th>\n",
              "    </tr>\n",
              "  </thead>\n",
              "  <tbody>\n",
              "    <tr>\n",
              "      <th>0</th>\n",
              "      <td>0</td>\n",
              "      <td>0</td>\n",
              "      <td>3</td>\n",
              "    </tr>\n",
              "    <tr>\n",
              "      <th>1</th>\n",
              "      <td>1</td>\n",
              "      <td>1</td>\n",
              "      <td>3</td>\n",
              "    </tr>\n",
              "  </tbody>\n",
              "</table>\n",
              "</div>"
            ],
            "text/plain": [
              "   fire places are nice and hot  Fireplaces  BedroomAbvGr\n",
              "0                             0           0             3\n",
              "1                             1           1             3"
            ]
          },
          "metadata": {
            "tags": []
          },
          "execution_count": 18
        }
      ]
    },
    {
      "cell_type": "code",
      "metadata": {
        "id": "sPyvc8TGlIiL",
        "colab_type": "code",
        "colab": {
          "base_uri": "https://localhost:8080/",
          "height": 68
        },
        "outputId": "ad174818-d495-48f4-f969-f222d7d0d6c3"
      },
      "source": [
        "# now using the Dot Method\n",
        "iowa_df.Fireplaces.head(2)\n",
        "# but using the new column heading with spaces \n",
        "# it gives a SyntaxError: invalid syntax\n",
        "# iowa_df.Fireplfire places are nice and hotaces.head(2)"
      ],
      "execution_count": 20,
      "outputs": [
        {
          "output_type": "execute_result",
          "data": {
            "text/plain": [
              "0    0\n",
              "1    1\n",
              "Name: Fireplaces, dtype: int64"
            ]
          },
          "metadata": {
            "tags": []
          },
          "execution_count": 20
        }
      ]
    },
    {
      "cell_type": "code",
      "metadata": {
        "id": "HAOoq-U_qek3",
        "colab_type": "code",
        "colab": {
          "base_uri": "https://localhost:8080/",
          "height": 68
        },
        "outputId": "cc339e3b-a1ba-42e7-fcbb-dd530c538375"
      },
      "source": [
        "# Some Columns hold float values like LotFrontage\n",
        "iowa_df['LotFrontage'].head(2)"
      ],
      "execution_count": 21,
      "outputs": [
        {
          "output_type": "execute_result",
          "data": {
            "text/plain": [
              "0    65.0\n",
              "1    80.0\n",
              "Name: LotFrontage, dtype: float64"
            ]
          },
          "metadata": {
            "tags": []
          },
          "execution_count": 21
        }
      ]
    },
    {
      "cell_type": "code",
      "metadata": {
        "id": "hY0ZZsBwqetZ",
        "colab_type": "code",
        "colab": {
          "base_uri": "https://localhost:8080/",
          "height": 221
        },
        "outputId": "f2c19b37-54ba-45d1-c52c-de005ff2854e"
      },
      "source": [
        "iowa_df['LotFrontage'].value_counts(dropna=False)\n",
        "# dropna = False   to show missing values"
      ],
      "execution_count": 22,
      "outputs": [
        {
          "output_type": "execute_result",
          "data": {
            "text/plain": [
              "NaN      259\n",
              "60.0     143\n",
              "70.0      70\n",
              "80.0      69\n",
              "50.0      57\n",
              "        ... \n",
              "106.0      1\n",
              "38.0       1\n",
              "138.0      1\n",
              "140.0      1\n",
              "137.0      1\n",
              "Name: LotFrontage, Length: 111, dtype: int64"
            ]
          },
          "metadata": {
            "tags": []
          },
          "execution_count": 22
        }
      ]
    },
    {
      "cell_type": "code",
      "metadata": {
        "id": "qaahqMJaqe4B",
        "colab_type": "code",
        "colab": {
          "base_uri": "https://localhost:8080/",
          "height": 34
        },
        "outputId": "f66dae75-5672-4445-ffd5-ad352df37a6f"
      },
      "source": [
        "# NaN are float\n",
        "import numpy as np\n",
        "type(np.NaN)\n",
        "#This is the reason the column has a float type"
      ],
      "execution_count": 25,
      "outputs": [
        {
          "output_type": "execute_result",
          "data": {
            "text/plain": [
              "float"
            ]
          },
          "metadata": {
            "tags": []
          },
          "execution_count": 25
        }
      ]
    },
    {
      "cell_type": "code",
      "metadata": {
        "id": "mxtCuA-oqe-D",
        "colab_type": "code",
        "colab": {
          "base_uri": "https://localhost:8080/",
          "height": 34
        },
        "outputId": "3eac1859-7dd6-46e8-aa6e-980747dd8b9b"
      },
      "source": [
        "# how much missing data \n",
        "iowa_df['LotFrontage'].isnull().sum()"
      ],
      "execution_count": 26,
      "outputs": [
        {
          "output_type": "execute_result",
          "data": {
            "text/plain": [
              "259"
            ]
          },
          "metadata": {
            "tags": []
          },
          "execution_count": 26
        }
      ]
    },
    {
      "cell_type": "code",
      "metadata": {
        "id": "A4DQnjvzsAJq",
        "colab_type": "code",
        "colab": {}
      },
      "source": [
        "# drop missing data\n",
        "iowa_df['LotFrontage'].dropna(inplace=True)\n",
        "# treat missing data differently dependant on case\n",
        "# impute data = insert mean or average to make sense\n",
        "# replace data"
      ],
      "execution_count": 0,
      "outputs": []
    },
    {
      "cell_type": "code",
      "metadata": {
        "id": "0M7Yq2MusARJ",
        "colab_type": "code",
        "colab": {
          "base_uri": "https://localhost:8080/",
          "height": 34
        },
        "outputId": "388db3a9-671a-4259-a2e7-25f83356ac26"
      },
      "source": [
        "# check now how much missing data?\n",
        "iowa_df['LotFrontage'].isnull().sum()"
      ],
      "execution_count": 31,
      "outputs": [
        {
          "output_type": "execute_result",
          "data": {
            "text/plain": [
              "0"
            ]
          },
          "metadata": {
            "tags": []
          },
          "execution_count": 31
        }
      ]
    },
    {
      "cell_type": "code",
      "metadata": {
        "id": "zyF5Nnnjqe0A",
        "colab_type": "code",
        "colab": {
          "base_uri": "https://localhost:8080/",
          "height": 142
        },
        "outputId": "5a934dc1-b89f-4327-f0ab-016c3eefbfc3"
      },
      "source": [
        "### Making New Features\n",
        "# I can make a smaller dataframe with a few specific column headers\n",
        "# by passing a list of column headers inside of the square brackets\n",
        "##### Make sure to use .copy()\n",
        "small_df = iowa_df[['TotalBsmtSF', '1stFlrSF', '2ndFlrSF', 'SalePrice']].copy()\n",
        "small_df.sample(3)"
      ],
      "execution_count": 35,
      "outputs": [
        {
          "output_type": "execute_result",
          "data": {
            "text/html": [
              "<div>\n",
              "<style scoped>\n",
              "    .dataframe tbody tr th:only-of-type {\n",
              "        vertical-align: middle;\n",
              "    }\n",
              "\n",
              "    .dataframe tbody tr th {\n",
              "        vertical-align: top;\n",
              "    }\n",
              "\n",
              "    .dataframe thead th {\n",
              "        text-align: right;\n",
              "    }\n",
              "</style>\n",
              "<table border=\"1\" class=\"dataframe\">\n",
              "  <thead>\n",
              "    <tr style=\"text-align: right;\">\n",
              "      <th></th>\n",
              "      <th>TotalBsmtSF</th>\n",
              "      <th>1stFlrSF</th>\n",
              "      <th>2ndFlrSF</th>\n",
              "      <th>SalePrice</th>\n",
              "    </tr>\n",
              "  </thead>\n",
              "  <tbody>\n",
              "    <tr>\n",
              "      <th>1326</th>\n",
              "      <td>544</td>\n",
              "      <td>774</td>\n",
              "      <td>0</td>\n",
              "      <td>79000</td>\n",
              "    </tr>\n",
              "    <tr>\n",
              "      <th>115</th>\n",
              "      <td>729</td>\n",
              "      <td>729</td>\n",
              "      <td>729</td>\n",
              "      <td>176000</td>\n",
              "    </tr>\n",
              "    <tr>\n",
              "      <th>1185</th>\n",
              "      <td>784</td>\n",
              "      <td>949</td>\n",
              "      <td>272</td>\n",
              "      <td>104900</td>\n",
              "    </tr>\n",
              "  </tbody>\n",
              "</table>\n",
              "</div>"
            ],
            "text/plain": [
              "      TotalBsmtSF  1stFlrSF  2ndFlrSF  SalePrice\n",
              "1326          544       774         0      79000\n",
              "115           729       729       729     176000\n",
              "1185          784       949       272     104900"
            ]
          },
          "metadata": {
            "tags": []
          },
          "execution_count": 35
        }
      ]
    },
    {
      "cell_type": "code",
      "metadata": {
        "id": "qZGA9DomssRl",
        "colab_type": "code",
        "colab": {}
      },
      "source": [
        "# Addding all the square footage to get a New 'TotalSquareFootage' column\n",
        "small_df['TotalSquareFootage'] = iowa_df['TotalBsmtSF'] + iowa_df['1stFlrSF'] + iowa_df['2ndFlrSF']"
      ],
      "execution_count": 0,
      "outputs": []
    },
    {
      "cell_type": "code",
      "metadata": {
        "id": "vwAibHaMssYA",
        "colab_type": "code",
        "colab": {
          "base_uri": "https://localhost:8080/",
          "height": 142
        },
        "outputId": "b038ccc4-41ee-4954-a0cd-cefa997c8a1f"
      },
      "source": [
        "# Figure out the PricePerSqFt\n",
        "small_df['PricePerSF'] = small_df['SalePrice'] / small_df['TotalSquareFootage']\n",
        "small_df.head(3)"
      ],
      "execution_count": 37,
      "outputs": [
        {
          "output_type": "execute_result",
          "data": {
            "text/html": [
              "<div>\n",
              "<style scoped>\n",
              "    .dataframe tbody tr th:only-of-type {\n",
              "        vertical-align: middle;\n",
              "    }\n",
              "\n",
              "    .dataframe tbody tr th {\n",
              "        vertical-align: top;\n",
              "    }\n",
              "\n",
              "    .dataframe thead th {\n",
              "        text-align: right;\n",
              "    }\n",
              "</style>\n",
              "<table border=\"1\" class=\"dataframe\">\n",
              "  <thead>\n",
              "    <tr style=\"text-align: right;\">\n",
              "      <th></th>\n",
              "      <th>TotalBsmtSF</th>\n",
              "      <th>1stFlrSF</th>\n",
              "      <th>2ndFlrSF</th>\n",
              "      <th>SalePrice</th>\n",
              "      <th>TotalSquareFootage</th>\n",
              "      <th>PricePerSF</th>\n",
              "    </tr>\n",
              "  </thead>\n",
              "  <tbody>\n",
              "    <tr>\n",
              "      <th>0</th>\n",
              "      <td>856</td>\n",
              "      <td>856</td>\n",
              "      <td>854</td>\n",
              "      <td>208500</td>\n",
              "      <td>2566</td>\n",
              "      <td>81.254871</td>\n",
              "    </tr>\n",
              "    <tr>\n",
              "      <th>1</th>\n",
              "      <td>1262</td>\n",
              "      <td>1262</td>\n",
              "      <td>0</td>\n",
              "      <td>181500</td>\n",
              "      <td>2524</td>\n",
              "      <td>71.909667</td>\n",
              "    </tr>\n",
              "    <tr>\n",
              "      <th>2</th>\n",
              "      <td>920</td>\n",
              "      <td>920</td>\n",
              "      <td>866</td>\n",
              "      <td>223500</td>\n",
              "      <td>2706</td>\n",
              "      <td>82.594235</td>\n",
              "    </tr>\n",
              "  </tbody>\n",
              "</table>\n",
              "</div>"
            ],
            "text/plain": [
              "   TotalBsmtSF  1stFlrSF  2ndFlrSF  SalePrice  TotalSquareFootage  PricePerSF\n",
              "0          856       856       854     208500                2566   81.254871\n",
              "1         1262      1262         0     181500                2524   71.909667\n",
              "2          920       920       866     223500                2706   82.594235"
            ]
          },
          "metadata": {
            "tags": []
          },
          "execution_count": 37
        }
      ]
    },
    {
      "cell_type": "code",
      "metadata": {
        "id": "xEnm12o_ssie",
        "colab_type": "code",
        "colab": {
          "base_uri": "https://localhost:8080/",
          "height": 323
        },
        "outputId": "b0a793e1-d9e6-4187-9898-ab89d3b12c87"
      },
      "source": [
        "## crosstabs with dataframe\n",
        "iowa_df.columns"
      ],
      "execution_count": 38,
      "outputs": [
        {
          "output_type": "execute_result",
          "data": {
            "text/plain": [
              "Index(['Id', 'MSSubClass', 'MSZoning', 'LotFrontage', 'LotArea', 'Street',\n",
              "       'Alley', 'LotShape', 'LandContour', 'Utilities', 'LotConfig',\n",
              "       'LandSlope', 'Neighborhood', 'Condition1', 'Condition2', 'BldgType',\n",
              "       'HouseStyle', 'OverallQual', 'OverallCond', 'YearBuilt', 'YearRemodAdd',\n",
              "       'RoofStyle', 'RoofMatl', 'Exterior1st', 'Exterior2nd', 'MasVnrType',\n",
              "       'MasVnrArea', 'ExterQual', 'ExterCond', 'Foundation', 'BsmtQual',\n",
              "       'BsmtCond', 'BsmtExposure', 'BsmtFinType1', 'BsmtFinSF1',\n",
              "       'BsmtFinType2', 'BsmtFinSF2', 'BsmtUnfSF', 'TotalBsmtSF', 'Heating',\n",
              "       'HeatingQC', 'CentralAir', 'Electrical', '1stFlrSF', '2ndFlrSF',\n",
              "       'LowQualFinSF', 'GrLivArea', 'BsmtFullBath', 'BsmtHalfBath', 'FullBath',\n",
              "       'HalfBath', 'BedroomAbvGr', 'KitchenAbvGr', 'KitchenQual',\n",
              "       'TotRmsAbvGrd', 'Functional', 'Fireplaces', 'FireplaceQu', 'GarageType',\n",
              "       'GarageYrBlt', 'GarageFinish', 'GarageCars', 'GarageArea', 'GarageQual',\n",
              "       'GarageCond', 'PavedDrive', 'WoodDeckSF', 'OpenPorchSF',\n",
              "       'EnclosedPorch', '3SsnPorch', 'ScreenPorch', 'PoolArea', 'PoolQC',\n",
              "       'Fence', 'MiscFeature', 'MiscVal', 'MoSold', 'YrSold', 'SaleType',\n",
              "       'SaleCondition', 'SalePrice', 'fire places are nice and hot'],\n",
              "      dtype='object')"
            ]
          },
          "metadata": {
            "tags": []
          },
          "execution_count": 38
        }
      ]
    },
    {
      "cell_type": "code",
      "metadata": {
        "id": "2dFs1zPpxQ-A",
        "colab_type": "code",
        "colab": {
          "base_uri": "https://localhost:8080/",
          "height": 204
        },
        "outputId": "a8213920-c97e-4e15-f5b5-dbcbc1183bff"
      },
      "source": [
        "# what are some categorical columns?\n",
        "iowa_df[['LotShape','Alley', 'Street', 'SaleCondition']].head()"
      ],
      "execution_count": 40,
      "outputs": [
        {
          "output_type": "execute_result",
          "data": {
            "text/html": [
              "<div>\n",
              "<style scoped>\n",
              "    .dataframe tbody tr th:only-of-type {\n",
              "        vertical-align: middle;\n",
              "    }\n",
              "\n",
              "    .dataframe tbody tr th {\n",
              "        vertical-align: top;\n",
              "    }\n",
              "\n",
              "    .dataframe thead th {\n",
              "        text-align: right;\n",
              "    }\n",
              "</style>\n",
              "<table border=\"1\" class=\"dataframe\">\n",
              "  <thead>\n",
              "    <tr style=\"text-align: right;\">\n",
              "      <th></th>\n",
              "      <th>LotShape</th>\n",
              "      <th>Alley</th>\n",
              "      <th>Street</th>\n",
              "      <th>SaleCondition</th>\n",
              "    </tr>\n",
              "  </thead>\n",
              "  <tbody>\n",
              "    <tr>\n",
              "      <th>0</th>\n",
              "      <td>Reg</td>\n",
              "      <td>NaN</td>\n",
              "      <td>Pave</td>\n",
              "      <td>Normal</td>\n",
              "    </tr>\n",
              "    <tr>\n",
              "      <th>1</th>\n",
              "      <td>Reg</td>\n",
              "      <td>NaN</td>\n",
              "      <td>Pave</td>\n",
              "      <td>Normal</td>\n",
              "    </tr>\n",
              "    <tr>\n",
              "      <th>2</th>\n",
              "      <td>IR1</td>\n",
              "      <td>NaN</td>\n",
              "      <td>Pave</td>\n",
              "      <td>Normal</td>\n",
              "    </tr>\n",
              "    <tr>\n",
              "      <th>3</th>\n",
              "      <td>IR1</td>\n",
              "      <td>NaN</td>\n",
              "      <td>Pave</td>\n",
              "      <td>Abnorml</td>\n",
              "    </tr>\n",
              "    <tr>\n",
              "      <th>4</th>\n",
              "      <td>IR1</td>\n",
              "      <td>NaN</td>\n",
              "      <td>Pave</td>\n",
              "      <td>Normal</td>\n",
              "    </tr>\n",
              "  </tbody>\n",
              "</table>\n",
              "</div>"
            ],
            "text/plain": [
              "  LotShape Alley Street SaleCondition\n",
              "0      Reg   NaN   Pave        Normal\n",
              "1      Reg   NaN   Pave        Normal\n",
              "2      IR1   NaN   Pave        Normal\n",
              "3      IR1   NaN   Pave       Abnorml\n",
              "4      IR1   NaN   Pave        Normal"
            ]
          },
          "metadata": {
            "tags": []
          },
          "execution_count": 40
        }
      ]
    },
    {
      "cell_type": "code",
      "metadata": {
        "id": "f6oaU9L5xRJ_",
        "colab_type": "code",
        "colab": {
          "base_uri": "https://localhost:8080/",
          "height": 136
        },
        "outputId": "7452c949-3eb5-4d8b-e0ad-258e36a1795b"
      },
      "source": [
        "# values of sale condition\n",
        "iowa_df['SaleCondition'].value_counts()"
      ],
      "execution_count": 41,
      "outputs": [
        {
          "output_type": "execute_result",
          "data": {
            "text/plain": [
              "Normal     1198\n",
              "Partial     125\n",
              "Abnorml     101\n",
              "Family       20\n",
              "Alloca       12\n",
              "AdjLand       4\n",
              "Name: SaleCondition, dtype: int64"
            ]
          },
          "metadata": {
            "tags": []
          },
          "execution_count": 41
        }
      ]
    },
    {
      "cell_type": "code",
      "metadata": {
        "id": "JS2XJamJsspb",
        "colab_type": "code",
        "colab": {
          "base_uri": "https://localhost:8080/",
          "height": 68
        },
        "outputId": "4698c43b-dcf4-4dcd-9937-68b4ef92eed9"
      },
      "source": [
        "# create a new categorical variable\n",
        "# Assign Values for 2 different VALUES like 'yes' and 'no'\n",
        "### Normal  1198\n",
        "### everything else\n",
        "iowa_df['NormalCondition'] = np.where(iowa_df['SaleCondition']=='Normal', 'Yes', 'No')\n",
        "iowa_df['NormalCondition'].value_counts()"
      ],
      "execution_count": 42,
      "outputs": [
        {
          "output_type": "execute_result",
          "data": {
            "text/plain": [
              "Yes    1198\n",
              "No      262\n",
              "Name: NormalCondition, dtype: int64"
            ]
          },
          "metadata": {
            "tags": []
          },
          "execution_count": 42
        }
      ]
    },
    {
      "cell_type": "code",
      "metadata": {
        "id": "qKmp01e3ssfG",
        "colab_type": "code",
        "colab": {
          "base_uri": "https://localhost:8080/",
          "height": 102
        },
        "outputId": "3cf7093b-65d2-40dc-ddac-74038283f684"
      },
      "source": [
        "# value counts of a categorical variable\n",
        "iowa_df['LotShape'].value_counts()"
      ],
      "execution_count": 43,
      "outputs": [
        {
          "output_type": "execute_result",
          "data": {
            "text/plain": [
              "Reg    925\n",
              "IR1    484\n",
              "IR2     41\n",
              "IR3     10\n",
              "Name: LotShape, dtype: int64"
            ]
          },
          "metadata": {
            "tags": []
          },
          "execution_count": 43
        }
      ]
    },
    {
      "cell_type": "code",
      "metadata": {
        "id": "7g-55sa-dB36",
        "colab_type": "code",
        "colab": {}
      },
      "source": [
        "# Map this from four down to 3 values\n",
        "# Map is good for multiple value\n",
        "iowa_df['LotShape3'] = iowa_df['LotShape'].map({'Reg':'Regular',\n",
        "                                                'IR1':'Irregular',\n",
        "                                                'IR2':'Other',\n",
        "                                                'IR3':'Other'})"
      ],
      "execution_count": 0,
      "outputs": []
    },
    {
      "cell_type": "code",
      "metadata": {
        "id": "wNFk8gVwdCEj",
        "colab_type": "code",
        "colab": {
          "base_uri": "https://localhost:8080/",
          "height": 85
        },
        "outputId": "85fba0c4-eb5d-4cec-f375-f8f585bae5d9"
      },
      "source": [
        " # values - check mapping\n",
        " iowa_df['LotShape3'].value_counts()"
      ],
      "execution_count": 46,
      "outputs": [
        {
          "output_type": "execute_result",
          "data": {
            "text/plain": [
              "Regular      925\n",
              "Irregular    484\n",
              "Other         51\n",
              "Name: LotShape3, dtype: int64"
            ]
          },
          "metadata": {
            "tags": []
          },
          "execution_count": 46
        }
      ]
    },
    {
      "cell_type": "code",
      "metadata": {
        "id": "QOkovCN-dCRO",
        "colab_type": "code",
        "colab": {
          "base_uri": "https://localhost:8080/",
          "height": 102
        },
        "outputId": "0cb701f3-11de-48c7-f106-943f71d4c334"
      },
      "source": [
        "# value counts of a categorical variable\n",
        "# Note the original col still contain the original values\n",
        "iowa_df['LotShape'].value_counts()"
      ],
      "execution_count": 47,
      "outputs": [
        {
          "output_type": "execute_result",
          "data": {
            "text/plain": [
              "Reg    925\n",
              "IR1    484\n",
              "IR2     41\n",
              "IR3     10\n",
              "Name: LotShape, dtype: int64"
            ]
          },
          "metadata": {
            "tags": []
          },
          "execution_count": 47
        }
      ]
    },
    {
      "cell_type": "code",
      "metadata": {
        "id": "zKEfn-w5fCgg",
        "colab_type": "code",
        "colab": {
          "base_uri": "https://localhost:8080/",
          "height": 136
        },
        "outputId": "ab124198-467b-4a2b-85ea-3102d60c9d3c"
      },
      "source": [
        "# one more way to map categorical variables\n",
        "# for many values like 50 different options\n",
        "iowa_df['Neighborhood'].value_counts()\n",
        "iowa_df['Neighborhood'].value_counts().head(6) # comment this out to see the rest of the values"
      ],
      "execution_count": 51,
      "outputs": [
        {
          "output_type": "execute_result",
          "data": {
            "text/plain": [
              "NAmes      225\n",
              "CollgCr    150\n",
              "OldTown    113\n",
              "Edwards    100\n",
              "Somerst     86\n",
              "Gilbert     79\n",
              "Name: Neighborhood, dtype: int64"
            ]
          },
          "metadata": {
            "tags": []
          },
          "execution_count": 51
        }
      ]
    },
    {
      "cell_type": "code",
      "metadata": {
        "id": "UtLtn3tzfCsi",
        "colab_type": "code",
        "colab": {
          "base_uri": "https://localhost:8080/",
          "height": 102
        },
        "outputId": "05c09304-5730-4a59-9f32-0925c5d82bcf"
      },
      "source": [
        "iowa_df['top_neighbors'] = 'All other'  # this is a default value for all\n",
        "# these are filter to catch the TOP NEIGHBORHOOD\n",
        "iowa_df.loc[iowa_df['Neighborhood']=='NAmes', 'top_neighbors']='north ames neighbors'\n",
        "iowa_df.loc[iowa_df['Neighborhood']=='CollgCr', 'top_neighbors']='creek neighbors'\n",
        "iowa_df.loc[iowa_df['Neighborhood']=='Gilbert', 'top_neighbors']='gilbert neighbors'\n",
        "iowa_df['top_neighbors'].value_counts()"
      ],
      "execution_count": 56,
      "outputs": [
        {
          "output_type": "execute_result",
          "data": {
            "text/plain": [
              "All other               1006\n",
              "north ames neighbors     225\n",
              "creek neighbors          150\n",
              "gilbert neighbors         79\n",
              "Name: top_neighbors, dtype: int64"
            ]
          },
          "metadata": {
            "tags": []
          },
          "execution_count": 56
        }
      ]
    },
    {
      "cell_type": "code",
      "metadata": {
        "id": "UyRkki-afC3e",
        "colab_type": "code",
        "colab": {
          "base_uri": "https://localhost:8080/",
          "height": 204
        },
        "outputId": "0bbcc33b-9781-4d44-d8bb-76fd2c176a08"
      },
      "source": [
        "# crosstab\n",
        "pd.crosstab(iowa_df['top_neighbors'], iowa_df['LotShape3'])"
      ],
      "execution_count": 57,
      "outputs": [
        {
          "output_type": "execute_result",
          "data": {
            "text/html": [
              "<div>\n",
              "<style scoped>\n",
              "    .dataframe tbody tr th:only-of-type {\n",
              "        vertical-align: middle;\n",
              "    }\n",
              "\n",
              "    .dataframe tbody tr th {\n",
              "        vertical-align: top;\n",
              "    }\n",
              "\n",
              "    .dataframe thead th {\n",
              "        text-align: right;\n",
              "    }\n",
              "</style>\n",
              "<table border=\"1\" class=\"dataframe\">\n",
              "  <thead>\n",
              "    <tr style=\"text-align: right;\">\n",
              "      <th>LotShape3</th>\n",
              "      <th>Irregular</th>\n",
              "      <th>Other</th>\n",
              "      <th>Regular</th>\n",
              "    </tr>\n",
              "    <tr>\n",
              "      <th>top_neighbors</th>\n",
              "      <th></th>\n",
              "      <th></th>\n",
              "      <th></th>\n",
              "    </tr>\n",
              "  </thead>\n",
              "  <tbody>\n",
              "    <tr>\n",
              "      <th>All other</th>\n",
              "      <td>312</td>\n",
              "      <td>27</td>\n",
              "      <td>667</td>\n",
              "    </tr>\n",
              "    <tr>\n",
              "      <th>creek neighbors</th>\n",
              "      <td>53</td>\n",
              "      <td>11</td>\n",
              "      <td>86</td>\n",
              "    </tr>\n",
              "    <tr>\n",
              "      <th>gilbert neighbors</th>\n",
              "      <td>53</td>\n",
              "      <td>11</td>\n",
              "      <td>15</td>\n",
              "    </tr>\n",
              "    <tr>\n",
              "      <th>north ames neighbors</th>\n",
              "      <td>66</td>\n",
              "      <td>2</td>\n",
              "      <td>157</td>\n",
              "    </tr>\n",
              "  </tbody>\n",
              "</table>\n",
              "</div>"
            ],
            "text/plain": [
              "LotShape3             Irregular  Other  Regular\n",
              "top_neighbors                                  \n",
              "All other                   312     27      667\n",
              "creek neighbors              53     11       86\n",
              "gilbert neighbors            53     11       15\n",
              "north ames neighbors         66      2      157"
            ]
          },
          "metadata": {
            "tags": []
          },
          "execution_count": 57
        }
      ]
    },
    {
      "cell_type": "code",
      "metadata": {
        "id": "GNDsBvWydCcp",
        "colab_type": "code",
        "colab": {
          "base_uri": "https://localhost:8080/",
          "height": 235
        },
        "outputId": "7bcd193b-bd2a-45c9-96c3-5f2ebeac2745"
      },
      "source": [
        "# margins - option to crosstabs\n",
        "pd.crosstab(iowa_df['top_neighbors'], iowa_df['LotShape3'], margins=True)"
      ],
      "execution_count": 58,
      "outputs": [
        {
          "output_type": "execute_result",
          "data": {
            "text/html": [
              "<div>\n",
              "<style scoped>\n",
              "    .dataframe tbody tr th:only-of-type {\n",
              "        vertical-align: middle;\n",
              "    }\n",
              "\n",
              "    .dataframe tbody tr th {\n",
              "        vertical-align: top;\n",
              "    }\n",
              "\n",
              "    .dataframe thead th {\n",
              "        text-align: right;\n",
              "    }\n",
              "</style>\n",
              "<table border=\"1\" class=\"dataframe\">\n",
              "  <thead>\n",
              "    <tr style=\"text-align: right;\">\n",
              "      <th>LotShape3</th>\n",
              "      <th>Irregular</th>\n",
              "      <th>Other</th>\n",
              "      <th>Regular</th>\n",
              "      <th>All</th>\n",
              "    </tr>\n",
              "    <tr>\n",
              "      <th>top_neighbors</th>\n",
              "      <th></th>\n",
              "      <th></th>\n",
              "      <th></th>\n",
              "      <th></th>\n",
              "    </tr>\n",
              "  </thead>\n",
              "  <tbody>\n",
              "    <tr>\n",
              "      <th>All other</th>\n",
              "      <td>312</td>\n",
              "      <td>27</td>\n",
              "      <td>667</td>\n",
              "      <td>1006</td>\n",
              "    </tr>\n",
              "    <tr>\n",
              "      <th>creek neighbors</th>\n",
              "      <td>53</td>\n",
              "      <td>11</td>\n",
              "      <td>86</td>\n",
              "      <td>150</td>\n",
              "    </tr>\n",
              "    <tr>\n",
              "      <th>gilbert neighbors</th>\n",
              "      <td>53</td>\n",
              "      <td>11</td>\n",
              "      <td>15</td>\n",
              "      <td>79</td>\n",
              "    </tr>\n",
              "    <tr>\n",
              "      <th>north ames neighbors</th>\n",
              "      <td>66</td>\n",
              "      <td>2</td>\n",
              "      <td>157</td>\n",
              "      <td>225</td>\n",
              "    </tr>\n",
              "    <tr>\n",
              "      <th>All</th>\n",
              "      <td>484</td>\n",
              "      <td>51</td>\n",
              "      <td>925</td>\n",
              "      <td>1460</td>\n",
              "    </tr>\n",
              "  </tbody>\n",
              "</table>\n",
              "</div>"
            ],
            "text/plain": [
              "LotShape3             Irregular  Other  Regular   All\n",
              "top_neighbors                                        \n",
              "All other                   312     27      667  1006\n",
              "creek neighbors              53     11       86   150\n",
              "gilbert neighbors            53     11       15    79\n",
              "north ames neighbors         66      2      157   225\n",
              "All                         484     51      925  1460"
            ]
          },
          "metadata": {
            "tags": []
          },
          "execution_count": 58
        }
      ]
    },
    {
      "cell_type": "code",
      "metadata": {
        "id": "RplvwfVDm9az",
        "colab_type": "code",
        "colab": {
          "base_uri": "https://localhost:8080/",
          "height": 235
        },
        "outputId": "770d8d5e-4528-44a3-8522-3a7882d0414b"
      },
      "source": [
        "# as proportions (percentages)\n",
        "pd.crosstab(iowa_df['top_neighbors'], iowa_df['LotShape3'], normalize='index', margins=True)"
      ],
      "execution_count": 61,
      "outputs": [
        {
          "output_type": "execute_result",
          "data": {
            "text/html": [
              "<div>\n",
              "<style scoped>\n",
              "    .dataframe tbody tr th:only-of-type {\n",
              "        vertical-align: middle;\n",
              "    }\n",
              "\n",
              "    .dataframe tbody tr th {\n",
              "        vertical-align: top;\n",
              "    }\n",
              "\n",
              "    .dataframe thead th {\n",
              "        text-align: right;\n",
              "    }\n",
              "</style>\n",
              "<table border=\"1\" class=\"dataframe\">\n",
              "  <thead>\n",
              "    <tr style=\"text-align: right;\">\n",
              "      <th>LotShape3</th>\n",
              "      <th>Irregular</th>\n",
              "      <th>Other</th>\n",
              "      <th>Regular</th>\n",
              "    </tr>\n",
              "    <tr>\n",
              "      <th>top_neighbors</th>\n",
              "      <th></th>\n",
              "      <th></th>\n",
              "      <th></th>\n",
              "    </tr>\n",
              "  </thead>\n",
              "  <tbody>\n",
              "    <tr>\n",
              "      <th>All other</th>\n",
              "      <td>0.310139</td>\n",
              "      <td>0.026839</td>\n",
              "      <td>0.663022</td>\n",
              "    </tr>\n",
              "    <tr>\n",
              "      <th>creek neighbors</th>\n",
              "      <td>0.353333</td>\n",
              "      <td>0.073333</td>\n",
              "      <td>0.573333</td>\n",
              "    </tr>\n",
              "    <tr>\n",
              "      <th>gilbert neighbors</th>\n",
              "      <td>0.670886</td>\n",
              "      <td>0.139241</td>\n",
              "      <td>0.189873</td>\n",
              "    </tr>\n",
              "    <tr>\n",
              "      <th>north ames neighbors</th>\n",
              "      <td>0.293333</td>\n",
              "      <td>0.008889</td>\n",
              "      <td>0.697778</td>\n",
              "    </tr>\n",
              "    <tr>\n",
              "      <th>All</th>\n",
              "      <td>0.331507</td>\n",
              "      <td>0.034932</td>\n",
              "      <td>0.633562</td>\n",
              "    </tr>\n",
              "  </tbody>\n",
              "</table>\n",
              "</div>"
            ],
            "text/plain": [
              "LotShape3             Irregular     Other   Regular\n",
              "top_neighbors                                      \n",
              "All other              0.310139  0.026839  0.663022\n",
              "creek neighbors        0.353333  0.073333  0.573333\n",
              "gilbert neighbors      0.670886  0.139241  0.189873\n",
              "north ames neighbors   0.293333  0.008889  0.697778\n",
              "All                    0.331507  0.034932  0.633562"
            ]
          },
          "metadata": {
            "tags": []
          },
          "execution_count": 61
        }
      ]
    },
    {
      "cell_type": "code",
      "metadata": {
        "id": "CF0uUu0Zm9XO",
        "colab_type": "code",
        "colab": {
          "base_uri": "https://localhost:8080/",
          "height": 384
        },
        "outputId": "d5728fd0-8089-4c50-e849-889cf9c3c535"
      },
      "source": [
        "# display that (as a plot)\n",
        "myresults = pd.crosstab(iowa_df['top_neighbors'], iowa_df['LotShape3'])\n",
        "myresults.plot(kind='bar');"
      ],
      "execution_count": 63,
      "outputs": [
        {
          "output_type": "display_data",
          "data": {
            "image/png": "[encoded data removed]",
            "text/plain": [
              "<Figure size 432x288 with 1 Axes>"
            ]
          },
          "metadata": {
            "tags": []
          }
        }
      ]
    },
    {
      "cell_type": "code",
      "metadata": {
        "id": "xQ2f7mvDm9Rs",
        "colab_type": "code",
        "colab": {
          "base_uri": "https://localhost:8080/",
          "height": 265
        },
        "outputId": "3e117f2e-0899-4440-e68f-5f027f6e7abf"
      },
      "source": [
        "# display that (as a plot)\n",
        "myresults = pd.crosstab(iowa_df['LotShape3'], iowa_df['top_neighbors'])\n",
        "myresults.plot(kind='barh');"
      ],
      "execution_count": 64,
      "outputs": [
        {
          "output_type": "display_data",
          "data": {
            "image/png": "[encoded data removed]",
            "text/plain": [
              "<Figure size 432x288 with 1 Axes>"
            ]
          },
          "metadata": {
            "tags": []
          }
        }
      ]
    },
    {
      "cell_type": "markdown",
      "metadata": {
        "id": "qO2EiC8uoqKo",
        "colab_type": "text"
      },
      "source": [
        "###Working with Strings with Pandas"
      ]
    },
    {
      "cell_type": "code",
      "metadata": {
        "id": "yv7v7L9Um9Nk",
        "colab_type": "code",
        "colab": {
          "base_uri": "https://localhost:8080/",
          "height": 204
        },
        "outputId": "9ac7de5f-075e-4640-d234-770df91c9b9d"
      },
      "source": [
        "# load a new dataset\n",
        "! wget https://resources.lendingclub.com/LoanStats_2018Q4.csv.zip"
      ],
      "execution_count": 73,
      "outputs": [
        {
          "output_type": "stream",
          "text": [
            "--2020-03-14 15:33:03--  https://resources.lendingclub.com/LoanStats_2018Q4.csv.zip\n",
            "Resolving resources.lendingclub.com (resources.lendingclub.com)... 64.48.1.20\n",
            "Connecting to resources.lendingclub.com (resources.lendingclub.com)|64.48.1.20|:443... connected.\n",
            "HTTP request sent, awaiting response... 200 OK\n",
            "Length: unspecified [application/zip]\n",
            "Saving to: ‘LoanStats_2018Q4.csv.zip’\n",
            "\n",
            "LoanStats_2018Q4.cs     [                 <=>]  21.71M   820KB/s    in 27s     \n",
            "\n",
            "2020-03-14 15:33:31 (810 KB/s) - ‘LoanStats_2018Q4.csv.zip’ saved [22763850]\n",
            "\n"
          ],
          "name": "stdout"
        }
      ]
    },
    {
      "cell_type": "code",
      "metadata": {
        "id": "Hvncxu-Xm9Jn",
        "colab_type": "code",
        "colab": {
          "base_uri": "https://localhost:8080/",
          "height": 51
        },
        "outputId": "5275fbfe-c7c2-4832-f7a4-646d4d0825b5"
      },
      "source": [
        "# unzip\n",
        "! unzip LoanStats_2018Q4.csv.zip"
      ],
      "execution_count": 74,
      "outputs": [
        {
          "output_type": "stream",
          "text": [
            "Archive:  LoanStats_2018Q4.csv.zip\n",
            "  inflating: LoanStats_2018Q4.csv    \n"
          ],
          "name": "stdout"
        }
      ]
    },
    {
      "cell_type": "code",
      "metadata": {
        "id": "DiNer8IAm9FQ",
        "colab_type": "code",
        "colab": {
          "base_uri": "https://localhost:8080/",
          "height": 377
        },
        "outputId": "7c66372d-a606-4708-a353-bffa23b8cadb"
      },
      "source": [
        "loans_df = pd.read_csv('LoanStats_2018Q4.csv')\n",
        "print(loans_df.shape)\n",
        "loans_df.head()"
      ],
      "execution_count": 92,
      "outputs": [
        {
          "output_type": "stream",
          "text": [
            "/usr/local/lib/python3.6/dist-packages/IPython/core/interactiveshell.py:2718: DtypeWarning: Columns (0,1,2,3,4,7,13,18,19,24,25,27,28,29,30,31,32,34,36,37,38,39,40,41,42,43,44,46,49,50,51,53,54,56,57,58,59,60,61,62,63,64,65,66,67,68,69,70,71,72,73,74,75,76,77,78,79,80,81,82,83,84,85,86,87,88,89,90,91,92,93,94,95,96,97,98,99,100,101,102,103,104,105,106,107,108,109,110,111,113,114,115,116,117,118,119,120,121,126,127,131,132,134,135,136,141,142,143) have mixed types. Specify dtype option on import or set low_memory=False.\n",
            "  interactivity=interactivity, compiler=compiler, result=result)\n"
          ],
          "name": "stderr"
        },
        {
          "output_type": "stream",
          "text": [
            "(128287, 1)\n"
          ],
          "name": "stdout"
        },
        {
          "output_type": "execute_result",
          "data": {
            "text/html": [
              "<div>\n",
              "<style scoped>\n",
              "    .dataframe tbody tr th:only-of-type {\n",
              "        vertical-align: middle;\n",
              "    }\n",
              "\n",
              "    .dataframe tbody tr th {\n",
              "        vertical-align: top;\n",
              "    }\n",
              "\n",
              "    .dataframe thead th {\n",
              "        text-align: right;\n",
              "    }\n",
              "</style>\n",
              "<table border=\"1\" class=\"dataframe\">\n",
              "  <thead>\n",
              "    <tr style=\"text-align: right;\">\n",
              "      <th></th>\n",
              "      <th></th>\n",
              "      <th></th>\n",
              "      <th></th>\n",
              "      <th></th>\n",
              "      <th></th>\n",
              "      <th></th>\n",
              "      <th></th>\n",
              "      <th></th>\n",
              "      <th></th>\n",
              "      <th></th>\n",
              "      <th></th>\n",
              "      <th></th>\n",
              "      <th></th>\n",
              "      <th></th>\n",
              "      <th></th>\n",
              "      <th></th>\n",
              "      <th></th>\n",
              "      <th></th>\n",
              "      <th></th>\n",
              "      <th></th>\n",
              "      <th></th>\n",
              "      <th></th>\n",
              "      <th></th>\n",
              "      <th></th>\n",
              "      <th></th>\n",
              "      <th></th>\n",
              "      <th></th>\n",
              "      <th></th>\n",
              "      <th></th>\n",
              "      <th></th>\n",
              "      <th></th>\n",
              "      <th></th>\n",
              "      <th></th>\n",
              "      <th></th>\n",
              "      <th></th>\n",
              "      <th></th>\n",
              "      <th></th>\n",
              "      <th></th>\n",
              "      <th></th>\n",
              "      <th></th>\n",
              "      <th></th>\n",
              "      <th></th>\n",
              "      <th></th>\n",
              "      <th></th>\n",
              "      <th></th>\n",
              "      <th></th>\n",
              "      <th></th>\n",
              "      <th></th>\n",
              "      <th></th>\n",
              "      <th></th>\n",
              "      <th></th>\n",
              "      <th></th>\n",
              "      <th></th>\n",
              "      <th></th>\n",
              "      <th></th>\n",
              "      <th></th>\n",
              "      <th></th>\n",
              "      <th></th>\n",
              "      <th></th>\n",
              "      <th></th>\n",
              "      <th></th>\n",
              "      <th></th>\n",
              "      <th></th>\n",
              "      <th></th>\n",
              "      <th></th>\n",
              "      <th></th>\n",
              "      <th></th>\n",
              "      <th></th>\n",
              "      <th></th>\n",
              "      <th></th>\n",
              "      <th></th>\n",
              "      <th></th>\n",
              "      <th></th>\n",
              "      <th></th>\n",
              "      <th></th>\n",
              "      <th></th>\n",
              "      <th></th>\n",
              "      <th></th>\n",
              "      <th></th>\n",
              "      <th></th>\n",
              "      <th></th>\n",
              "      <th></th>\n",
              "      <th></th>\n",
              "      <th></th>\n",
              "      <th></th>\n",
              "      <th></th>\n",
              "      <th></th>\n",
              "      <th></th>\n",
              "      <th></th>\n",
              "      <th></th>\n",
              "      <th></th>\n",
              "      <th></th>\n",
              "      <th></th>\n",
              "      <th></th>\n",
              "      <th></th>\n",
              "      <th></th>\n",
              "      <th></th>\n",
              "      <th></th>\n",
              "      <th></th>\n",
              "      <th></th>\n",
              "      <th></th>\n",
              "      <th></th>\n",
              "      <th></th>\n",
              "      <th></th>\n",
              "      <th></th>\n",
              "      <th></th>\n",
              "      <th></th>\n",
              "      <th></th>\n",
              "      <th></th>\n",
              "      <th></th>\n",
              "      <th></th>\n",
              "      <th></th>\n",
              "      <th></th>\n",
              "      <th></th>\n",
              "      <th></th>\n",
              "      <th></th>\n",
              "      <th></th>\n",
              "      <th></th>\n",
              "      <th></th>\n",
              "      <th></th>\n",
              "      <th></th>\n",
              "      <th></th>\n",
              "      <th></th>\n",
              "      <th></th>\n",
              "      <th></th>\n",
              "      <th></th>\n",
              "      <th></th>\n",
              "      <th></th>\n",
              "      <th></th>\n",
              "      <th></th>\n",
              "      <th></th>\n",
              "      <th></th>\n",
              "      <th></th>\n",
              "      <th></th>\n",
              "      <th></th>\n",
              "      <th></th>\n",
              "      <th></th>\n",
              "      <th></th>\n",
              "      <th></th>\n",
              "      <th></th>\n",
              "      <th></th>\n",
              "      <th></th>\n",
              "      <th>Notes offered by Prospectus (https://www.lendingclub.com/info/prospectus.action)</th>\n",
              "    </tr>\n",
              "  </thead>\n",
              "  <tbody>\n",
              "    <tr>\n",
              "      <th>id</th>\n",
              "      <th>member_id</th>\n",
              "      <th>loan_amnt</th>\n",
              "      <th>funded_amnt</th>\n",
              "      <th>funded_amnt_inv</th>\n",
              "      <th>term</th>\n",
              "      <th>int_rate</th>\n",
              "      <th>installment</th>\n",
              "      <th>grade</th>\n",
              "      <th>sub_grade</th>\n",
              "      <th>emp_title</th>\n",
              "      <th>emp_length</th>\n",
              "      <th>home_ownership</th>\n",
              "      <th>annual_inc</th>\n",
              "      <th>verification_status</th>\n",
              "      <th>issue_d</th>\n",
              "      <th>loan_status</th>\n",
              "      <th>pymnt_plan</th>\n",
              "      <th>url</th>\n",
              "      <th>desc</th>\n",
              "      <th>purpose</th>\n",
              "      <th>title</th>\n",
              "      <th>zip_code</th>\n",
              "      <th>addr_state</th>\n",
              "      <th>dti</th>\n",
              "      <th>delinq_2yrs</th>\n",
              "      <th>earliest_cr_line</th>\n",
              "      <th>inq_last_6mths</th>\n",
              "      <th>mths_since_last_delinq</th>\n",
              "      <th>mths_since_last_record</th>\n",
              "      <th>open_acc</th>\n",
              "      <th>pub_rec</th>\n",
              "      <th>revol_bal</th>\n",
              "      <th>revol_util</th>\n",
              "      <th>total_acc</th>\n",
              "      <th>initial_list_status</th>\n",
              "      <th>out_prncp</th>\n",
              "      <th>out_prncp_inv</th>\n",
              "      <th>total_pymnt</th>\n",
              "      <th>total_pymnt_inv</th>\n",
              "      <th>total_rec_prncp</th>\n",
              "      <th>total_rec_int</th>\n",
              "      <th>total_rec_late_fee</th>\n",
              "      <th>recoveries</th>\n",
              "      <th>collection_recovery_fee</th>\n",
              "      <th>last_pymnt_d</th>\n",
              "      <th>last_pymnt_amnt</th>\n",
              "      <th>next_pymnt_d</th>\n",
              "      <th>last_credit_pull_d</th>\n",
              "      <th>collections_12_mths_ex_med</th>\n",
              "      <th>mths_since_last_major_derog</th>\n",
              "      <th>policy_code</th>\n",
              "      <th>application_type</th>\n",
              "      <th>annual_inc_joint</th>\n",
              "      <th>dti_joint</th>\n",
              "      <th>verification_status_joint</th>\n",
              "      <th>acc_now_delinq</th>\n",
              "      <th>tot_coll_amt</th>\n",
              "      <th>tot_cur_bal</th>\n",
              "      <th>open_acc_6m</th>\n",
              "      <th>open_act_il</th>\n",
              "      <th>open_il_12m</th>\n",
              "      <th>open_il_24m</th>\n",
              "      <th>mths_since_rcnt_il</th>\n",
              "      <th>total_bal_il</th>\n",
              "      <th>il_util</th>\n",
              "      <th>open_rv_12m</th>\n",
              "      <th>open_rv_24m</th>\n",
              "      <th>max_bal_bc</th>\n",
              "      <th>all_util</th>\n",
              "      <th>total_rev_hi_lim</th>\n",
              "      <th>inq_fi</th>\n",
              "      <th>total_cu_tl</th>\n",
              "      <th>inq_last_12m</th>\n",
              "      <th>acc_open_past_24mths</th>\n",
              "      <th>avg_cur_bal</th>\n",
              "      <th>bc_open_to_buy</th>\n",
              "      <th>bc_util</th>\n",
              "      <th>chargeoff_within_12_mths</th>\n",
              "      <th>delinq_amnt</th>\n",
              "      <th>mo_sin_old_il_acct</th>\n",
              "      <th>mo_sin_old_rev_tl_op</th>\n",
              "      <th>mo_sin_rcnt_rev_tl_op</th>\n",
              "      <th>mo_sin_rcnt_tl</th>\n",
              "      <th>mort_acc</th>\n",
              "      <th>mths_since_recent_bc</th>\n",
              "      <th>mths_since_recent_bc_dlq</th>\n",
              "      <th>mths_since_recent_inq</th>\n",
              "      <th>mths_since_recent_revol_delinq</th>\n",
              "      <th>num_accts_ever_120_pd</th>\n",
              "      <th>num_actv_bc_tl</th>\n",
              "      <th>num_actv_rev_tl</th>\n",
              "      <th>num_bc_sats</th>\n",
              "      <th>num_bc_tl</th>\n",
              "      <th>num_il_tl</th>\n",
              "      <th>num_op_rev_tl</th>\n",
              "      <th>num_rev_accts</th>\n",
              "      <th>num_rev_tl_bal_gt_0</th>\n",
              "      <th>num_sats</th>\n",
              "      <th>num_tl_120dpd_2m</th>\n",
              "      <th>num_tl_30dpd</th>\n",
              "      <th>num_tl_90g_dpd_24m</th>\n",
              "      <th>num_tl_op_past_12m</th>\n",
              "      <th>pct_tl_nvr_dlq</th>\n",
              "      <th>percent_bc_gt_75</th>\n",
              "      <th>pub_rec_bankruptcies</th>\n",
              "      <th>tax_liens</th>\n",
              "      <th>tot_hi_cred_lim</th>\n",
              "      <th>total_bal_ex_mort</th>\n",
              "      <th>total_bc_limit</th>\n",
              "      <th>total_il_high_credit_limit</th>\n",
              "      <th>revol_bal_joint</th>\n",
              "      <th>sec_app_earliest_cr_line</th>\n",
              "      <th>sec_app_inq_last_6mths</th>\n",
              "      <th>sec_app_mort_acc</th>\n",
              "      <th>sec_app_open_acc</th>\n",
              "      <th>sec_app_revol_util</th>\n",
              "      <th>sec_app_open_act_il</th>\n",
              "      <th>sec_app_num_rev_accts</th>\n",
              "      <th>sec_app_chargeoff_within_12_mths</th>\n",
              "      <th>sec_app_collections_12_mths_ex_med</th>\n",
              "      <th>sec_app_mths_since_last_major_derog</th>\n",
              "      <th>hardship_flag</th>\n",
              "      <th>hardship_type</th>\n",
              "      <th>hardship_reason</th>\n",
              "      <th>hardship_status</th>\n",
              "      <th>deferral_term</th>\n",
              "      <th>hardship_amount</th>\n",
              "      <th>hardship_start_date</th>\n",
              "      <th>hardship_end_date</th>\n",
              "      <th>payment_plan_start_date</th>\n",
              "      <th>hardship_length</th>\n",
              "      <th>hardship_dpd</th>\n",
              "      <th>hardship_loan_status</th>\n",
              "      <th>orig_projected_additional_accrued_interest</th>\n",
              "      <th>hardship_payoff_balance_amount</th>\n",
              "      <th>hardship_last_payment_amount</th>\n",
              "      <th>debt_settlement_flag</th>\n",
              "      <th>debt_settlement_flag_date</th>\n",
              "      <th>settlement_status</th>\n",
              "      <th>settlement_date</th>\n",
              "      <th>settlement_amount</th>\n",
              "      <th>settlement_percentage</th>\n",
              "      <td>settlement_term</td>\n",
              "    </tr>\n",
              "    <tr>\n",
              "      <th rowspan=\"4\" valign=\"top\">NaN</th>\n",
              "      <th rowspan=\"4\" valign=\"top\">NaN</th>\n",
              "      <th>10000</th>\n",
              "      <th>10000</th>\n",
              "      <th>10000</th>\n",
              "      <th>60 months</th>\n",
              "      <th>16.14%</th>\n",
              "      <th>243.93</th>\n",
              "      <th>C</th>\n",
              "      <th>C4</th>\n",
              "      <th>Sale Consultant</th>\n",
              "      <th>2 years</th>\n",
              "      <th>RENT</th>\n",
              "      <th>90000</th>\n",
              "      <th>Not Verified</th>\n",
              "      <th>Dec-2018</th>\n",
              "      <th>Fully Paid</th>\n",
              "      <th>n</th>\n",
              "      <th>NaN</th>\n",
              "      <th>NaN</th>\n",
              "      <th>debt_consolidation</th>\n",
              "      <th>Debt consolidation</th>\n",
              "      <th>079xx</th>\n",
              "      <th>NJ</th>\n",
              "      <th>8.8</th>\n",
              "      <th>0</th>\n",
              "      <th>Mar-1991</th>\n",
              "      <th>1</th>\n",
              "      <th>NaN</th>\n",
              "      <th>43</th>\n",
              "      <th>11</th>\n",
              "      <th>1</th>\n",
              "      <th>10582</th>\n",
              "      <th>58.5%</th>\n",
              "      <th>32</th>\n",
              "      <th>w</th>\n",
              "      <th>0.00</th>\n",
              "      <th>0.00</th>\n",
              "      <th>10661.0577272374</th>\n",
              "      <th>10661.06</th>\n",
              "      <th>10000.00</th>\n",
              "      <th>661.06</th>\n",
              "      <th>0.0</th>\n",
              "      <th>0.0</th>\n",
              "      <th>0.0</th>\n",
              "      <th>May-2019</th>\n",
              "      <th>9698.79</th>\n",
              "      <th>NaN</th>\n",
              "      <th>Dec-2019</th>\n",
              "      <th>0</th>\n",
              "      <th>NaN</th>\n",
              "      <th>1</th>\n",
              "      <th>Individual</th>\n",
              "      <th>NaN</th>\n",
              "      <th>NaN</th>\n",
              "      <th>NaN</th>\n",
              "      <th>0</th>\n",
              "      <th>0</th>\n",
              "      <th>15470</th>\n",
              "      <th>1</th>\n",
              "      <th>1</th>\n",
              "      <th>0</th>\n",
              "      <th>1</th>\n",
              "      <th>18</th>\n",
              "      <th>4888</th>\n",
              "      <th>65</th>\n",
              "      <th>1</th>\n",
              "      <th>3</th>\n",
              "      <th>2969</th>\n",
              "      <th>60</th>\n",
              "      <th>18100</th>\n",
              "      <th>2</th>\n",
              "      <th>0</th>\n",
              "      <th>2</th>\n",
              "      <th>4</th>\n",
              "      <th>1719</th>\n",
              "      <th>4906</th>\n",
              "      <th>67.3</th>\n",
              "      <th>0</th>\n",
              "      <th>0</th>\n",
              "      <th>133</th>\n",
              "      <th>333</th>\n",
              "      <th>2</th>\n",
              "      <th>2</th>\n",
              "      <th>1</th>\n",
              "      <th>2</th>\n",
              "      <th>NaN</th>\n",
              "      <th>1</th>\n",
              "      <th>NaN</th>\n",
              "      <th>0</th>\n",
              "      <th>4</th>\n",
              "      <th>6</th>\n",
              "      <th>5</th>\n",
              "      <th>15</th>\n",
              "      <th>6</th>\n",
              "      <th>8</th>\n",
              "      <th>23</th>\n",
              "      <th>6</th>\n",
              "      <th>11</th>\n",
              "      <th>0</th>\n",
              "      <th>0</th>\n",
              "      <th>0</th>\n",
              "      <th>1</th>\n",
              "      <th>100</th>\n",
              "      <th>80</th>\n",
              "      <th>1</th>\n",
              "      <th>0</th>\n",
              "      <th>25600</th>\n",
              "      <th>15470</th>\n",
              "      <th>15000</th>\n",
              "      <th>7500</th>\n",
              "      <th>NaN</th>\n",
              "      <th>NaN</th>\n",
              "      <th>NaN</th>\n",
              "      <th>NaN</th>\n",
              "      <th>NaN</th>\n",
              "      <th>NaN</th>\n",
              "      <th>NaN</th>\n",
              "      <th>NaN</th>\n",
              "      <th>NaN</th>\n",
              "      <th>NaN</th>\n",
              "      <th>NaN</th>\n",
              "      <th>N</th>\n",
              "      <th>NaN</th>\n",
              "      <th>NaN</th>\n",
              "      <th>NaN</th>\n",
              "      <th>NaN</th>\n",
              "      <th>NaN</th>\n",
              "      <th>NaN</th>\n",
              "      <th>NaN</th>\n",
              "      <th>NaN</th>\n",
              "      <th>NaN</th>\n",
              "      <th>NaN</th>\n",
              "      <th>NaN</th>\n",
              "      <th>NaN</th>\n",
              "      <th>NaN</th>\n",
              "      <th>NaN</th>\n",
              "      <th>N</th>\n",
              "      <th>NaN</th>\n",
              "      <th>NaN</th>\n",
              "      <th>NaN</th>\n",
              "      <th>NaN</th>\n",
              "      <th>NaN</th>\n",
              "      <td>NaN</td>\n",
              "    </tr>\n",
              "    <tr>\n",
              "      <th>6500</th>\n",
              "      <th>6500</th>\n",
              "      <th>6500</th>\n",
              "      <th>36 months</th>\n",
              "      <th>11.80%</th>\n",
              "      <th>215.28</th>\n",
              "      <th>B</th>\n",
              "      <th>B4</th>\n",
              "      <th>Educator</th>\n",
              "      <th>2 years</th>\n",
              "      <th>RENT</th>\n",
              "      <th>46500</th>\n",
              "      <th>Source Verified</th>\n",
              "      <th>Dec-2018</th>\n",
              "      <th>Current</th>\n",
              "      <th>n</th>\n",
              "      <th>NaN</th>\n",
              "      <th>NaN</th>\n",
              "      <th>debt_consolidation</th>\n",
              "      <th>Debt consolidation</th>\n",
              "      <th>352xx</th>\n",
              "      <th>AL</th>\n",
              "      <th>21.01</th>\n",
              "      <th>0</th>\n",
              "      <th>Aug-2011</th>\n",
              "      <th>1</th>\n",
              "      <th>61</th>\n",
              "      <th>NaN</th>\n",
              "      <th>24</th>\n",
              "      <th>0</th>\n",
              "      <th>6741</th>\n",
              "      <th>41.6%</th>\n",
              "      <th>30</th>\n",
              "      <th>w</th>\n",
              "      <th>4411.89</th>\n",
              "      <th>4411.89</th>\n",
              "      <th>2792.25</th>\n",
              "      <th>2792.25</th>\n",
              "      <th>2088.11</th>\n",
              "      <th>704.14</th>\n",
              "      <th>0.0</th>\n",
              "      <th>0.0</th>\n",
              "      <th>0.0</th>\n",
              "      <th>Feb-2020</th>\n",
              "      <th>0.0</th>\n",
              "      <th>Mar-2020</th>\n",
              "      <th>Jan-2020</th>\n",
              "      <th>0</th>\n",
              "      <th>61</th>\n",
              "      <th>1</th>\n",
              "      <th>Individual</th>\n",
              "      <th>NaN</th>\n",
              "      <th>NaN</th>\n",
              "      <th>NaN</th>\n",
              "      <th>0</th>\n",
              "      <th>0</th>\n",
              "      <th>40223</th>\n",
              "      <th>4</th>\n",
              "      <th>12</th>\n",
              "      <th>2</th>\n",
              "      <th>2</th>\n",
              "      <th>5</th>\n",
              "      <th>33482</th>\n",
              "      <th>97</th>\n",
              "      <th>7</th>\n",
              "      <th>12</th>\n",
              "      <th>3662</th>\n",
              "      <th>79</th>\n",
              "      <th>16200</th>\n",
              "      <th>2</th>\n",
              "      <th>0</th>\n",
              "      <th>4</th>\n",
              "      <th>14</th>\n",
              "      <th>1749</th>\n",
              "      <th>7694</th>\n",
              "      <th>42.2</th>\n",
              "      <th>0</th>\n",
              "      <th>0</th>\n",
              "      <th>88</th>\n",
              "      <th>72</th>\n",
              "      <th>1</th>\n",
              "      <th>1</th>\n",
              "      <th>0</th>\n",
              "      <th>3</th>\n",
              "      <th>NaN</th>\n",
              "      <th>5</th>\n",
              "      <th>61</th>\n",
              "      <th>2</th>\n",
              "      <th>6</th>\n",
              "      <th>10</th>\n",
              "      <th>6</th>\n",
              "      <th>6</th>\n",
              "      <th>14</th>\n",
              "      <th>11</th>\n",
              "      <th>16</th>\n",
              "      <th>10</th>\n",
              "      <th>24</th>\n",
              "      <th>0</th>\n",
              "      <th>0</th>\n",
              "      <th>0</th>\n",
              "      <th>9</th>\n",
              "      <th>93.3</th>\n",
              "      <th>0</th>\n",
              "      <th>0</th>\n",
              "      <th>0</th>\n",
              "      <th>50845</th>\n",
              "      <th>40223</th>\n",
              "      <th>13300</th>\n",
              "      <th>34645</th>\n",
              "      <th>NaN</th>\n",
              "      <th>NaN</th>\n",
              "      <th>NaN</th>\n",
              "      <th>NaN</th>\n",
              "      <th>NaN</th>\n",
              "      <th>NaN</th>\n",
              "      <th>NaN</th>\n",
              "      <th>NaN</th>\n",
              "      <th>NaN</th>\n",
              "      <th>NaN</th>\n",
              "      <th>NaN</th>\n",
              "      <th>N</th>\n",
              "      <th>NaN</th>\n",
              "      <th>NaN</th>\n",
              "      <th>NaN</th>\n",
              "      <th>NaN</th>\n",
              "      <th>NaN</th>\n",
              "      <th>NaN</th>\n",
              "      <th>NaN</th>\n",
              "      <th>NaN</th>\n",
              "      <th>NaN</th>\n",
              "      <th>NaN</th>\n",
              "      <th>NaN</th>\n",
              "      <th>NaN</th>\n",
              "      <th>NaN</th>\n",
              "      <th>NaN</th>\n",
              "      <th>N</th>\n",
              "      <th>NaN</th>\n",
              "      <th>NaN</th>\n",
              "      <th>NaN</th>\n",
              "      <th>NaN</th>\n",
              "      <th>NaN</th>\n",
              "      <td>NaN</td>\n",
              "    </tr>\n",
              "    <tr>\n",
              "      <th>4500</th>\n",
              "      <th>4500</th>\n",
              "      <th>4500</th>\n",
              "      <th>36 months</th>\n",
              "      <th>11.31%</th>\n",
              "      <th>147.99</th>\n",
              "      <th>B</th>\n",
              "      <th>B3</th>\n",
              "      <th>Accounts Examiner III</th>\n",
              "      <th>10+ years</th>\n",
              "      <th>RENT</th>\n",
              "      <th>38500</th>\n",
              "      <th>Not Verified</th>\n",
              "      <th>Dec-2018</th>\n",
              "      <th>Fully Paid</th>\n",
              "      <th>n</th>\n",
              "      <th>NaN</th>\n",
              "      <th>NaN</th>\n",
              "      <th>credit_card</th>\n",
              "      <th>Credit card refinancing</th>\n",
              "      <th>786xx</th>\n",
              "      <th>TX</th>\n",
              "      <th>4.64</th>\n",
              "      <th>0</th>\n",
              "      <th>Dec-2003</th>\n",
              "      <th>0</th>\n",
              "      <th>25</th>\n",
              "      <th>NaN</th>\n",
              "      <th>12</th>\n",
              "      <th>0</th>\n",
              "      <th>4472</th>\n",
              "      <th>15.3%</th>\n",
              "      <th>25</th>\n",
              "      <th>w</th>\n",
              "      <th>0.00</th>\n",
              "      <th>0.00</th>\n",
              "      <th>4549.2171485504</th>\n",
              "      <th>4549.22</th>\n",
              "      <th>4500.00</th>\n",
              "      <th>49.22</th>\n",
              "      <th>0.0</th>\n",
              "      <th>0.0</th>\n",
              "      <th>0.0</th>\n",
              "      <th>Feb-2019</th>\n",
              "      <th>4553.46</th>\n",
              "      <th>NaN</th>\n",
              "      <th>Feb-2020</th>\n",
              "      <th>0</th>\n",
              "      <th>25</th>\n",
              "      <th>1</th>\n",
              "      <th>Individual</th>\n",
              "      <th>NaN</th>\n",
              "      <th>NaN</th>\n",
              "      <th>NaN</th>\n",
              "      <th>0</th>\n",
              "      <th>306</th>\n",
              "      <th>29137</th>\n",
              "      <th>2</th>\n",
              "      <th>1</th>\n",
              "      <th>1</th>\n",
              "      <th>1</th>\n",
              "      <th>3</th>\n",
              "      <th>24665</th>\n",
              "      <th>100</th>\n",
              "      <th>3</th>\n",
              "      <th>7</th>\n",
              "      <th>3612</th>\n",
              "      <th>54</th>\n",
              "      <th>29200</th>\n",
              "      <th>0</th>\n",
              "      <th>3</th>\n",
              "      <th>3</th>\n",
              "      <th>8</th>\n",
              "      <th>2428</th>\n",
              "      <th>10735</th>\n",
              "      <th>28.9</th>\n",
              "      <th>0</th>\n",
              "      <th>0</th>\n",
              "      <th>180</th>\n",
              "      <th>69</th>\n",
              "      <th>2</th>\n",
              "      <th>2</th>\n",
              "      <th>0</th>\n",
              "      <th>2</th>\n",
              "      <th>NaN</th>\n",
              "      <th>6</th>\n",
              "      <th>NaN</th>\n",
              "      <th>1</th>\n",
              "      <th>3</th>\n",
              "      <th>5</th>\n",
              "      <th>5</th>\n",
              "      <th>6</th>\n",
              "      <th>10</th>\n",
              "      <th>11</th>\n",
              "      <th>15</th>\n",
              "      <th>5</th>\n",
              "      <th>12</th>\n",
              "      <th>0</th>\n",
              "      <th>0</th>\n",
              "      <th>0</th>\n",
              "      <th>4</th>\n",
              "      <th>91.7</th>\n",
              "      <th>0</th>\n",
              "      <th>0</th>\n",
              "      <th>0</th>\n",
              "      <th>53795</th>\n",
              "      <th>29137</th>\n",
              "      <th>15100</th>\n",
              "      <th>24595</th>\n",
              "      <th>NaN</th>\n",
              "      <th>NaN</th>\n",
              "      <th>NaN</th>\n",
              "      <th>NaN</th>\n",
              "      <th>NaN</th>\n",
              "      <th>NaN</th>\n",
              "      <th>NaN</th>\n",
              "      <th>NaN</th>\n",
              "      <th>NaN</th>\n",
              "      <th>NaN</th>\n",
              "      <th>NaN</th>\n",
              "      <th>N</th>\n",
              "      <th>NaN</th>\n",
              "      <th>NaN</th>\n",
              "      <th>NaN</th>\n",
              "      <th>NaN</th>\n",
              "      <th>NaN</th>\n",
              "      <th>NaN</th>\n",
              "      <th>NaN</th>\n",
              "      <th>NaN</th>\n",
              "      <th>NaN</th>\n",
              "      <th>NaN</th>\n",
              "      <th>NaN</th>\n",
              "      <th>NaN</th>\n",
              "      <th>NaN</th>\n",
              "      <th>NaN</th>\n",
              "      <th>N</th>\n",
              "      <th>NaN</th>\n",
              "      <th>NaN</th>\n",
              "      <th>NaN</th>\n",
              "      <th>NaN</th>\n",
              "      <th>NaN</th>\n",
              "      <td>NaN</td>\n",
              "    </tr>\n",
              "    <tr>\n",
              "      <th>25000</th>\n",
              "      <th>25000</th>\n",
              "      <th>25000</th>\n",
              "      <th>60 months</th>\n",
              "      <th>14.47%</th>\n",
              "      <th>587.82</th>\n",
              "      <th>C</th>\n",
              "      <th>C2</th>\n",
              "      <th>teacher</th>\n",
              "      <th>10+ years</th>\n",
              "      <th>OWN</th>\n",
              "      <th>110000</th>\n",
              "      <th>Not Verified</th>\n",
              "      <th>Dec-2018</th>\n",
              "      <th>Late (31-120 days)</th>\n",
              "      <th>n</th>\n",
              "      <th>NaN</th>\n",
              "      <th>NaN</th>\n",
              "      <th>credit_card</th>\n",
              "      <th>Credit card refinancing</th>\n",
              "      <th>117xx</th>\n",
              "      <th>NY</th>\n",
              "      <th>26.43</th>\n",
              "      <th>1</th>\n",
              "      <th>Jan-1997</th>\n",
              "      <th>0</th>\n",
              "      <th>7</th>\n",
              "      <th>NaN</th>\n",
              "      <th>23</th>\n",
              "      <th>0</th>\n",
              "      <th>39053</th>\n",
              "      <th>45.7%</th>\n",
              "      <th>49</th>\n",
              "      <th>w</th>\n",
              "      <th>21975.89</th>\n",
              "      <th>21975.89</th>\n",
              "      <th>5848.05</th>\n",
              "      <th>5848.05</th>\n",
              "      <th>3024.11</th>\n",
              "      <th>2823.94</th>\n",
              "      <th>0.0</th>\n",
              "      <th>0.0</th>\n",
              "      <th>0.0</th>\n",
              "      <th>Oct-2019</th>\n",
              "      <th>587.82</th>\n",
              "      <th>Mar-2020</th>\n",
              "      <th>Jan-2020</th>\n",
              "      <th>0</th>\n",
              "      <th>7</th>\n",
              "      <th>1</th>\n",
              "      <th>Individual</th>\n",
              "      <th>NaN</th>\n",
              "      <th>NaN</th>\n",
              "      <th>NaN</th>\n",
              "      <th>0</th>\n",
              "      <th>0</th>\n",
              "      <th>95648</th>\n",
              "      <th>0</th>\n",
              "      <th>3</th>\n",
              "      <th>0</th>\n",
              "      <th>0</th>\n",
              "      <th>35</th>\n",
              "      <th>54716</th>\n",
              "      <th>23</th>\n",
              "      <th>1</th>\n",
              "      <th>2</th>\n",
              "      <th>8422</th>\n",
              "      <th>39</th>\n",
              "      <th>85500</th>\n",
              "      <th>0</th>\n",
              "      <th>1</th>\n",
              "      <th>0</th>\n",
              "      <th>2</th>\n",
              "      <th>4159</th>\n",
              "      <th>34837</th>\n",
              "      <th>44.5</th>\n",
              "      <th>0</th>\n",
              "      <th>0</th>\n",
              "      <th>263</th>\n",
              "      <th>246</th>\n",
              "      <th>10</th>\n",
              "      <th>10</th>\n",
              "      <th>0</th>\n",
              "      <th>48</th>\n",
              "      <th>NaN</th>\n",
              "      <th>NaN</th>\n",
              "      <th>NaN</th>\n",
              "      <th>0</th>\n",
              "      <th>9</th>\n",
              "      <th>13</th>\n",
              "      <th>10</th>\n",
              "      <th>14</th>\n",
              "      <th>21</th>\n",
              "      <th>19</th>\n",
              "      <th>27</th>\n",
              "      <th>13</th>\n",
              "      <th>23</th>\n",
              "      <th>0</th>\n",
              "      <th>0</th>\n",
              "      <th>1</th>\n",
              "      <th>1</th>\n",
              "      <th>98</th>\n",
              "      <th>10</th>\n",
              "      <th>0</th>\n",
              "      <th>0</th>\n",
              "      <th>179321</th>\n",
              "      <th>95648</th>\n",
              "      <th>62800</th>\n",
              "      <th>91424</th>\n",
              "      <th>NaN</th>\n",
              "      <th>NaN</th>\n",
              "      <th>NaN</th>\n",
              "      <th>NaN</th>\n",
              "      <th>NaN</th>\n",
              "      <th>NaN</th>\n",
              "      <th>NaN</th>\n",
              "      <th>NaN</th>\n",
              "      <th>NaN</th>\n",
              "      <th>NaN</th>\n",
              "      <th>NaN</th>\n",
              "      <th>N</th>\n",
              "      <th>NaN</th>\n",
              "      <th>NaN</th>\n",
              "      <th>NaN</th>\n",
              "      <th>NaN</th>\n",
              "      <th>NaN</th>\n",
              "      <th>NaN</th>\n",
              "      <th>NaN</th>\n",
              "      <th>NaN</th>\n",
              "      <th>NaN</th>\n",
              "      <th>NaN</th>\n",
              "      <th>NaN</th>\n",
              "      <th>NaN</th>\n",
              "      <th>NaN</th>\n",
              "      <th>NaN</th>\n",
              "      <th>N</th>\n",
              "      <th>NaN</th>\n",
              "      <th>NaN</th>\n",
              "      <th>NaN</th>\n",
              "      <th>NaN</th>\n",
              "      <th>NaN</th>\n",
              "      <td>NaN</td>\n",
              "    </tr>\n",
              "  </tbody>\n",
              "</table>\n",
              "</div>"
            ],
            "text/plain": [
              "                                                                                                                                                                                                                                                                                                                                                                                                                                                                                                                                                                                                                                                                                                                                                                                                                                                                                                                                                                                                                                                                                                                                                                                                                                                                                                                                                                                                                                                                                                                                                                                                                                                                                                                                                                                                                                                                                                                                                                                                                                                                                                                                                                                                                                                                                                                                                                                                                          Notes offered by Prospectus (https://www.lendingclub.com/info/prospectus.action)\n",
              "id  member_id loan_amnt funded_amnt funded_amnt_inv term       int_rate installment grade sub_grade emp_title             emp_length home_ownership annual_inc verification_status issue_d  loan_status        pymnt_plan url desc purpose            title                   zip_code addr_state dti   delinq_2yrs earliest_cr_line inq_last_6mths mths_since_last_delinq mths_since_last_record open_acc pub_rec revol_bal revol_util total_acc initial_list_status out_prncp out_prncp_inv total_pymnt      total_pymnt_inv total_rec_prncp total_rec_int total_rec_late_fee recoveries collection_recovery_fee last_pymnt_d last_pymnt_amnt next_pymnt_d last_credit_pull_d collections_12_mths_ex_med mths_since_last_major_derog policy_code application_type annual_inc_joint dti_joint verification_status_joint acc_now_delinq tot_coll_amt tot_cur_bal open_acc_6m open_act_il open_il_12m open_il_24m mths_since_rcnt_il total_bal_il il_util open_rv_12m open_rv_24m max_bal_bc all_util total_rev_hi_lim inq_fi total_cu_tl inq_last_12m acc_open_past_24mths avg_cur_bal bc_open_to_buy bc_util chargeoff_within_12_mths delinq_amnt mo_sin_old_il_acct mo_sin_old_rev_tl_op mo_sin_rcnt_rev_tl_op mo_sin_rcnt_tl mort_acc mths_since_recent_bc mths_since_recent_bc_dlq mths_since_recent_inq mths_since_recent_revol_delinq num_accts_ever_120_pd num_actv_bc_tl num_actv_rev_tl num_bc_sats num_bc_tl num_il_tl num_op_rev_tl num_rev_accts num_rev_tl_bal_gt_0 num_sats num_tl_120dpd_2m num_tl_30dpd num_tl_90g_dpd_24m num_tl_op_past_12m pct_tl_nvr_dlq percent_bc_gt_75 pub_rec_bankruptcies tax_liens tot_hi_cred_lim total_bal_ex_mort total_bc_limit total_il_high_credit_limit revol_bal_joint sec_app_earliest_cr_line sec_app_inq_last_6mths sec_app_mort_acc sec_app_open_acc sec_app_revol_util sec_app_open_act_il sec_app_num_rev_accts sec_app_chargeoff_within_12_mths sec_app_collections_12_mths_ex_med sec_app_mths_since_last_major_derog hardship_flag hardship_type hardship_reason hardship_status deferral_term hardship_amount hardship_start_date hardship_end_date payment_plan_start_date hardship_length hardship_dpd hardship_loan_status orig_projected_additional_accrued_interest hardship_payoff_balance_amount hardship_last_payment_amount debt_settlement_flag debt_settlement_flag_date settlement_status settlement_date settlement_amount settlement_percentage                                    settlement_term                              \n",
              "NaN NaN       10000     10000       10000            60 months  16.14%  243.93      C     C4        Sale Consultant       2 years    RENT           90000      Not Verified        Dec-2018 Fully Paid         n          NaN NaN  debt_consolidation Debt consolidation      079xx    NJ         8.8   0           Mar-1991         1              NaN                    43                     11       1       10582     58.5%      32        w                   0.00      0.00          10661.0577272374 10661.06        10000.00        661.06        0.0                0.0        0.0                     May-2019     9698.79         NaN          Dec-2019           0                          NaN                         1           Individual       NaN              NaN       NaN                       0              0            15470       1           1           0           1           18                 4888         65      1           3           2969       60       18100            2      0           2            4                    1719        4906           67.3    0                        0           133                333                  2                     2              1        2                    NaN                      1                     NaN                            0                     4              6               5           15        6         8             23            6                   11       0                0            0                  1                  100            80               1                    0         25600           15470             15000          7500                       NaN             NaN                      NaN                    NaN              NaN              NaN                NaN                 NaN                   NaN                              NaN                                NaN                                 N             NaN           NaN             NaN             NaN           NaN             NaN                 NaN               NaN                     NaN             NaN          NaN                  NaN                                        NaN                            NaN                          N                    NaN                       NaN               NaN             NaN               NaN                                                                  NaN                              \n",
              "              6500      6500        6500             36 months  11.80%  215.28      B     B4        Educator              2 years    RENT           46500      Source Verified     Dec-2018 Current            n          NaN NaN  debt_consolidation Debt consolidation      352xx    AL         21.01 0           Aug-2011         1              61                     NaN                    24       0       6741      41.6%      30        w                   4411.89   4411.89       2792.25          2792.25         2088.11         704.14        0.0                0.0        0.0                     Feb-2020     0.0             Mar-2020     Jan-2020           0                          61                          1           Individual       NaN              NaN       NaN                       0              0            40223       4           12          2           2           5                  33482        97      7           12          3662       79       16200            2      0           4            14                   1749        7694           42.2    0                        0           88                 72                   1                     1              0        3                    NaN                      5                     61                             2                     6              10              6           6         14        11            16            10                  24       0                0            0                  9                  93.3           0                0                    0         50845           40223             13300          34645                      NaN             NaN                      NaN                    NaN              NaN              NaN                NaN                 NaN                   NaN                              NaN                                NaN                                 N             NaN           NaN             NaN             NaN           NaN             NaN                 NaN               NaN                     NaN             NaN          NaN                  NaN                                        NaN                            NaN                          N                    NaN                       NaN               NaN             NaN               NaN                                                                  NaN                              \n",
              "              4500      4500        4500             36 months  11.31%  147.99      B     B3        Accounts Examiner III 10+ years  RENT           38500      Not Verified        Dec-2018 Fully Paid         n          NaN NaN  credit_card        Credit card refinancing 786xx    TX         4.64  0           Dec-2003         0              25                     NaN                    12       0       4472      15.3%      25        w                   0.00      0.00          4549.2171485504  4549.22         4500.00         49.22         0.0                0.0        0.0                     Feb-2019     4553.46         NaN          Feb-2020           0                          25                          1           Individual       NaN              NaN       NaN                       0              306          29137       2           1           1           1           3                  24665        100     3           7           3612       54       29200            0      3           3            8                    2428        10735          28.9    0                        0           180                69                   2                     2              0        2                    NaN                      6                     NaN                            1                     3              5               5           6         10        11            15            5                   12       0                0            0                  4                  91.7           0                0                    0         53795           29137             15100          24595                      NaN             NaN                      NaN                    NaN              NaN              NaN                NaN                 NaN                   NaN                              NaN                                NaN                                 N             NaN           NaN             NaN             NaN           NaN             NaN                 NaN               NaN                     NaN             NaN          NaN                  NaN                                        NaN                            NaN                          N                    NaN                       NaN               NaN             NaN               NaN                                                                  NaN                              \n",
              "              25000     25000       25000            60 months  14.47%  587.82      C     C2        teacher               10+ years  OWN            110000     Not Verified        Dec-2018 Late (31-120 days) n          NaN NaN  credit_card        Credit card refinancing 117xx    NY         26.43 1           Jan-1997         0              7                      NaN                    23       0       39053     45.7%      49        w                   21975.89  21975.89      5848.05          5848.05         3024.11         2823.94       0.0                0.0        0.0                     Oct-2019     587.82          Mar-2020     Jan-2020           0                          7                           1           Individual       NaN              NaN       NaN                       0              0            95648       0           3           0           0           35                 54716        23      1           2           8422       39       85500            0      1           0            2                    4159        34837          44.5    0                        0           263                246                  10                    10             0        48                   NaN                      NaN                   NaN                            0                     9              13              10          14        21        19            27            13                  23       0                0            1                  1                  98             10               0                    0         179321          95648             62800          91424                      NaN             NaN                      NaN                    NaN              NaN              NaN                NaN                 NaN                   NaN                              NaN                                NaN                                 N             NaN           NaN             NaN             NaN           NaN             NaN                 NaN               NaN                     NaN             NaN          NaN                  NaN                                        NaN                            NaN                          N                    NaN                       NaN               NaN             NaN               NaN                                                                  NaN                              "
            ]
          },
          "metadata": {
            "tags": []
          },
          "execution_count": 92
        }
      ]
    },
    {
      "cell_type": "code",
      "metadata": {
        "id": "MGhpAlbFm864",
        "colab_type": "code",
        "colab": {
          "base_uri": "https://localhost:8080/",
          "height": 372
        },
        "outputId": "b3a519db-cfb3-49ef-d55a-863ba17c09b4"
      },
      "source": [
        "# everything is bold. it thinks the whole file is a column\n",
        "# the 1st two column are NaNs\n",
        "loans_df = pd.read_csv('LoanStats_2018Q4.csv', header=1, skipfooter=2, engine='python')\n",
        "print(loans_df.shape)\n",
        "loans_df.head()"
      ],
      "execution_count": 93,
      "outputs": [
        {
          "output_type": "stream",
          "text": [
            "(128284, 144)\n"
          ],
          "name": "stdout"
        },
        {
          "output_type": "execute_result",
          "data": {
            "text/html": [
              "<div>\n",
              "<style scoped>\n",
              "    .dataframe tbody tr th:only-of-type {\n",
              "        vertical-align: middle;\n",
              "    }\n",
              "\n",
              "    .dataframe tbody tr th {\n",
              "        vertical-align: top;\n",
              "    }\n",
              "\n",
              "    .dataframe thead th {\n",
              "        text-align: right;\n",
              "    }\n",
              "</style>\n",
              "<table border=\"1\" class=\"dataframe\">\n",
              "  <thead>\n",
              "    <tr style=\"text-align: right;\">\n",
              "      <th></th>\n",
              "      <th>id</th>\n",
              "      <th>member_id</th>\n",
              "      <th>loan_amnt</th>\n",
              "      <th>funded_amnt</th>\n",
              "      <th>funded_amnt_inv</th>\n",
              "      <th>term</th>\n",
              "      <th>int_rate</th>\n",
              "      <th>installment</th>\n",
              "      <th>grade</th>\n",
              "      <th>sub_grade</th>\n",
              "      <th>emp_title</th>\n",
              "      <th>emp_length</th>\n",
              "      <th>home_ownership</th>\n",
              "      <th>annual_inc</th>\n",
              "      <th>verification_status</th>\n",
              "      <th>issue_d</th>\n",
              "      <th>loan_status</th>\n",
              "      <th>pymnt_plan</th>\n",
              "      <th>url</th>\n",
              "      <th>desc</th>\n",
              "      <th>purpose</th>\n",
              "      <th>title</th>\n",
              "      <th>zip_code</th>\n",
              "      <th>addr_state</th>\n",
              "      <th>dti</th>\n",
              "      <th>delinq_2yrs</th>\n",
              "      <th>earliest_cr_line</th>\n",
              "      <th>inq_last_6mths</th>\n",
              "      <th>mths_since_last_delinq</th>\n",
              "      <th>mths_since_last_record</th>\n",
              "      <th>open_acc</th>\n",
              "      <th>pub_rec</th>\n",
              "      <th>revol_bal</th>\n",
              "      <th>revol_util</th>\n",
              "      <th>total_acc</th>\n",
              "      <th>initial_list_status</th>\n",
              "      <th>out_prncp</th>\n",
              "      <th>out_prncp_inv</th>\n",
              "      <th>total_pymnt</th>\n",
              "      <th>total_pymnt_inv</th>\n",
              "      <th>...</th>\n",
              "      <th>percent_bc_gt_75</th>\n",
              "      <th>pub_rec_bankruptcies</th>\n",
              "      <th>tax_liens</th>\n",
              "      <th>tot_hi_cred_lim</th>\n",
              "      <th>total_bal_ex_mort</th>\n",
              "      <th>total_bc_limit</th>\n",
              "      <th>total_il_high_credit_limit</th>\n",
              "      <th>revol_bal_joint</th>\n",
              "      <th>sec_app_earliest_cr_line</th>\n",
              "      <th>sec_app_inq_last_6mths</th>\n",
              "      <th>sec_app_mort_acc</th>\n",
              "      <th>sec_app_open_acc</th>\n",
              "      <th>sec_app_revol_util</th>\n",
              "      <th>sec_app_open_act_il</th>\n",
              "      <th>sec_app_num_rev_accts</th>\n",
              "      <th>sec_app_chargeoff_within_12_mths</th>\n",
              "      <th>sec_app_collections_12_mths_ex_med</th>\n",
              "      <th>sec_app_mths_since_last_major_derog</th>\n",
              "      <th>hardship_flag</th>\n",
              "      <th>hardship_type</th>\n",
              "      <th>hardship_reason</th>\n",
              "      <th>hardship_status</th>\n",
              "      <th>deferral_term</th>\n",
              "      <th>hardship_amount</th>\n",
              "      <th>hardship_start_date</th>\n",
              "      <th>hardship_end_date</th>\n",
              "      <th>payment_plan_start_date</th>\n",
              "      <th>hardship_length</th>\n",
              "      <th>hardship_dpd</th>\n",
              "      <th>hardship_loan_status</th>\n",
              "      <th>orig_projected_additional_accrued_interest</th>\n",
              "      <th>hardship_payoff_balance_amount</th>\n",
              "      <th>hardship_last_payment_amount</th>\n",
              "      <th>debt_settlement_flag</th>\n",
              "      <th>debt_settlement_flag_date</th>\n",
              "      <th>settlement_status</th>\n",
              "      <th>settlement_date</th>\n",
              "      <th>settlement_amount</th>\n",
              "      <th>settlement_percentage</th>\n",
              "      <th>settlement_term</th>\n",
              "    </tr>\n",
              "  </thead>\n",
              "  <tbody>\n",
              "    <tr>\n",
              "      <th>0</th>\n",
              "      <td>NaN</td>\n",
              "      <td>NaN</td>\n",
              "      <td>10000</td>\n",
              "      <td>10000</td>\n",
              "      <td>10000.0</td>\n",
              "      <td>60 months</td>\n",
              "      <td>16.14%</td>\n",
              "      <td>243.93</td>\n",
              "      <td>C</td>\n",
              "      <td>C4</td>\n",
              "      <td>Sale Consultant</td>\n",
              "      <td>2 years</td>\n",
              "      <td>RENT</td>\n",
              "      <td>90000.0</td>\n",
              "      <td>Not Verified</td>\n",
              "      <td>Dec-2018</td>\n",
              "      <td>Fully Paid</td>\n",
              "      <td>n</td>\n",
              "      <td>NaN</td>\n",
              "      <td>NaN</td>\n",
              "      <td>debt_consolidation</td>\n",
              "      <td>Debt consolidation</td>\n",
              "      <td>079xx</td>\n",
              "      <td>NJ</td>\n",
              "      <td>8.80</td>\n",
              "      <td>0</td>\n",
              "      <td>Mar-1991</td>\n",
              "      <td>1</td>\n",
              "      <td>NaN</td>\n",
              "      <td>43.0</td>\n",
              "      <td>11</td>\n",
              "      <td>1</td>\n",
              "      <td>10582</td>\n",
              "      <td>58.5%</td>\n",
              "      <td>32</td>\n",
              "      <td>w</td>\n",
              "      <td>0.00</td>\n",
              "      <td>0.00</td>\n",
              "      <td>10661.057727</td>\n",
              "      <td>10661.06</td>\n",
              "      <td>...</td>\n",
              "      <td>80.0</td>\n",
              "      <td>1</td>\n",
              "      <td>0</td>\n",
              "      <td>25600</td>\n",
              "      <td>15470</td>\n",
              "      <td>15000</td>\n",
              "      <td>7500</td>\n",
              "      <td>NaN</td>\n",
              "      <td>NaN</td>\n",
              "      <td>NaN</td>\n",
              "      <td>NaN</td>\n",
              "      <td>NaN</td>\n",
              "      <td>NaN</td>\n",
              "      <td>NaN</td>\n",
              "      <td>NaN</td>\n",
              "      <td>NaN</td>\n",
              "      <td>NaN</td>\n",
              "      <td>NaN</td>\n",
              "      <td>N</td>\n",
              "      <td>NaN</td>\n",
              "      <td>NaN</td>\n",
              "      <td>NaN</td>\n",
              "      <td>NaN</td>\n",
              "      <td>NaN</td>\n",
              "      <td>NaN</td>\n",
              "      <td>NaN</td>\n",
              "      <td>NaN</td>\n",
              "      <td>NaN</td>\n",
              "      <td>NaN</td>\n",
              "      <td>NaN</td>\n",
              "      <td>NaN</td>\n",
              "      <td>NaN</td>\n",
              "      <td>NaN</td>\n",
              "      <td>N</td>\n",
              "      <td>NaN</td>\n",
              "      <td>NaN</td>\n",
              "      <td>NaN</td>\n",
              "      <td>NaN</td>\n",
              "      <td>NaN</td>\n",
              "      <td>NaN</td>\n",
              "    </tr>\n",
              "    <tr>\n",
              "      <th>1</th>\n",
              "      <td>NaN</td>\n",
              "      <td>NaN</td>\n",
              "      <td>6500</td>\n",
              "      <td>6500</td>\n",
              "      <td>6500.0</td>\n",
              "      <td>36 months</td>\n",
              "      <td>11.80%</td>\n",
              "      <td>215.28</td>\n",
              "      <td>B</td>\n",
              "      <td>B4</td>\n",
              "      <td>Educator</td>\n",
              "      <td>2 years</td>\n",
              "      <td>RENT</td>\n",
              "      <td>46500.0</td>\n",
              "      <td>Source Verified</td>\n",
              "      <td>Dec-2018</td>\n",
              "      <td>Current</td>\n",
              "      <td>n</td>\n",
              "      <td>NaN</td>\n",
              "      <td>NaN</td>\n",
              "      <td>debt_consolidation</td>\n",
              "      <td>Debt consolidation</td>\n",
              "      <td>352xx</td>\n",
              "      <td>AL</td>\n",
              "      <td>21.01</td>\n",
              "      <td>0</td>\n",
              "      <td>Aug-2011</td>\n",
              "      <td>1</td>\n",
              "      <td>61.0</td>\n",
              "      <td>NaN</td>\n",
              "      <td>24</td>\n",
              "      <td>0</td>\n",
              "      <td>6741</td>\n",
              "      <td>41.6%</td>\n",
              "      <td>30</td>\n",
              "      <td>w</td>\n",
              "      <td>4411.89</td>\n",
              "      <td>4411.89</td>\n",
              "      <td>2792.250000</td>\n",
              "      <td>2792.25</td>\n",
              "      <td>...</td>\n",
              "      <td>0.0</td>\n",
              "      <td>0</td>\n",
              "      <td>0</td>\n",
              "      <td>50845</td>\n",
              "      <td>40223</td>\n",
              "      <td>13300</td>\n",
              "      <td>34645</td>\n",
              "      <td>NaN</td>\n",
              "      <td>NaN</td>\n",
              "      <td>NaN</td>\n",
              "      <td>NaN</td>\n",
              "      <td>NaN</td>\n",
              "      <td>NaN</td>\n",
              "      <td>NaN</td>\n",
              "      <td>NaN</td>\n",
              "      <td>NaN</td>\n",
              "      <td>NaN</td>\n",
              "      <td>NaN</td>\n",
              "      <td>N</td>\n",
              "      <td>NaN</td>\n",
              "      <td>NaN</td>\n",
              "      <td>NaN</td>\n",
              "      <td>NaN</td>\n",
              "      <td>NaN</td>\n",
              "      <td>NaN</td>\n",
              "      <td>NaN</td>\n",
              "      <td>NaN</td>\n",
              "      <td>NaN</td>\n",
              "      <td>NaN</td>\n",
              "      <td>NaN</td>\n",
              "      <td>NaN</td>\n",
              "      <td>NaN</td>\n",
              "      <td>NaN</td>\n",
              "      <td>N</td>\n",
              "      <td>NaN</td>\n",
              "      <td>NaN</td>\n",
              "      <td>NaN</td>\n",
              "      <td>NaN</td>\n",
              "      <td>NaN</td>\n",
              "      <td>NaN</td>\n",
              "    </tr>\n",
              "    <tr>\n",
              "      <th>2</th>\n",
              "      <td>NaN</td>\n",
              "      <td>NaN</td>\n",
              "      <td>4500</td>\n",
              "      <td>4500</td>\n",
              "      <td>4500.0</td>\n",
              "      <td>36 months</td>\n",
              "      <td>11.31%</td>\n",
              "      <td>147.99</td>\n",
              "      <td>B</td>\n",
              "      <td>B3</td>\n",
              "      <td>Accounts Examiner III</td>\n",
              "      <td>10+ years</td>\n",
              "      <td>RENT</td>\n",
              "      <td>38500.0</td>\n",
              "      <td>Not Verified</td>\n",
              "      <td>Dec-2018</td>\n",
              "      <td>Fully Paid</td>\n",
              "      <td>n</td>\n",
              "      <td>NaN</td>\n",
              "      <td>NaN</td>\n",
              "      <td>credit_card</td>\n",
              "      <td>Credit card refinancing</td>\n",
              "      <td>786xx</td>\n",
              "      <td>TX</td>\n",
              "      <td>4.64</td>\n",
              "      <td>0</td>\n",
              "      <td>Dec-2003</td>\n",
              "      <td>0</td>\n",
              "      <td>25.0</td>\n",
              "      <td>NaN</td>\n",
              "      <td>12</td>\n",
              "      <td>0</td>\n",
              "      <td>4472</td>\n",
              "      <td>15.3%</td>\n",
              "      <td>25</td>\n",
              "      <td>w</td>\n",
              "      <td>0.00</td>\n",
              "      <td>0.00</td>\n",
              "      <td>4549.217149</td>\n",
              "      <td>4549.22</td>\n",
              "      <td>...</td>\n",
              "      <td>0.0</td>\n",
              "      <td>0</td>\n",
              "      <td>0</td>\n",
              "      <td>53795</td>\n",
              "      <td>29137</td>\n",
              "      <td>15100</td>\n",
              "      <td>24595</td>\n",
              "      <td>NaN</td>\n",
              "      <td>NaN</td>\n",
              "      <td>NaN</td>\n",
              "      <td>NaN</td>\n",
              "      <td>NaN</td>\n",
              "      <td>NaN</td>\n",
              "      <td>NaN</td>\n",
              "      <td>NaN</td>\n",
              "      <td>NaN</td>\n",
              "      <td>NaN</td>\n",
              "      <td>NaN</td>\n",
              "      <td>N</td>\n",
              "      <td>NaN</td>\n",
              "      <td>NaN</td>\n",
              "      <td>NaN</td>\n",
              "      <td>NaN</td>\n",
              "      <td>NaN</td>\n",
              "      <td>NaN</td>\n",
              "      <td>NaN</td>\n",
              "      <td>NaN</td>\n",
              "      <td>NaN</td>\n",
              "      <td>NaN</td>\n",
              "      <td>NaN</td>\n",
              "      <td>NaN</td>\n",
              "      <td>NaN</td>\n",
              "      <td>NaN</td>\n",
              "      <td>N</td>\n",
              "      <td>NaN</td>\n",
              "      <td>NaN</td>\n",
              "      <td>NaN</td>\n",
              "      <td>NaN</td>\n",
              "      <td>NaN</td>\n",
              "      <td>NaN</td>\n",
              "    </tr>\n",
              "    <tr>\n",
              "      <th>3</th>\n",
              "      <td>NaN</td>\n",
              "      <td>NaN</td>\n",
              "      <td>25000</td>\n",
              "      <td>25000</td>\n",
              "      <td>25000.0</td>\n",
              "      <td>60 months</td>\n",
              "      <td>14.47%</td>\n",
              "      <td>587.82</td>\n",
              "      <td>C</td>\n",
              "      <td>C2</td>\n",
              "      <td>teacher</td>\n",
              "      <td>10+ years</td>\n",
              "      <td>OWN</td>\n",
              "      <td>110000.0</td>\n",
              "      <td>Not Verified</td>\n",
              "      <td>Dec-2018</td>\n",
              "      <td>Late (31-120 days)</td>\n",
              "      <td>n</td>\n",
              "      <td>NaN</td>\n",
              "      <td>NaN</td>\n",
              "      <td>credit_card</td>\n",
              "      <td>Credit card refinancing</td>\n",
              "      <td>117xx</td>\n",
              "      <td>NY</td>\n",
              "      <td>26.43</td>\n",
              "      <td>1</td>\n",
              "      <td>Jan-1997</td>\n",
              "      <td>0</td>\n",
              "      <td>7.0</td>\n",
              "      <td>NaN</td>\n",
              "      <td>23</td>\n",
              "      <td>0</td>\n",
              "      <td>39053</td>\n",
              "      <td>45.7%</td>\n",
              "      <td>49</td>\n",
              "      <td>w</td>\n",
              "      <td>21975.89</td>\n",
              "      <td>21975.89</td>\n",
              "      <td>5848.050000</td>\n",
              "      <td>5848.05</td>\n",
              "      <td>...</td>\n",
              "      <td>10.0</td>\n",
              "      <td>0</td>\n",
              "      <td>0</td>\n",
              "      <td>179321</td>\n",
              "      <td>95648</td>\n",
              "      <td>62800</td>\n",
              "      <td>91424</td>\n",
              "      <td>NaN</td>\n",
              "      <td>NaN</td>\n",
              "      <td>NaN</td>\n",
              "      <td>NaN</td>\n",
              "      <td>NaN</td>\n",
              "      <td>NaN</td>\n",
              "      <td>NaN</td>\n",
              "      <td>NaN</td>\n",
              "      <td>NaN</td>\n",
              "      <td>NaN</td>\n",
              "      <td>NaN</td>\n",
              "      <td>N</td>\n",
              "      <td>NaN</td>\n",
              "      <td>NaN</td>\n",
              "      <td>NaN</td>\n",
              "      <td>NaN</td>\n",
              "      <td>NaN</td>\n",
              "      <td>NaN</td>\n",
              "      <td>NaN</td>\n",
              "      <td>NaN</td>\n",
              "      <td>NaN</td>\n",
              "      <td>NaN</td>\n",
              "      <td>NaN</td>\n",
              "      <td>NaN</td>\n",
              "      <td>NaN</td>\n",
              "      <td>NaN</td>\n",
              "      <td>N</td>\n",
              "      <td>NaN</td>\n",
              "      <td>NaN</td>\n",
              "      <td>NaN</td>\n",
              "      <td>NaN</td>\n",
              "      <td>NaN</td>\n",
              "      <td>NaN</td>\n",
              "    </tr>\n",
              "    <tr>\n",
              "      <th>4</th>\n",
              "      <td>NaN</td>\n",
              "      <td>NaN</td>\n",
              "      <td>30000</td>\n",
              "      <td>30000</td>\n",
              "      <td>30000.0</td>\n",
              "      <td>60 months</td>\n",
              "      <td>27.27%</td>\n",
              "      <td>920.91</td>\n",
              "      <td>E</td>\n",
              "      <td>E5</td>\n",
              "      <td>Claims Analyst</td>\n",
              "      <td>1 year</td>\n",
              "      <td>RENT</td>\n",
              "      <td>50000.0</td>\n",
              "      <td>Not Verified</td>\n",
              "      <td>Dec-2018</td>\n",
              "      <td>Current</td>\n",
              "      <td>n</td>\n",
              "      <td>NaN</td>\n",
              "      <td>NaN</td>\n",
              "      <td>debt_consolidation</td>\n",
              "      <td>Debt consolidation</td>\n",
              "      <td>857xx</td>\n",
              "      <td>AZ</td>\n",
              "      <td>23.62</td>\n",
              "      <td>0</td>\n",
              "      <td>Dec-1997</td>\n",
              "      <td>1</td>\n",
              "      <td>NaN</td>\n",
              "      <td>NaN</td>\n",
              "      <td>10</td>\n",
              "      <td>0</td>\n",
              "      <td>1258</td>\n",
              "      <td>10.7%</td>\n",
              "      <td>16</td>\n",
              "      <td>w</td>\n",
              "      <td>26429.58</td>\n",
              "      <td>26429.58</td>\n",
              "      <td>11903.650000</td>\n",
              "      <td>11903.65</td>\n",
              "      <td>...</td>\n",
              "      <td>0.0</td>\n",
              "      <td>0</td>\n",
              "      <td>0</td>\n",
              "      <td>46300</td>\n",
              "      <td>27364</td>\n",
              "      <td>10100</td>\n",
              "      <td>34500</td>\n",
              "      <td>NaN</td>\n",
              "      <td>NaN</td>\n",
              "      <td>NaN</td>\n",
              "      <td>NaN</td>\n",
              "      <td>NaN</td>\n",
              "      <td>NaN</td>\n",
              "      <td>NaN</td>\n",
              "      <td>NaN</td>\n",
              "      <td>NaN</td>\n",
              "      <td>NaN</td>\n",
              "      <td>NaN</td>\n",
              "      <td>N</td>\n",
              "      <td>NaN</td>\n",
              "      <td>NaN</td>\n",
              "      <td>NaN</td>\n",
              "      <td>NaN</td>\n",
              "      <td>NaN</td>\n",
              "      <td>NaN</td>\n",
              "      <td>NaN</td>\n",
              "      <td>NaN</td>\n",
              "      <td>NaN</td>\n",
              "      <td>NaN</td>\n",
              "      <td>NaN</td>\n",
              "      <td>NaN</td>\n",
              "      <td>NaN</td>\n",
              "      <td>NaN</td>\n",
              "      <td>N</td>\n",
              "      <td>NaN</td>\n",
              "      <td>NaN</td>\n",
              "      <td>NaN</td>\n",
              "      <td>NaN</td>\n",
              "      <td>NaN</td>\n",
              "      <td>NaN</td>\n",
              "    </tr>\n",
              "  </tbody>\n",
              "</table>\n",
              "<p>5 rows × 144 columns</p>\n",
              "</div>"
            ],
            "text/plain": [
              "   id  member_id  ...  settlement_percentage  settlement_term\n",
              "0 NaN        NaN  ...                    NaN              NaN\n",
              "1 NaN        NaN  ...                    NaN              NaN\n",
              "2 NaN        NaN  ...                    NaN              NaN\n",
              "3 NaN        NaN  ...                    NaN              NaN\n",
              "4 NaN        NaN  ...                    NaN              NaN\n",
              "\n",
              "[5 rows x 144 columns]"
            ]
          },
          "metadata": {
            "tags": []
          },
          "execution_count": 93
        }
      ]
    },
    {
      "cell_type": "code",
      "metadata": {
        "id": "EbzgOqRYpW3m",
        "colab_type": "code",
        "colab": {
          "base_uri": "https://localhost:8080/",
          "height": 355
        },
        "outputId": "558918eb-c292-4467-d43a-033bb0d7ad94"
      },
      "source": [
        "loans_df = pd.read_csv('LoanStats_2018Q4.csv', skiprows=1, skipfooter=2, engine='python')\n",
        "loans_df.tail ()"
      ],
      "execution_count": 94,
      "outputs": [
        {
          "output_type": "execute_result",
          "data": {
            "text/html": [
              "<div>\n",
              "<style scoped>\n",
              "    .dataframe tbody tr th:only-of-type {\n",
              "        vertical-align: middle;\n",
              "    }\n",
              "\n",
              "    .dataframe tbody tr th {\n",
              "        vertical-align: top;\n",
              "    }\n",
              "\n",
              "    .dataframe thead th {\n",
              "        text-align: right;\n",
              "    }\n",
              "</style>\n",
              "<table border=\"1\" class=\"dataframe\">\n",
              "  <thead>\n",
              "    <tr style=\"text-align: right;\">\n",
              "      <th></th>\n",
              "      <th>id</th>\n",
              "      <th>member_id</th>\n",
              "      <th>loan_amnt</th>\n",
              "      <th>funded_amnt</th>\n",
              "      <th>funded_amnt_inv</th>\n",
              "      <th>term</th>\n",
              "      <th>int_rate</th>\n",
              "      <th>installment</th>\n",
              "      <th>grade</th>\n",
              "      <th>sub_grade</th>\n",
              "      <th>emp_title</th>\n",
              "      <th>emp_length</th>\n",
              "      <th>home_ownership</th>\n",
              "      <th>annual_inc</th>\n",
              "      <th>verification_status</th>\n",
              "      <th>issue_d</th>\n",
              "      <th>loan_status</th>\n",
              "      <th>pymnt_plan</th>\n",
              "      <th>url</th>\n",
              "      <th>desc</th>\n",
              "      <th>purpose</th>\n",
              "      <th>title</th>\n",
              "      <th>zip_code</th>\n",
              "      <th>addr_state</th>\n",
              "      <th>dti</th>\n",
              "      <th>delinq_2yrs</th>\n",
              "      <th>earliest_cr_line</th>\n",
              "      <th>inq_last_6mths</th>\n",
              "      <th>mths_since_last_delinq</th>\n",
              "      <th>mths_since_last_record</th>\n",
              "      <th>open_acc</th>\n",
              "      <th>pub_rec</th>\n",
              "      <th>revol_bal</th>\n",
              "      <th>revol_util</th>\n",
              "      <th>total_acc</th>\n",
              "      <th>initial_list_status</th>\n",
              "      <th>out_prncp</th>\n",
              "      <th>out_prncp_inv</th>\n",
              "      <th>total_pymnt</th>\n",
              "      <th>total_pymnt_inv</th>\n",
              "      <th>...</th>\n",
              "      <th>percent_bc_gt_75</th>\n",
              "      <th>pub_rec_bankruptcies</th>\n",
              "      <th>tax_liens</th>\n",
              "      <th>tot_hi_cred_lim</th>\n",
              "      <th>total_bal_ex_mort</th>\n",
              "      <th>total_bc_limit</th>\n",
              "      <th>total_il_high_credit_limit</th>\n",
              "      <th>revol_bal_joint</th>\n",
              "      <th>sec_app_earliest_cr_line</th>\n",
              "      <th>sec_app_inq_last_6mths</th>\n",
              "      <th>sec_app_mort_acc</th>\n",
              "      <th>sec_app_open_acc</th>\n",
              "      <th>sec_app_revol_util</th>\n",
              "      <th>sec_app_open_act_il</th>\n",
              "      <th>sec_app_num_rev_accts</th>\n",
              "      <th>sec_app_chargeoff_within_12_mths</th>\n",
              "      <th>sec_app_collections_12_mths_ex_med</th>\n",
              "      <th>sec_app_mths_since_last_major_derog</th>\n",
              "      <th>hardship_flag</th>\n",
              "      <th>hardship_type</th>\n",
              "      <th>hardship_reason</th>\n",
              "      <th>hardship_status</th>\n",
              "      <th>deferral_term</th>\n",
              "      <th>hardship_amount</th>\n",
              "      <th>hardship_start_date</th>\n",
              "      <th>hardship_end_date</th>\n",
              "      <th>payment_plan_start_date</th>\n",
              "      <th>hardship_length</th>\n",
              "      <th>hardship_dpd</th>\n",
              "      <th>hardship_loan_status</th>\n",
              "      <th>orig_projected_additional_accrued_interest</th>\n",
              "      <th>hardship_payoff_balance_amount</th>\n",
              "      <th>hardship_last_payment_amount</th>\n",
              "      <th>debt_settlement_flag</th>\n",
              "      <th>debt_settlement_flag_date</th>\n",
              "      <th>settlement_status</th>\n",
              "      <th>settlement_date</th>\n",
              "      <th>settlement_amount</th>\n",
              "      <th>settlement_percentage</th>\n",
              "      <th>settlement_term</th>\n",
              "    </tr>\n",
              "  </thead>\n",
              "  <tbody>\n",
              "    <tr>\n",
              "      <th>128279</th>\n",
              "      <td>NaN</td>\n",
              "      <td>NaN</td>\n",
              "      <td>23000</td>\n",
              "      <td>23000</td>\n",
              "      <td>23000.0</td>\n",
              "      <td>36 months</td>\n",
              "      <td>15.02%</td>\n",
              "      <td>797.53</td>\n",
              "      <td>C</td>\n",
              "      <td>C3</td>\n",
              "      <td>Tax Consultant</td>\n",
              "      <td>10+ years</td>\n",
              "      <td>MORTGAGE</td>\n",
              "      <td>75000.0</td>\n",
              "      <td>Source Verified</td>\n",
              "      <td>Oct-2018</td>\n",
              "      <td>Charged Off</td>\n",
              "      <td>n</td>\n",
              "      <td>NaN</td>\n",
              "      <td>NaN</td>\n",
              "      <td>debt_consolidation</td>\n",
              "      <td>Debt consolidation</td>\n",
              "      <td>352xx</td>\n",
              "      <td>AL</td>\n",
              "      <td>20.95</td>\n",
              "      <td>1</td>\n",
              "      <td>Aug-1985</td>\n",
              "      <td>2</td>\n",
              "      <td>22.0</td>\n",
              "      <td>NaN</td>\n",
              "      <td>12</td>\n",
              "      <td>0</td>\n",
              "      <td>22465</td>\n",
              "      <td>43.6%</td>\n",
              "      <td>28</td>\n",
              "      <td>w</td>\n",
              "      <td>0.00</td>\n",
              "      <td>0.00</td>\n",
              "      <td>1547.08</td>\n",
              "      <td>1547.08</td>\n",
              "      <td>...</td>\n",
              "      <td>14.3</td>\n",
              "      <td>0</td>\n",
              "      <td>0</td>\n",
              "      <td>296500</td>\n",
              "      <td>40614</td>\n",
              "      <td>47100</td>\n",
              "      <td>21000</td>\n",
              "      <td>NaN</td>\n",
              "      <td>NaN</td>\n",
              "      <td>NaN</td>\n",
              "      <td>NaN</td>\n",
              "      <td>NaN</td>\n",
              "      <td>NaN</td>\n",
              "      <td>NaN</td>\n",
              "      <td>NaN</td>\n",
              "      <td>NaN</td>\n",
              "      <td>NaN</td>\n",
              "      <td>NaN</td>\n",
              "      <td>N</td>\n",
              "      <td>NaN</td>\n",
              "      <td>NaN</td>\n",
              "      <td>NaN</td>\n",
              "      <td>NaN</td>\n",
              "      <td>NaN</td>\n",
              "      <td>NaN</td>\n",
              "      <td>NaN</td>\n",
              "      <td>NaN</td>\n",
              "      <td>NaN</td>\n",
              "      <td>NaN</td>\n",
              "      <td>NaN</td>\n",
              "      <td>NaN</td>\n",
              "      <td>NaN</td>\n",
              "      <td>NaN</td>\n",
              "      <td>N</td>\n",
              "      <td>NaN</td>\n",
              "      <td>NaN</td>\n",
              "      <td>NaN</td>\n",
              "      <td>NaN</td>\n",
              "      <td>NaN</td>\n",
              "      <td>NaN</td>\n",
              "    </tr>\n",
              "    <tr>\n",
              "      <th>128280</th>\n",
              "      <td>NaN</td>\n",
              "      <td>NaN</td>\n",
              "      <td>10000</td>\n",
              "      <td>10000</td>\n",
              "      <td>10000.0</td>\n",
              "      <td>36 months</td>\n",
              "      <td>15.02%</td>\n",
              "      <td>346.76</td>\n",
              "      <td>C</td>\n",
              "      <td>C3</td>\n",
              "      <td>security guard</td>\n",
              "      <td>5 years</td>\n",
              "      <td>MORTGAGE</td>\n",
              "      <td>38000.0</td>\n",
              "      <td>Not Verified</td>\n",
              "      <td>Oct-2018</td>\n",
              "      <td>Current</td>\n",
              "      <td>n</td>\n",
              "      <td>NaN</td>\n",
              "      <td>NaN</td>\n",
              "      <td>debt_consolidation</td>\n",
              "      <td>Debt consolidation</td>\n",
              "      <td>443xx</td>\n",
              "      <td>OH</td>\n",
              "      <td>13.16</td>\n",
              "      <td>3</td>\n",
              "      <td>Jul-1982</td>\n",
              "      <td>0</td>\n",
              "      <td>6.0</td>\n",
              "      <td>NaN</td>\n",
              "      <td>11</td>\n",
              "      <td>0</td>\n",
              "      <td>5634</td>\n",
              "      <td>37.1%</td>\n",
              "      <td>16</td>\n",
              "      <td>w</td>\n",
              "      <td>6101.42</td>\n",
              "      <td>6101.42</td>\n",
              "      <td>5539.82</td>\n",
              "      <td>5539.82</td>\n",
              "      <td>...</td>\n",
              "      <td>40.0</td>\n",
              "      <td>0</td>\n",
              "      <td>0</td>\n",
              "      <td>91403</td>\n",
              "      <td>9323</td>\n",
              "      <td>9100</td>\n",
              "      <td>2000</td>\n",
              "      <td>NaN</td>\n",
              "      <td>NaN</td>\n",
              "      <td>NaN</td>\n",
              "      <td>NaN</td>\n",
              "      <td>NaN</td>\n",
              "      <td>NaN</td>\n",
              "      <td>NaN</td>\n",
              "      <td>NaN</td>\n",
              "      <td>NaN</td>\n",
              "      <td>NaN</td>\n",
              "      <td>NaN</td>\n",
              "      <td>N</td>\n",
              "      <td>NaN</td>\n",
              "      <td>NaN</td>\n",
              "      <td>NaN</td>\n",
              "      <td>NaN</td>\n",
              "      <td>NaN</td>\n",
              "      <td>NaN</td>\n",
              "      <td>NaN</td>\n",
              "      <td>NaN</td>\n",
              "      <td>NaN</td>\n",
              "      <td>NaN</td>\n",
              "      <td>NaN</td>\n",
              "      <td>NaN</td>\n",
              "      <td>NaN</td>\n",
              "      <td>NaN</td>\n",
              "      <td>N</td>\n",
              "      <td>NaN</td>\n",
              "      <td>NaN</td>\n",
              "      <td>NaN</td>\n",
              "      <td>NaN</td>\n",
              "      <td>NaN</td>\n",
              "      <td>NaN</td>\n",
              "    </tr>\n",
              "    <tr>\n",
              "      <th>128281</th>\n",
              "      <td>NaN</td>\n",
              "      <td>NaN</td>\n",
              "      <td>5000</td>\n",
              "      <td>5000</td>\n",
              "      <td>5000.0</td>\n",
              "      <td>36 months</td>\n",
              "      <td>13.56%</td>\n",
              "      <td>169.83</td>\n",
              "      <td>C</td>\n",
              "      <td>C1</td>\n",
              "      <td>Payoff Clerk</td>\n",
              "      <td>10+ years</td>\n",
              "      <td>MORTGAGE</td>\n",
              "      <td>35360.0</td>\n",
              "      <td>Not Verified</td>\n",
              "      <td>Oct-2018</td>\n",
              "      <td>Current</td>\n",
              "      <td>n</td>\n",
              "      <td>NaN</td>\n",
              "      <td>NaN</td>\n",
              "      <td>debt_consolidation</td>\n",
              "      <td>Debt consolidation</td>\n",
              "      <td>381xx</td>\n",
              "      <td>TN</td>\n",
              "      <td>11.30</td>\n",
              "      <td>1</td>\n",
              "      <td>Jun-2006</td>\n",
              "      <td>0</td>\n",
              "      <td>21.0</td>\n",
              "      <td>NaN</td>\n",
              "      <td>9</td>\n",
              "      <td>0</td>\n",
              "      <td>2597</td>\n",
              "      <td>27.3%</td>\n",
              "      <td>15</td>\n",
              "      <td>f</td>\n",
              "      <td>3024.63</td>\n",
              "      <td>3024.63</td>\n",
              "      <td>2713.51</td>\n",
              "      <td>2713.51</td>\n",
              "      <td>...</td>\n",
              "      <td>50.0</td>\n",
              "      <td>0</td>\n",
              "      <td>0</td>\n",
              "      <td>93908</td>\n",
              "      <td>4976</td>\n",
              "      <td>3000</td>\n",
              "      <td>6028</td>\n",
              "      <td>NaN</td>\n",
              "      <td>NaN</td>\n",
              "      <td>NaN</td>\n",
              "      <td>NaN</td>\n",
              "      <td>NaN</td>\n",
              "      <td>NaN</td>\n",
              "      <td>NaN</td>\n",
              "      <td>NaN</td>\n",
              "      <td>NaN</td>\n",
              "      <td>NaN</td>\n",
              "      <td>NaN</td>\n",
              "      <td>N</td>\n",
              "      <td>NaN</td>\n",
              "      <td>NaN</td>\n",
              "      <td>NaN</td>\n",
              "      <td>NaN</td>\n",
              "      <td>NaN</td>\n",
              "      <td>NaN</td>\n",
              "      <td>NaN</td>\n",
              "      <td>NaN</td>\n",
              "      <td>NaN</td>\n",
              "      <td>NaN</td>\n",
              "      <td>NaN</td>\n",
              "      <td>NaN</td>\n",
              "      <td>NaN</td>\n",
              "      <td>NaN</td>\n",
              "      <td>N</td>\n",
              "      <td>NaN</td>\n",
              "      <td>NaN</td>\n",
              "      <td>NaN</td>\n",
              "      <td>NaN</td>\n",
              "      <td>NaN</td>\n",
              "      <td>NaN</td>\n",
              "    </tr>\n",
              "    <tr>\n",
              "      <th>128282</th>\n",
              "      <td>NaN</td>\n",
              "      <td>NaN</td>\n",
              "      <td>10000</td>\n",
              "      <td>10000</td>\n",
              "      <td>9750.0</td>\n",
              "      <td>36 months</td>\n",
              "      <td>11.06%</td>\n",
              "      <td>327.68</td>\n",
              "      <td>B</td>\n",
              "      <td>B3</td>\n",
              "      <td>NaN</td>\n",
              "      <td>NaN</td>\n",
              "      <td>RENT</td>\n",
              "      <td>44400.0</td>\n",
              "      <td>Source Verified</td>\n",
              "      <td>Oct-2018</td>\n",
              "      <td>Current</td>\n",
              "      <td>n</td>\n",
              "      <td>NaN</td>\n",
              "      <td>NaN</td>\n",
              "      <td>credit_card</td>\n",
              "      <td>Credit card refinancing</td>\n",
              "      <td>980xx</td>\n",
              "      <td>WA</td>\n",
              "      <td>11.78</td>\n",
              "      <td>0</td>\n",
              "      <td>Oct-2008</td>\n",
              "      <td>2</td>\n",
              "      <td>40.0</td>\n",
              "      <td>NaN</td>\n",
              "      <td>15</td>\n",
              "      <td>0</td>\n",
              "      <td>6269</td>\n",
              "      <td>13.1%</td>\n",
              "      <td>25</td>\n",
              "      <td>f</td>\n",
              "      <td>5959.76</td>\n",
              "      <td>5810.77</td>\n",
              "      <td>5227.52</td>\n",
              "      <td>5096.83</td>\n",
              "      <td>...</td>\n",
              "      <td>0.0</td>\n",
              "      <td>0</td>\n",
              "      <td>0</td>\n",
              "      <td>57871</td>\n",
              "      <td>16440</td>\n",
              "      <td>20500</td>\n",
              "      <td>10171</td>\n",
              "      <td>NaN</td>\n",
              "      <td>NaN</td>\n",
              "      <td>NaN</td>\n",
              "      <td>NaN</td>\n",
              "      <td>NaN</td>\n",
              "      <td>NaN</td>\n",
              "      <td>NaN</td>\n",
              "      <td>NaN</td>\n",
              "      <td>NaN</td>\n",
              "      <td>NaN</td>\n",
              "      <td>NaN</td>\n",
              "      <td>N</td>\n",
              "      <td>NaN</td>\n",
              "      <td>NaN</td>\n",
              "      <td>NaN</td>\n",
              "      <td>NaN</td>\n",
              "      <td>NaN</td>\n",
              "      <td>NaN</td>\n",
              "      <td>NaN</td>\n",
              "      <td>NaN</td>\n",
              "      <td>NaN</td>\n",
              "      <td>NaN</td>\n",
              "      <td>NaN</td>\n",
              "      <td>NaN</td>\n",
              "      <td>NaN</td>\n",
              "      <td>NaN</td>\n",
              "      <td>N</td>\n",
              "      <td>NaN</td>\n",
              "      <td>NaN</td>\n",
              "      <td>NaN</td>\n",
              "      <td>NaN</td>\n",
              "      <td>NaN</td>\n",
              "      <td>NaN</td>\n",
              "    </tr>\n",
              "    <tr>\n",
              "      <th>128283</th>\n",
              "      <td>NaN</td>\n",
              "      <td>NaN</td>\n",
              "      <td>10000</td>\n",
              "      <td>10000</td>\n",
              "      <td>10000.0</td>\n",
              "      <td>36 months</td>\n",
              "      <td>16.91%</td>\n",
              "      <td>356.08</td>\n",
              "      <td>C</td>\n",
              "      <td>C5</td>\n",
              "      <td>Key Accounts Manager</td>\n",
              "      <td>2 years</td>\n",
              "      <td>RENT</td>\n",
              "      <td>80000.0</td>\n",
              "      <td>Not Verified</td>\n",
              "      <td>Oct-2018</td>\n",
              "      <td>Current</td>\n",
              "      <td>n</td>\n",
              "      <td>NaN</td>\n",
              "      <td>NaN</td>\n",
              "      <td>other</td>\n",
              "      <td>Other</td>\n",
              "      <td>021xx</td>\n",
              "      <td>MA</td>\n",
              "      <td>17.72</td>\n",
              "      <td>1</td>\n",
              "      <td>Sep-2006</td>\n",
              "      <td>0</td>\n",
              "      <td>14.0</td>\n",
              "      <td>NaN</td>\n",
              "      <td>17</td>\n",
              "      <td>0</td>\n",
              "      <td>1942</td>\n",
              "      <td>30.8%</td>\n",
              "      <td>31</td>\n",
              "      <td>w</td>\n",
              "      <td>6168.49</td>\n",
              "      <td>6168.49</td>\n",
              "      <td>5687.89</td>\n",
              "      <td>5687.89</td>\n",
              "      <td>...</td>\n",
              "      <td>0.0</td>\n",
              "      <td>0</td>\n",
              "      <td>0</td>\n",
              "      <td>73669</td>\n",
              "      <td>59194</td>\n",
              "      <td>4000</td>\n",
              "      <td>67369</td>\n",
              "      <td>NaN</td>\n",
              "      <td>NaN</td>\n",
              "      <td>NaN</td>\n",
              "      <td>NaN</td>\n",
              "      <td>NaN</td>\n",
              "      <td>NaN</td>\n",
              "      <td>NaN</td>\n",
              "      <td>NaN</td>\n",
              "      <td>NaN</td>\n",
              "      <td>NaN</td>\n",
              "      <td>NaN</td>\n",
              "      <td>N</td>\n",
              "      <td>NaN</td>\n",
              "      <td>NaN</td>\n",
              "      <td>NaN</td>\n",
              "      <td>NaN</td>\n",
              "      <td>NaN</td>\n",
              "      <td>NaN</td>\n",
              "      <td>NaN</td>\n",
              "      <td>NaN</td>\n",
              "      <td>NaN</td>\n",
              "      <td>NaN</td>\n",
              "      <td>NaN</td>\n",
              "      <td>NaN</td>\n",
              "      <td>NaN</td>\n",
              "      <td>NaN</td>\n",
              "      <td>N</td>\n",
              "      <td>NaN</td>\n",
              "      <td>NaN</td>\n",
              "      <td>NaN</td>\n",
              "      <td>NaN</td>\n",
              "      <td>NaN</td>\n",
              "      <td>NaN</td>\n",
              "    </tr>\n",
              "  </tbody>\n",
              "</table>\n",
              "<p>5 rows × 144 columns</p>\n",
              "</div>"
            ],
            "text/plain": [
              "        id  member_id  ...  settlement_percentage  settlement_term\n",
              "128279 NaN        NaN  ...                    NaN              NaN\n",
              "128280 NaN        NaN  ...                    NaN              NaN\n",
              "128281 NaN        NaN  ...                    NaN              NaN\n",
              "128282 NaN        NaN  ...                    NaN              NaN\n",
              "128283 NaN        NaN  ...                    NaN              NaN\n",
              "\n",
              "[5 rows x 144 columns]"
            ]
          },
          "metadata": {
            "tags": []
          },
          "execution_count": 94
        }
      ]
    },
    {
      "cell_type": "code",
      "metadata": {
        "id": "qEYkABwcpXQW",
        "colab_type": "code",
        "colab": {
          "base_uri": "https://localhost:8080/",
          "height": 221
        },
        "outputId": "777a1bbd-26aa-4384-ea94-2d21dca9d81f"
      },
      "source": [
        "# check all the NaN values\n",
        "# Sum null values by column and sort from least to greatest\n",
        "# pd.set_option('display.max_rows', 100)\n",
        "# pd.options.display.max_rows = 100\n",
        "loans_df.isnull().sum().sort_values(ascending=False)"
      ],
      "execution_count": 91,
      "outputs": [
        {
          "output_type": "execute_result",
          "data": {
            "text/plain": [
              "id                                            128284\n",
              "desc                                          128284\n",
              "member_id                                     128284\n",
              "url                                           128284\n",
              "orig_projected_additional_accrued_interest    128025\n",
              "                                               ...  \n",
              "inq_last_12m                                       0\n",
              "acc_open_past_24mths                               0\n",
              "chargeoff_within_12_mths                           0\n",
              "delinq_amnt                                        0\n",
              "inq_fi                                             0\n",
              "Length: 144, dtype: int64"
            ]
          },
          "metadata": {
            "tags": []
          },
          "execution_count": 91
        }
      ]
    },
    {
      "cell_type": "code",
      "metadata": {
        "id": "Ufj1yT5HpXzC",
        "colab_type": "code",
        "colab": {
          "base_uri": "https://localhost:8080/",
          "height": 372
        },
        "outputId": "85853def-2f5b-4e77-fcb3-5cf3c59b3497"
      },
      "source": [
        "# Address the extra NaNs in each column by skipping the footer as well\n",
        "# we took care of the footer above when we read_csv()\n",
        "# for all the rows, url, member_id, desc,  id are NaN - time to clean \n",
        "loans_df = loans_df.drop(['url', 'member_id', 'desc', 'id'], axis=1)\n",
        "print(loans_df.shape)\n",
        "loans_df.head()"
      ],
      "execution_count": 95,
      "outputs": [
        {
          "output_type": "stream",
          "text": [
            "(128284, 140)\n"
          ],
          "name": "stdout"
        },
        {
          "output_type": "execute_result",
          "data": {
            "text/html": [
              "<div>\n",
              "<style scoped>\n",
              "    .dataframe tbody tr th:only-of-type {\n",
              "        vertical-align: middle;\n",
              "    }\n",
              "\n",
              "    .dataframe tbody tr th {\n",
              "        vertical-align: top;\n",
              "    }\n",
              "\n",
              "    .dataframe thead th {\n",
              "        text-align: right;\n",
              "    }\n",
              "</style>\n",
              "<table border=\"1\" class=\"dataframe\">\n",
              "  <thead>\n",
              "    <tr style=\"text-align: right;\">\n",
              "      <th></th>\n",
              "      <th>loan_amnt</th>\n",
              "      <th>funded_amnt</th>\n",
              "      <th>funded_amnt_inv</th>\n",
              "      <th>term</th>\n",
              "      <th>int_rate</th>\n",
              "      <th>installment</th>\n",
              "      <th>grade</th>\n",
              "      <th>sub_grade</th>\n",
              "      <th>emp_title</th>\n",
              "      <th>emp_length</th>\n",
              "      <th>home_ownership</th>\n",
              "      <th>annual_inc</th>\n",
              "      <th>verification_status</th>\n",
              "      <th>issue_d</th>\n",
              "      <th>loan_status</th>\n",
              "      <th>pymnt_plan</th>\n",
              "      <th>purpose</th>\n",
              "      <th>title</th>\n",
              "      <th>zip_code</th>\n",
              "      <th>addr_state</th>\n",
              "      <th>dti</th>\n",
              "      <th>delinq_2yrs</th>\n",
              "      <th>earliest_cr_line</th>\n",
              "      <th>inq_last_6mths</th>\n",
              "      <th>mths_since_last_delinq</th>\n",
              "      <th>mths_since_last_record</th>\n",
              "      <th>open_acc</th>\n",
              "      <th>pub_rec</th>\n",
              "      <th>revol_bal</th>\n",
              "      <th>revol_util</th>\n",
              "      <th>total_acc</th>\n",
              "      <th>initial_list_status</th>\n",
              "      <th>out_prncp</th>\n",
              "      <th>out_prncp_inv</th>\n",
              "      <th>total_pymnt</th>\n",
              "      <th>total_pymnt_inv</th>\n",
              "      <th>total_rec_prncp</th>\n",
              "      <th>total_rec_int</th>\n",
              "      <th>total_rec_late_fee</th>\n",
              "      <th>recoveries</th>\n",
              "      <th>...</th>\n",
              "      <th>percent_bc_gt_75</th>\n",
              "      <th>pub_rec_bankruptcies</th>\n",
              "      <th>tax_liens</th>\n",
              "      <th>tot_hi_cred_lim</th>\n",
              "      <th>total_bal_ex_mort</th>\n",
              "      <th>total_bc_limit</th>\n",
              "      <th>total_il_high_credit_limit</th>\n",
              "      <th>revol_bal_joint</th>\n",
              "      <th>sec_app_earliest_cr_line</th>\n",
              "      <th>sec_app_inq_last_6mths</th>\n",
              "      <th>sec_app_mort_acc</th>\n",
              "      <th>sec_app_open_acc</th>\n",
              "      <th>sec_app_revol_util</th>\n",
              "      <th>sec_app_open_act_il</th>\n",
              "      <th>sec_app_num_rev_accts</th>\n",
              "      <th>sec_app_chargeoff_within_12_mths</th>\n",
              "      <th>sec_app_collections_12_mths_ex_med</th>\n",
              "      <th>sec_app_mths_since_last_major_derog</th>\n",
              "      <th>hardship_flag</th>\n",
              "      <th>hardship_type</th>\n",
              "      <th>hardship_reason</th>\n",
              "      <th>hardship_status</th>\n",
              "      <th>deferral_term</th>\n",
              "      <th>hardship_amount</th>\n",
              "      <th>hardship_start_date</th>\n",
              "      <th>hardship_end_date</th>\n",
              "      <th>payment_plan_start_date</th>\n",
              "      <th>hardship_length</th>\n",
              "      <th>hardship_dpd</th>\n",
              "      <th>hardship_loan_status</th>\n",
              "      <th>orig_projected_additional_accrued_interest</th>\n",
              "      <th>hardship_payoff_balance_amount</th>\n",
              "      <th>hardship_last_payment_amount</th>\n",
              "      <th>debt_settlement_flag</th>\n",
              "      <th>debt_settlement_flag_date</th>\n",
              "      <th>settlement_status</th>\n",
              "      <th>settlement_date</th>\n",
              "      <th>settlement_amount</th>\n",
              "      <th>settlement_percentage</th>\n",
              "      <th>settlement_term</th>\n",
              "    </tr>\n",
              "  </thead>\n",
              "  <tbody>\n",
              "    <tr>\n",
              "      <th>0</th>\n",
              "      <td>10000</td>\n",
              "      <td>10000</td>\n",
              "      <td>10000.0</td>\n",
              "      <td>60 months</td>\n",
              "      <td>16.14%</td>\n",
              "      <td>243.93</td>\n",
              "      <td>C</td>\n",
              "      <td>C4</td>\n",
              "      <td>Sale Consultant</td>\n",
              "      <td>2 years</td>\n",
              "      <td>RENT</td>\n",
              "      <td>90000.0</td>\n",
              "      <td>Not Verified</td>\n",
              "      <td>Dec-2018</td>\n",
              "      <td>Fully Paid</td>\n",
              "      <td>n</td>\n",
              "      <td>debt_consolidation</td>\n",
              "      <td>Debt consolidation</td>\n",
              "      <td>079xx</td>\n",
              "      <td>NJ</td>\n",
              "      <td>8.80</td>\n",
              "      <td>0</td>\n",
              "      <td>Mar-1991</td>\n",
              "      <td>1</td>\n",
              "      <td>NaN</td>\n",
              "      <td>43.0</td>\n",
              "      <td>11</td>\n",
              "      <td>1</td>\n",
              "      <td>10582</td>\n",
              "      <td>58.5%</td>\n",
              "      <td>32</td>\n",
              "      <td>w</td>\n",
              "      <td>0.00</td>\n",
              "      <td>0.00</td>\n",
              "      <td>10661.057727</td>\n",
              "      <td>10661.06</td>\n",
              "      <td>10000.00</td>\n",
              "      <td>661.06</td>\n",
              "      <td>0.0</td>\n",
              "      <td>0.0</td>\n",
              "      <td>...</td>\n",
              "      <td>80.0</td>\n",
              "      <td>1</td>\n",
              "      <td>0</td>\n",
              "      <td>25600</td>\n",
              "      <td>15470</td>\n",
              "      <td>15000</td>\n",
              "      <td>7500</td>\n",
              "      <td>NaN</td>\n",
              "      <td>NaN</td>\n",
              "      <td>NaN</td>\n",
              "      <td>NaN</td>\n",
              "      <td>NaN</td>\n",
              "      <td>NaN</td>\n",
              "      <td>NaN</td>\n",
              "      <td>NaN</td>\n",
              "      <td>NaN</td>\n",
              "      <td>NaN</td>\n",
              "      <td>NaN</td>\n",
              "      <td>N</td>\n",
              "      <td>NaN</td>\n",
              "      <td>NaN</td>\n",
              "      <td>NaN</td>\n",
              "      <td>NaN</td>\n",
              "      <td>NaN</td>\n",
              "      <td>NaN</td>\n",
              "      <td>NaN</td>\n",
              "      <td>NaN</td>\n",
              "      <td>NaN</td>\n",
              "      <td>NaN</td>\n",
              "      <td>NaN</td>\n",
              "      <td>NaN</td>\n",
              "      <td>NaN</td>\n",
              "      <td>NaN</td>\n",
              "      <td>N</td>\n",
              "      <td>NaN</td>\n",
              "      <td>NaN</td>\n",
              "      <td>NaN</td>\n",
              "      <td>NaN</td>\n",
              "      <td>NaN</td>\n",
              "      <td>NaN</td>\n",
              "    </tr>\n",
              "    <tr>\n",
              "      <th>1</th>\n",
              "      <td>6500</td>\n",
              "      <td>6500</td>\n",
              "      <td>6500.0</td>\n",
              "      <td>36 months</td>\n",
              "      <td>11.80%</td>\n",
              "      <td>215.28</td>\n",
              "      <td>B</td>\n",
              "      <td>B4</td>\n",
              "      <td>Educator</td>\n",
              "      <td>2 years</td>\n",
              "      <td>RENT</td>\n",
              "      <td>46500.0</td>\n",
              "      <td>Source Verified</td>\n",
              "      <td>Dec-2018</td>\n",
              "      <td>Current</td>\n",
              "      <td>n</td>\n",
              "      <td>debt_consolidation</td>\n",
              "      <td>Debt consolidation</td>\n",
              "      <td>352xx</td>\n",
              "      <td>AL</td>\n",
              "      <td>21.01</td>\n",
              "      <td>0</td>\n",
              "      <td>Aug-2011</td>\n",
              "      <td>1</td>\n",
              "      <td>61.0</td>\n",
              "      <td>NaN</td>\n",
              "      <td>24</td>\n",
              "      <td>0</td>\n",
              "      <td>6741</td>\n",
              "      <td>41.6%</td>\n",
              "      <td>30</td>\n",
              "      <td>w</td>\n",
              "      <td>4411.89</td>\n",
              "      <td>4411.89</td>\n",
              "      <td>2792.250000</td>\n",
              "      <td>2792.25</td>\n",
              "      <td>2088.11</td>\n",
              "      <td>704.14</td>\n",
              "      <td>0.0</td>\n",
              "      <td>0.0</td>\n",
              "      <td>...</td>\n",
              "      <td>0.0</td>\n",
              "      <td>0</td>\n",
              "      <td>0</td>\n",
              "      <td>50845</td>\n",
              "      <td>40223</td>\n",
              "      <td>13300</td>\n",
              "      <td>34645</td>\n",
              "      <td>NaN</td>\n",
              "      <td>NaN</td>\n",
              "      <td>NaN</td>\n",
              "      <td>NaN</td>\n",
              "      <td>NaN</td>\n",
              "      <td>NaN</td>\n",
              "      <td>NaN</td>\n",
              "      <td>NaN</td>\n",
              "      <td>NaN</td>\n",
              "      <td>NaN</td>\n",
              "      <td>NaN</td>\n",
              "      <td>N</td>\n",
              "      <td>NaN</td>\n",
              "      <td>NaN</td>\n",
              "      <td>NaN</td>\n",
              "      <td>NaN</td>\n",
              "      <td>NaN</td>\n",
              "      <td>NaN</td>\n",
              "      <td>NaN</td>\n",
              "      <td>NaN</td>\n",
              "      <td>NaN</td>\n",
              "      <td>NaN</td>\n",
              "      <td>NaN</td>\n",
              "      <td>NaN</td>\n",
              "      <td>NaN</td>\n",
              "      <td>NaN</td>\n",
              "      <td>N</td>\n",
              "      <td>NaN</td>\n",
              "      <td>NaN</td>\n",
              "      <td>NaN</td>\n",
              "      <td>NaN</td>\n",
              "      <td>NaN</td>\n",
              "      <td>NaN</td>\n",
              "    </tr>\n",
              "    <tr>\n",
              "      <th>2</th>\n",
              "      <td>4500</td>\n",
              "      <td>4500</td>\n",
              "      <td>4500.0</td>\n",
              "      <td>36 months</td>\n",
              "      <td>11.31%</td>\n",
              "      <td>147.99</td>\n",
              "      <td>B</td>\n",
              "      <td>B3</td>\n",
              "      <td>Accounts Examiner III</td>\n",
              "      <td>10+ years</td>\n",
              "      <td>RENT</td>\n",
              "      <td>38500.0</td>\n",
              "      <td>Not Verified</td>\n",
              "      <td>Dec-2018</td>\n",
              "      <td>Fully Paid</td>\n",
              "      <td>n</td>\n",
              "      <td>credit_card</td>\n",
              "      <td>Credit card refinancing</td>\n",
              "      <td>786xx</td>\n",
              "      <td>TX</td>\n",
              "      <td>4.64</td>\n",
              "      <td>0</td>\n",
              "      <td>Dec-2003</td>\n",
              "      <td>0</td>\n",
              "      <td>25.0</td>\n",
              "      <td>NaN</td>\n",
              "      <td>12</td>\n",
              "      <td>0</td>\n",
              "      <td>4472</td>\n",
              "      <td>15.3%</td>\n",
              "      <td>25</td>\n",
              "      <td>w</td>\n",
              "      <td>0.00</td>\n",
              "      <td>0.00</td>\n",
              "      <td>4549.217149</td>\n",
              "      <td>4549.22</td>\n",
              "      <td>4500.00</td>\n",
              "      <td>49.22</td>\n",
              "      <td>0.0</td>\n",
              "      <td>0.0</td>\n",
              "      <td>...</td>\n",
              "      <td>0.0</td>\n",
              "      <td>0</td>\n",
              "      <td>0</td>\n",
              "      <td>53795</td>\n",
              "      <td>29137</td>\n",
              "      <td>15100</td>\n",
              "      <td>24595</td>\n",
              "      <td>NaN</td>\n",
              "      <td>NaN</td>\n",
              "      <td>NaN</td>\n",
              "      <td>NaN</td>\n",
              "      <td>NaN</td>\n",
              "      <td>NaN</td>\n",
              "      <td>NaN</td>\n",
              "      <td>NaN</td>\n",
              "      <td>NaN</td>\n",
              "      <td>NaN</td>\n",
              "      <td>NaN</td>\n",
              "      <td>N</td>\n",
              "      <td>NaN</td>\n",
              "      <td>NaN</td>\n",
              "      <td>NaN</td>\n",
              "      <td>NaN</td>\n",
              "      <td>NaN</td>\n",
              "      <td>NaN</td>\n",
              "      <td>NaN</td>\n",
              "      <td>NaN</td>\n",
              "      <td>NaN</td>\n",
              "      <td>NaN</td>\n",
              "      <td>NaN</td>\n",
              "      <td>NaN</td>\n",
              "      <td>NaN</td>\n",
              "      <td>NaN</td>\n",
              "      <td>N</td>\n",
              "      <td>NaN</td>\n",
              "      <td>NaN</td>\n",
              "      <td>NaN</td>\n",
              "      <td>NaN</td>\n",
              "      <td>NaN</td>\n",
              "      <td>NaN</td>\n",
              "    </tr>\n",
              "    <tr>\n",
              "      <th>3</th>\n",
              "      <td>25000</td>\n",
              "      <td>25000</td>\n",
              "      <td>25000.0</td>\n",
              "      <td>60 months</td>\n",
              "      <td>14.47%</td>\n",
              "      <td>587.82</td>\n",
              "      <td>C</td>\n",
              "      <td>C2</td>\n",
              "      <td>teacher</td>\n",
              "      <td>10+ years</td>\n",
              "      <td>OWN</td>\n",
              "      <td>110000.0</td>\n",
              "      <td>Not Verified</td>\n",
              "      <td>Dec-2018</td>\n",
              "      <td>Late (31-120 days)</td>\n",
              "      <td>n</td>\n",
              "      <td>credit_card</td>\n",
              "      <td>Credit card refinancing</td>\n",
              "      <td>117xx</td>\n",
              "      <td>NY</td>\n",
              "      <td>26.43</td>\n",
              "      <td>1</td>\n",
              "      <td>Jan-1997</td>\n",
              "      <td>0</td>\n",
              "      <td>7.0</td>\n",
              "      <td>NaN</td>\n",
              "      <td>23</td>\n",
              "      <td>0</td>\n",
              "      <td>39053</td>\n",
              "      <td>45.7%</td>\n",
              "      <td>49</td>\n",
              "      <td>w</td>\n",
              "      <td>21975.89</td>\n",
              "      <td>21975.89</td>\n",
              "      <td>5848.050000</td>\n",
              "      <td>5848.05</td>\n",
              "      <td>3024.11</td>\n",
              "      <td>2823.94</td>\n",
              "      <td>0.0</td>\n",
              "      <td>0.0</td>\n",
              "      <td>...</td>\n",
              "      <td>10.0</td>\n",
              "      <td>0</td>\n",
              "      <td>0</td>\n",
              "      <td>179321</td>\n",
              "      <td>95648</td>\n",
              "      <td>62800</td>\n",
              "      <td>91424</td>\n",
              "      <td>NaN</td>\n",
              "      <td>NaN</td>\n",
              "      <td>NaN</td>\n",
              "      <td>NaN</td>\n",
              "      <td>NaN</td>\n",
              "      <td>NaN</td>\n",
              "      <td>NaN</td>\n",
              "      <td>NaN</td>\n",
              "      <td>NaN</td>\n",
              "      <td>NaN</td>\n",
              "      <td>NaN</td>\n",
              "      <td>N</td>\n",
              "      <td>NaN</td>\n",
              "      <td>NaN</td>\n",
              "      <td>NaN</td>\n",
              "      <td>NaN</td>\n",
              "      <td>NaN</td>\n",
              "      <td>NaN</td>\n",
              "      <td>NaN</td>\n",
              "      <td>NaN</td>\n",
              "      <td>NaN</td>\n",
              "      <td>NaN</td>\n",
              "      <td>NaN</td>\n",
              "      <td>NaN</td>\n",
              "      <td>NaN</td>\n",
              "      <td>NaN</td>\n",
              "      <td>N</td>\n",
              "      <td>NaN</td>\n",
              "      <td>NaN</td>\n",
              "      <td>NaN</td>\n",
              "      <td>NaN</td>\n",
              "      <td>NaN</td>\n",
              "      <td>NaN</td>\n",
              "    </tr>\n",
              "    <tr>\n",
              "      <th>4</th>\n",
              "      <td>30000</td>\n",
              "      <td>30000</td>\n",
              "      <td>30000.0</td>\n",
              "      <td>60 months</td>\n",
              "      <td>27.27%</td>\n",
              "      <td>920.91</td>\n",
              "      <td>E</td>\n",
              "      <td>E5</td>\n",
              "      <td>Claims Analyst</td>\n",
              "      <td>1 year</td>\n",
              "      <td>RENT</td>\n",
              "      <td>50000.0</td>\n",
              "      <td>Not Verified</td>\n",
              "      <td>Dec-2018</td>\n",
              "      <td>Current</td>\n",
              "      <td>n</td>\n",
              "      <td>debt_consolidation</td>\n",
              "      <td>Debt consolidation</td>\n",
              "      <td>857xx</td>\n",
              "      <td>AZ</td>\n",
              "      <td>23.62</td>\n",
              "      <td>0</td>\n",
              "      <td>Dec-1997</td>\n",
              "      <td>1</td>\n",
              "      <td>NaN</td>\n",
              "      <td>NaN</td>\n",
              "      <td>10</td>\n",
              "      <td>0</td>\n",
              "      <td>1258</td>\n",
              "      <td>10.7%</td>\n",
              "      <td>16</td>\n",
              "      <td>w</td>\n",
              "      <td>26429.58</td>\n",
              "      <td>26429.58</td>\n",
              "      <td>11903.650000</td>\n",
              "      <td>11903.65</td>\n",
              "      <td>3570.42</td>\n",
              "      <td>8333.23</td>\n",
              "      <td>0.0</td>\n",
              "      <td>0.0</td>\n",
              "      <td>...</td>\n",
              "      <td>0.0</td>\n",
              "      <td>0</td>\n",
              "      <td>0</td>\n",
              "      <td>46300</td>\n",
              "      <td>27364</td>\n",
              "      <td>10100</td>\n",
              "      <td>34500</td>\n",
              "      <td>NaN</td>\n",
              "      <td>NaN</td>\n",
              "      <td>NaN</td>\n",
              "      <td>NaN</td>\n",
              "      <td>NaN</td>\n",
              "      <td>NaN</td>\n",
              "      <td>NaN</td>\n",
              "      <td>NaN</td>\n",
              "      <td>NaN</td>\n",
              "      <td>NaN</td>\n",
              "      <td>NaN</td>\n",
              "      <td>N</td>\n",
              "      <td>NaN</td>\n",
              "      <td>NaN</td>\n",
              "      <td>NaN</td>\n",
              "      <td>NaN</td>\n",
              "      <td>NaN</td>\n",
              "      <td>NaN</td>\n",
              "      <td>NaN</td>\n",
              "      <td>NaN</td>\n",
              "      <td>NaN</td>\n",
              "      <td>NaN</td>\n",
              "      <td>NaN</td>\n",
              "      <td>NaN</td>\n",
              "      <td>NaN</td>\n",
              "      <td>NaN</td>\n",
              "      <td>N</td>\n",
              "      <td>NaN</td>\n",
              "      <td>NaN</td>\n",
              "      <td>NaN</td>\n",
              "      <td>NaN</td>\n",
              "      <td>NaN</td>\n",
              "      <td>NaN</td>\n",
              "    </tr>\n",
              "  </tbody>\n",
              "</table>\n",
              "<p>5 rows × 140 columns</p>\n",
              "</div>"
            ],
            "text/plain": [
              "   loan_amnt  funded_amnt  ...  settlement_percentage settlement_term\n",
              "0      10000        10000  ...                    NaN             NaN\n",
              "1       6500         6500  ...                    NaN             NaN\n",
              "2       4500         4500  ...                    NaN             NaN\n",
              "3      25000        25000  ...                    NaN             NaN\n",
              "4      30000        30000  ...                    NaN             NaN\n",
              "\n",
              "[5 rows x 140 columns]"
            ]
          },
          "metadata": {
            "tags": []
          },
          "execution_count": 95
        }
      ]
    },
    {
      "cell_type": "code",
      "metadata": {
        "id": "Iwia7zK4pXtx",
        "colab_type": "code",
        "colab": {
          "base_uri": "https://localhost:8080/",
          "height": 204
        },
        "outputId": "9cee3dc2-3d72-4250-8f9f-a48d78ef1d5a"
      },
      "source": [
        "# Clean up the int_rate column\n",
        "# Look at the first 10 values of the int_rate column\n",
        "loans_df['int_rate'].head(10)"
      ],
      "execution_count": 97,
      "outputs": [
        {
          "output_type": "execute_result",
          "data": {
            "text/plain": [
              "0     16.14%\n",
              "1     11.80%\n",
              "2     11.31%\n",
              "3     14.47%\n",
              "4     27.27%\n",
              "5     16.14%\n",
              "6     12.98%\n",
              "7     10.33%\n",
              "8     23.40%\n",
              "9     10.72%\n",
              "Name: int_rate, dtype: object"
            ]
          },
          "metadata": {
            "tags": []
          },
          "execution_count": 97
        }
      ]
    },
    {
      "cell_type": "code",
      "metadata": {
        "id": "8eNCQkvFpXlv",
        "colab_type": "code",
        "colab": {
          "base_uri": "https://localhost:8080/",
          "height": 34
        },
        "outputId": "0f146467-49db-4fa8-e179-a29af5181930"
      },
      "source": [
        "# Look at a specific value from the int_rate column\n",
        "loans_df['int_rate'][3]"
      ],
      "execution_count": 98,
      "outputs": [
        {
          "output_type": "execute_result",
          "data": {
            "text/plain": [
              "' 14.47%'"
            ]
          },
          "metadata": {
            "tags": []
          },
          "execution_count": 98
        }
      ]
    },
    {
      "cell_type": "code",
      "metadata": {
        "id": "SI-WE6AH5N7G",
        "colab_type": "code",
        "colab": {
          "base_uri": "https://localhost:8080/",
          "height": 34
        },
        "outputId": "cf781432-d251-4da7-da04-5741c7502b20"
      },
      "source": [
        "type(loans_df['int_rate'][3])"
      ],
      "execution_count": 99,
      "outputs": [
        {
          "output_type": "execute_result",
          "data": {
            "text/plain": [
              "str"
            ]
          },
          "metadata": {
            "tags": []
          },
          "execution_count": 99
        }
      ]
    },
    {
      "cell_type": "code",
      "metadata": {
        "id": "5fUdc8_d4YqY",
        "colab_type": "code",
        "colab": {}
      },
      "source": [
        "# 1. string type should be numeric\n",
        "# 2. percent sign % \n",
        "# Leading space"
      ],
      "execution_count": 0,
      "outputs": []
    },
    {
      "cell_type": "code",
      "metadata": {
        "id": "X0ZNY3P74Y9c",
        "colab_type": "code",
        "colab": {}
      },
      "source": [
        "# Lets start with just fixing a single string.\n",
        "# If we can fix one, we can usually fix them all.\n",
        "int_rate = ' 14.47%'"
      ],
      "execution_count": 0,
      "outputs": []
    },
    {
      "cell_type": "code",
      "metadata": {
        "id": "PLXp6cjJ4Yc1",
        "colab_type": "code",
        "colab": {
          "base_uri": "https://localhost:8080/",
          "height": 34
        },
        "outputId": "b2d60848-26e7-4a34-982c-86f1c19afcea"
      },
      "source": [
        "# remove leading space\n",
        "int_rate.strip()"
      ],
      "execution_count": 102,
      "outputs": [
        {
          "output_type": "execute_result",
          "data": {
            "text/plain": [
              "'14.47%'"
            ]
          },
          "metadata": {
            "tags": []
          },
          "execution_count": 102
        }
      ]
    },
    {
      "cell_type": "code",
      "metadata": {
        "id": "kQvj99kQpXgm",
        "colab_type": "code",
        "colab": {
          "base_uri": "https://localhost:8080/",
          "height": 34
        },
        "outputId": "f1d477b5-c684-4c68-b6ee-6d8582d7600b"
      },
      "source": [
        "# remove percent\n",
        "int_rate.strip('%')"
      ],
      "execution_count": 104,
      "outputs": [
        {
          "output_type": "execute_result",
          "data": {
            "text/plain": [
              "' 14.47'"
            ]
          },
          "metadata": {
            "tags": []
          },
          "execution_count": 104
        }
      ]
    },
    {
      "cell_type": "code",
      "metadata": {
        "id": "gCPNekfWpXcG",
        "colab_type": "code",
        "colab": {
          "base_uri": "https://localhost:8080/",
          "height": 34
        },
        "outputId": "4fd77e05-3fbc-4ee9-c2db-11b70d613db0"
      },
      "source": [
        "# remove both - chain the strip methods\n"
      ],
      "execution_count": 105,
      "outputs": [
        {
          "output_type": "execute_result",
          "data": {
            "text/plain": [
              "'14.47'"
            ]
          },
          "metadata": {
            "tags": []
          },
          "execution_count": 105
        }
      ]
    },
    {
      "cell_type": "code",
      "metadata": {
        "id": "4-WurwLnpXLf",
        "colab_type": "code",
        "colab": {
          "base_uri": "https://localhost:8080/",
          "height": 34
        },
        "outputId": "abeb8eab-00a9-45f4-89fe-e5485557bac4"
      },
      "source": [
        "# \"Cast\" the string value to a float\n",
        "float('14.47')"
      ],
      "execution_count": 108,
      "outputs": [
        {
          "output_type": "execute_result",
          "data": {
            "text/plain": [
              "14.47"
            ]
          },
          "metadata": {
            "tags": []
          },
          "execution_count": 108
        }
      ]
    },
    {
      "cell_type": "code",
      "metadata": {
        "id": "nHMAEzxipXFb",
        "colab_type": "code",
        "colab": {
          "base_uri": "https://localhost:8080/",
          "height": 34
        },
        "outputId": "326605fb-238b-4679-dbcb-c3f592f0b56c"
      },
      "source": [
        "# Put it all together\n",
        "float(int_rate.strip().strip('%'))"
      ],
      "execution_count": 109,
      "outputs": [
        {
          "output_type": "execute_result",
          "data": {
            "text/plain": [
              "14.47"
            ]
          },
          "metadata": {
            "tags": []
          },
          "execution_count": 109
        }
      ]
    },
    {
      "cell_type": "code",
      "metadata": {
        "id": "UCFqyd0t6T3y",
        "colab_type": "code",
        "colab": {}
      },
      "source": [
        "# Write a function ro make our solution reusable\n",
        "\n",
        "# Write a function that can do what we have written above to any\n",
        "#string that is passed to it.\n",
        "\n",
        "def myfunc(cell_contents):\n",
        "  return float(cell_contents.strip().strip('%'))"
      ],
      "execution_count": 0,
      "outputs": []
    },
    {
      "cell_type": "code",
      "metadata": {
        "id": "d5Q1TVlT6UCb",
        "colab_type": "code",
        "colab": {
          "base_uri": "https://localhost:8080/",
          "height": 34
        },
        "outputId": "63b73179-f429-44ad-a1c9-f730557a304b"
      },
      "source": [
        "# Test our our function by calling it on our example\n",
        "myfunc(int_rate)"
      ],
      "execution_count": 111,
      "outputs": [
        {
          "output_type": "execute_result",
          "data": {
            "text/plain": [
              "14.47"
            ]
          },
          "metadata": {
            "tags": []
          },
          "execution_count": 111
        }
      ]
    },
    {
      "cell_type": "code",
      "metadata": {
        "id": "YcsxLsEW6UTQ",
        "colab_type": "code",
        "colab": {
          "base_uri": "https://localhost:8080/",
          "height": 34
        },
        "outputId": "26441dfa-5754-4ef8-cf90-718abe8e213b"
      },
      "source": [
        "# is the data type corrent?\n",
        "type(myfunc(int_rate))"
      ],
      "execution_count": 112,
      "outputs": [
        {
          "output_type": "execute_result",
          "data": {
            "text/plain": [
              "float"
            ]
          },
          "metadata": {
            "tags": []
          },
          "execution_count": 112
        }
      ]
    },
    {
      "cell_type": "code",
      "metadata": {
        "id": "eCeBgFHE6UQ2",
        "colab_type": "code",
        "colab": {}
      },
      "source": [
        "### Apply our solution to every cell in a column\n",
        "\n",
        "#for loop\n",
        "new_list = []\n",
        "\n",
        "for cell in loans_df['int_rate']:\n",
        "  new_list.append(myfunc(cell))"
      ],
      "execution_count": 0,
      "outputs": []
    },
    {
      "cell_type": "code",
      "metadata": {
        "id": "3x97nTFp7wGT",
        "colab_type": "code",
        "colab": {
          "base_uri": "https://localhost:8080/",
          "height": 34
        },
        "outputId": "c10427a5-4ee0-4f47-eb7e-a0b3ea6f8b24"
      },
      "source": [
        "# Look at the first 10 values of that list\n",
        "new_list[:10]"
      ],
      "execution_count": 114,
      "outputs": [
        {
          "output_type": "execute_result",
          "data": {
            "text/plain": [
              "[16.14, 11.8, 11.31, 14.47, 27.27, 16.14, 12.98, 10.33, 23.4, 10.72]"
            ]
          },
          "metadata": {
            "tags": []
          },
          "execution_count": 114
        }
      ]
    },
    {
      "cell_type": "code",
      "metadata": {
        "id": "RjZKd3La7wUN",
        "colab_type": "code",
        "colab": {
          "base_uri": "https://localhost:8080/",
          "height": 187
        },
        "outputId": "66757eba-f39d-43a4-cef3-20b6c44c4f95"
      },
      "source": [
        "# compare to original values\n",
        "list(loans_df['int_rate'][:10])"
      ],
      "execution_count": 115,
      "outputs": [
        {
          "output_type": "execute_result",
          "data": {
            "text/plain": [
              "[' 16.14%',\n",
              " ' 11.80%',\n",
              " ' 11.31%',\n",
              " ' 14.47%',\n",
              " ' 27.27%',\n",
              " ' 16.14%',\n",
              " ' 12.98%',\n",
              " ' 10.33%',\n",
              " ' 23.40%',\n",
              " ' 10.72%']"
            ]
          },
          "metadata": {
            "tags": []
          },
          "execution_count": 115
        }
      ]
    },
    {
      "cell_type": "code",
      "metadata": {
        "id": "w28l_9mL7wQp",
        "colab_type": "code",
        "colab": {
          "base_uri": "https://localhost:8080/",
          "height": 204
        },
        "outputId": "8cb1b84b-fbc0-4be8-8262-f970ca074295"
      },
      "source": [
        "# Convert that list to a new colummn\n",
        "# convert list to a pandas series then pass to Dataframe\n",
        "loans_df['int_rate_cleaned'] = pd.Series(new_list)\n",
        "loans_df[['int_rate', 'int_rate_cleaned']].head()"
      ],
      "execution_count": 116,
      "outputs": [
        {
          "output_type": "execute_result",
          "data": {
            "text/html": [
              "<div>\n",
              "<style scoped>\n",
              "    .dataframe tbody tr th:only-of-type {\n",
              "        vertical-align: middle;\n",
              "    }\n",
              "\n",
              "    .dataframe tbody tr th {\n",
              "        vertical-align: top;\n",
              "    }\n",
              "\n",
              "    .dataframe thead th {\n",
              "        text-align: right;\n",
              "    }\n",
              "</style>\n",
              "<table border=\"1\" class=\"dataframe\">\n",
              "  <thead>\n",
              "    <tr style=\"text-align: right;\">\n",
              "      <th></th>\n",
              "      <th>int_rate</th>\n",
              "      <th>int_rate_cleaned</th>\n",
              "    </tr>\n",
              "  </thead>\n",
              "  <tbody>\n",
              "    <tr>\n",
              "      <th>0</th>\n",
              "      <td>16.14%</td>\n",
              "      <td>16.14</td>\n",
              "    </tr>\n",
              "    <tr>\n",
              "      <th>1</th>\n",
              "      <td>11.80%</td>\n",
              "      <td>11.80</td>\n",
              "    </tr>\n",
              "    <tr>\n",
              "      <th>2</th>\n",
              "      <td>11.31%</td>\n",
              "      <td>11.31</td>\n",
              "    </tr>\n",
              "    <tr>\n",
              "      <th>3</th>\n",
              "      <td>14.47%</td>\n",
              "      <td>14.47</td>\n",
              "    </tr>\n",
              "    <tr>\n",
              "      <th>4</th>\n",
              "      <td>27.27%</td>\n",
              "      <td>27.27</td>\n",
              "    </tr>\n",
              "  </tbody>\n",
              "</table>\n",
              "</div>"
            ],
            "text/plain": [
              "  int_rate  int_rate_cleaned\n",
              "0   16.14%             16.14\n",
              "1   11.80%             11.80\n",
              "2   11.31%             11.31\n",
              "3   14.47%             14.47\n",
              "4   27.27%             27.27"
            ]
          },
          "metadata": {
            "tags": []
          },
          "execution_count": 116
        }
      ]
    },
    {
      "cell_type": "code",
      "metadata": {
        "id": "c3MVK5Bv6UMn",
        "colab_type": "code",
        "colab": {
          "base_uri": "https://localhost:8080/",
          "height": 68
        },
        "outputId": "354e94bc-8cac-45ec-b683-9a15cd0e1dc8"
      },
      "source": [
        "# What type of data is held in our new column?\n",
        "loans_df[['int_rate', 'int_rate_cleaned']].dtypes"
      ],
      "execution_count": 118,
      "outputs": [
        {
          "output_type": "execute_result",
          "data": {
            "text/plain": [
              "int_rate             object\n",
              "int_rate_cleaned    float64\n",
              "dtype: object"
            ]
          },
          "metadata": {
            "tags": []
          },
          "execution_count": 118
        }
      ]
    },
    {
      "cell_type": "code",
      "metadata": {
        "id": "SFjeEdC56UKP",
        "colab_type": "code",
        "colab": {
          "base_uri": "https://localhost:8080/",
          "height": 204
        },
        "outputId": "f428fe9d-3fb2-4882-f8af-d3d2c7c8d8ea"
      },
      "source": [
        "#improve all of this code with the .apply function!\n",
        "\n",
        "loans_df['int_rate_cleaned2'] = loans_df['int_rate'].apply(myfunc)\n",
        "loans_df[['int_rate', 'int_rate_cleaned2']].head()"
      ],
      "execution_count": 120,
      "outputs": [
        {
          "output_type": "execute_result",
          "data": {
            "text/html": [
              "<div>\n",
              "<style scoped>\n",
              "    .dataframe tbody tr th:only-of-type {\n",
              "        vertical-align: middle;\n",
              "    }\n",
              "\n",
              "    .dataframe tbody tr th {\n",
              "        vertical-align: top;\n",
              "    }\n",
              "\n",
              "    .dataframe thead th {\n",
              "        text-align: right;\n",
              "    }\n",
              "</style>\n",
              "<table border=\"1\" class=\"dataframe\">\n",
              "  <thead>\n",
              "    <tr style=\"text-align: right;\">\n",
              "      <th></th>\n",
              "      <th>int_rate</th>\n",
              "      <th>int_rate_cleaned2</th>\n",
              "    </tr>\n",
              "  </thead>\n",
              "  <tbody>\n",
              "    <tr>\n",
              "      <th>0</th>\n",
              "      <td>16.14%</td>\n",
              "      <td>16.14</td>\n",
              "    </tr>\n",
              "    <tr>\n",
              "      <th>1</th>\n",
              "      <td>11.80%</td>\n",
              "      <td>11.80</td>\n",
              "    </tr>\n",
              "    <tr>\n",
              "      <th>2</th>\n",
              "      <td>11.31%</td>\n",
              "      <td>11.31</td>\n",
              "    </tr>\n",
              "    <tr>\n",
              "      <th>3</th>\n",
              "      <td>14.47%</td>\n",
              "      <td>14.47</td>\n",
              "    </tr>\n",
              "    <tr>\n",
              "      <th>4</th>\n",
              "      <td>27.27%</td>\n",
              "      <td>27.27</td>\n",
              "    </tr>\n",
              "  </tbody>\n",
              "</table>\n",
              "</div>"
            ],
            "text/plain": [
              "  int_rate  int_rate_cleaned2\n",
              "0   16.14%              16.14\n",
              "1   11.80%              11.80\n",
              "2   11.31%              11.31\n",
              "3   14.47%              14.47\n",
              "4   27.27%              27.27"
            ]
          },
          "metadata": {
            "tags": []
          },
          "execution_count": 120
        }
      ]
    },
    {
      "cell_type": "code",
      "metadata": {
        "id": "V_GfYJao-kIJ",
        "colab_type": "code",
        "colab": {
          "base_uri": "https://localhost:8080/",
          "height": 374
        },
        "outputId": "8474870b-085b-4881-d0c1-915b351d00e0"
      },
      "source": [
        "### CLEAN the 'Employment Title' Column\n",
        "\n",
        "# Look at the top 20 employment titles\n",
        "loans_df['emp_title'].head(20)"
      ],
      "execution_count": 121,
      "outputs": [
        {
          "output_type": "execute_result",
          "data": {
            "text/plain": [
              "0                      Sale Consultant\n",
              "1                            Educator \n",
              "2                Accounts Examiner III\n",
              "3                              teacher\n",
              "4                       Claims Analyst\n",
              "5                     Training Manager\n",
              "6                         Tire builder\n",
              "7                               Driver\n",
              "8                               BANKER\n",
              "9                     Business Analyst\n",
              "10                            OPERATOR\n",
              "11                    Shift Supervisor\n",
              "12          Program Support Assistant \n",
              "13              Reference/YA Librarian\n",
              "14                      Senior manager\n",
              "15    Sr. Vice President -Risk Manager\n",
              "16                                 NaN\n",
              "17                         Haz Mat S/R\n",
              "18                       Especialist 1\n",
              "19                            Shipping\n",
              "Name: emp_title, dtype: object"
            ]
          },
          "metadata": {
            "tags": []
          },
          "execution_count": 121
        }
      ]
    },
    {
      "cell_type": "code",
      "metadata": {
        "id": "kTYRteET-7c2",
        "colab_type": "code",
        "colab": {
          "base_uri": "https://localhost:8080/",
          "height": 374
        },
        "outputId": "b4dcb020-323d-42ba-d99b-499f6e01597d"
      },
      "source": [
        "# How many different Top 20 employment titles\n",
        "# also Value Count the NaN \n",
        "loans_df['emp_title'].value_counts(dropna=False)[:20]"
      ],
      "execution_count": 126,
      "outputs": [
        {
          "output_type": "execute_result",
          "data": {
            "text/plain": [
              "NaN                   20922\n",
              "Teacher                2088\n",
              "Manager                1771\n",
              "Registered Nurse        950\n",
              "Driver                  924\n",
              "RN                      724\n",
              "Supervisor              697\n",
              "Sales                   580\n",
              "Project Manager         526\n",
              "General Manager         523\n",
              "Office Manager          520\n",
              "Owner                   420\n",
              "Director                402\n",
              "Operations Manager      387\n",
              "Truck Driver            387\n",
              "Nurse                   326\n",
              "Engineer                325\n",
              "Sales Manager           304\n",
              "manager                 301\n",
              "Supervisor              270\n",
              "Name: emp_title, dtype: int64"
            ]
          },
          "metadata": {
            "tags": []
          },
          "execution_count": 126
        }
      ]
    },
    {
      "cell_type": "code",
      "metadata": {
        "id": "cE0cdrtu-8Fd",
        "colab_type": "code",
        "colab": {
          "base_uri": "https://localhost:8080/",
          "height": 34
        },
        "outputId": "989f4314-d691-44b8-95d1-aafdfdbe850b"
      },
      "source": [
        "# How Many different unique employment titles are there currently?\n",
        "#loans_df['emp_title'].unique()\n",
        "len(loans_df['emp_title'].unique())"
      ],
      "execution_count": 128,
      "outputs": [
        {
          "output_type": "execute_result",
          "data": {
            "text/plain": [
              "43852"
            ]
          },
          "metadata": {
            "tags": []
          },
          "execution_count": 128
        }
      ]
    },
    {
      "cell_type": "code",
      "metadata": {
        "id": "TxR01PN1-76P",
        "colab_type": "code",
        "colab": {
          "base_uri": "https://localhost:8080/",
          "height": 34
        },
        "outputId": "855501a1-8143-4f96-ef02-6d345a7f4eaf"
      },
      "source": [
        "# another way to do this\n",
        "loans_df['emp_title'].nunique()"
      ],
      "execution_count": 129,
      "outputs": [
        {
          "output_type": "execute_result",
          "data": {
            "text/plain": [
              "43851"
            ]
          },
          "metadata": {
            "tags": []
          },
          "execution_count": 129
        }
      ]
    },
    {
      "cell_type": "code",
      "metadata": {
        "id": "QHexKQiB-kRW",
        "colab_type": "code",
        "colab": {
          "base_uri": "https://localhost:8080/",
          "height": 34
        },
        "outputId": "d1e7e531-c62d-4bb7-94f2-ffebf45710b8"
      },
      "source": [
        "# How often is the employment_title null?\n",
        "loans_df['emp_title'].isnull().sum()"
      ],
      "execution_count": 130,
      "outputs": [
        {
          "output_type": "execute_result",
          "data": {
            "text/plain": [
              "20922"
            ]
          },
          "metadata": {
            "tags": []
          },
          "execution_count": 130
        }
      ]
    },
    {
      "cell_type": "code",
      "metadata": {
        "id": "8yQVgnYp-kdV",
        "colab_type": "code",
        "colab": {}
      },
      "source": [
        "# What are some possible reasons that represent as to \n",
        "# why a person's employment title may not be provided\n",
        "\n",
        "# Create some examples that represetn the cases that we want to clean up\n",
        "\n",
        "examples = ['owner', 'Supervisor', ' Project Manager', np.nan]"
      ],
      "execution_count": 0,
      "outputs": []
    },
    {
      "cell_type": "code",
      "metadata": {
        "id": "s08JFGM5Glft",
        "colab_type": "code",
        "colab": {
          "base_uri": "https://localhost:8080/",
          "height": 51
        },
        "outputId": "7e8640c0-bc7c-4363-d738-9255cbffd004"
      },
      "source": [
        "# do the same function in individual steps\n",
        "# isinstance is the inverse of type and re\n",
        "print(type('Supervisor'))\n",
        "isinstance('Supervisor', str)"
      ],
      "execution_count": 132,
      "outputs": [
        {
          "output_type": "stream",
          "text": [
            "<class 'str'>\n"
          ],
          "name": "stdout"
        },
        {
          "output_type": "execute_result",
          "data": {
            "text/plain": [
              "True"
            ]
          },
          "metadata": {
            "tags": []
          },
          "execution_count": 132
        }
      ]
    },
    {
      "cell_type": "code",
      "metadata": {
        "id": "U4SgMNxYGmcc",
        "colab_type": "code",
        "colab": {
          "base_uri": "https://localhost:8080/",
          "height": 34
        },
        "outputId": "f49b9591-051c-405b-ff55-77b7f9d86e61"
      },
      "source": [
        "# What about the strip and the capitalization(.title)\n",
        "\n",
        "' superVisor'.title().strip()"
      ],
      "execution_count": 133,
      "outputs": [
        {
          "output_type": "execute_result",
          "data": {
            "text/plain": [
              "'Supervisor'"
            ]
          },
          "metadata": {
            "tags": []
          },
          "execution_count": 133
        }
      ]
    },
    {
      "cell_type": "code",
      "metadata": {
        "id": "VonPQdOG-krT",
        "colab_type": "code",
        "colab": {}
      },
      "source": [
        "# Write a function to clean up these case and increase uniformity\n",
        "def clean_title(job_title):\n",
        "  if isinstance(job_title, str):\n",
        "    return job_title.title().strip()\n",
        "  return \"unknown\""
      ],
      "execution_count": 0,
      "outputs": []
    },
    {
      "cell_type": "code",
      "metadata": {
        "id": "owOL3RK8Bx4w",
        "colab_type": "code",
        "colab": {
          "base_uri": "https://localhost:8080/",
          "height": 34
        },
        "outputId": "f37a1dfb-2550-4019-933c-deae505d20dd"
      },
      "source": [
        "# Test our function\n",
        "clean_title(' superVisor')"
      ],
      "execution_count": 136,
      "outputs": [
        {
          "output_type": "execute_result",
          "data": {
            "text/plain": [
              "'Supervisor'"
            ]
          },
          "metadata": {
            "tags": []
          },
          "execution_count": 136
        }
      ]
    },
    {
      "cell_type": "code",
      "metadata": {
        "id": "DUR50AoVBymX",
        "colab_type": "code",
        "colab": {
          "base_uri": "https://localhost:8080/",
          "height": 34
        },
        "outputId": "f529c164-0392-4c8c-880f-efd93aee9650"
      },
      "source": [
        "# create a for loop\n",
        "mylist = []\n",
        "for jobtitle in examples:\n",
        "  mylist.append(clean_title(jobtitle))\n",
        "mylist"
      ],
      "execution_count": 141,
      "outputs": [
        {
          "output_type": "execute_result",
          "data": {
            "text/plain": [
              "['Owner', 'Supervisor', 'Project Manager', 'unknown']"
            ]
          },
          "metadata": {
            "tags": []
          },
          "execution_count": 141
        }
      ]
    },
    {
      "cell_type": "code",
      "metadata": {
        "id": "MNxQ9KNEJkiq",
        "colab_type": "code",
        "colab": {
          "base_uri": "https://localhost:8080/",
          "height": 34
        },
        "outputId": "aaf3dea2-6de3-4678-cc23-0aa4848ae9a6"
      },
      "source": [
        "# list comprehensions can combine function calls and for loops over lists\n",
        "# into one succinct and fairly readable single line of code.\n",
        "[clean_title(jobtitle) for jobtitle in examples]"
      ],
      "execution_count": 142,
      "outputs": [
        {
          "output_type": "execute_result",
          "data": {
            "text/plain": [
              "['Owner', 'Supervisor', 'Project Manager', 'unknown']"
            ]
          },
          "metadata": {
            "tags": []
          },
          "execution_count": 142
        }
      ]
    },
    {
      "cell_type": "code",
      "metadata": {
        "id": "IgTZLhRmJkWY",
        "colab_type": "code",
        "colab": {}
      },
      "source": [
        "# We have a function that works as expected.  Lets apply it to our column.\n",
        "# This time we'll overwrite the original column\n",
        "# use .apply()\n",
        "\n",
        "loans_df['emp_title_cleaned'] = loans_df['emp_title'].apply(clean_title)"
      ],
      "execution_count": 0,
      "outputs": []
    },
    {
      "cell_type": "code",
      "metadata": {
        "id": "XsmkMD43Jj3c",
        "colab_type": "code",
        "colab": {
          "base_uri": "https://localhost:8080/",
          "height": 359
        },
        "outputId": "cd68045c-150b-4a69-a51a-fc13b72badce"
      },
      "source": [
        "# check our work\n",
        "loans_df[['emp_title', 'emp_title_cleaned']].sample(10)"
      ],
      "execution_count": 144,
      "outputs": [
        {
          "output_type": "execute_result",
          "data": {
            "text/html": [
              "<div>\n",
              "<style scoped>\n",
              "    .dataframe tbody tr th:only-of-type {\n",
              "        vertical-align: middle;\n",
              "    }\n",
              "\n",
              "    .dataframe tbody tr th {\n",
              "        vertical-align: top;\n",
              "    }\n",
              "\n",
              "    .dataframe thead th {\n",
              "        text-align: right;\n",
              "    }\n",
              "</style>\n",
              "<table border=\"1\" class=\"dataframe\">\n",
              "  <thead>\n",
              "    <tr style=\"text-align: right;\">\n",
              "      <th></th>\n",
              "      <th>emp_title</th>\n",
              "      <th>emp_title_cleaned</th>\n",
              "    </tr>\n",
              "  </thead>\n",
              "  <tbody>\n",
              "    <tr>\n",
              "      <th>99973</th>\n",
              "      <td>Juvenile Probation Officer</td>\n",
              "      <td>Juvenile Probation Officer</td>\n",
              "    </tr>\n",
              "    <tr>\n",
              "      <th>79583</th>\n",
              "      <td>Caregiver</td>\n",
              "      <td>Caregiver</td>\n",
              "    </tr>\n",
              "    <tr>\n",
              "      <th>53744</th>\n",
              "      <td>NaN</td>\n",
              "      <td>unknown</td>\n",
              "    </tr>\n",
              "    <tr>\n",
              "      <th>54136</th>\n",
              "      <td>Area Supervisor</td>\n",
              "      <td>Area Supervisor</td>\n",
              "    </tr>\n",
              "    <tr>\n",
              "      <th>37280</th>\n",
              "      <td>Security Officer</td>\n",
              "      <td>Security Officer</td>\n",
              "    </tr>\n",
              "    <tr>\n",
              "      <th>103984</th>\n",
              "      <td>Table Games Dealer</td>\n",
              "      <td>Table Games Dealer</td>\n",
              "    </tr>\n",
              "    <tr>\n",
              "      <th>2382</th>\n",
              "      <td>Recruiting Manager</td>\n",
              "      <td>Recruiting Manager</td>\n",
              "    </tr>\n",
              "    <tr>\n",
              "      <th>46816</th>\n",
              "      <td>Senior Project Manager</td>\n",
              "      <td>Senior Project Manager</td>\n",
              "    </tr>\n",
              "    <tr>\n",
              "      <th>119682</th>\n",
              "      <td>Restaurant Manager</td>\n",
              "      <td>Restaurant Manager</td>\n",
              "    </tr>\n",
              "    <tr>\n",
              "      <th>104731</th>\n",
              "      <td>Orderfiller</td>\n",
              "      <td>Orderfiller</td>\n",
              "    </tr>\n",
              "  </tbody>\n",
              "</table>\n",
              "</div>"
            ],
            "text/plain": [
              "                         emp_title           emp_title_cleaned\n",
              "99973   Juvenile Probation Officer  Juvenile Probation Officer\n",
              "79583                    Caregiver                   Caregiver\n",
              "53744                          NaN                     unknown\n",
              "54136             Area Supervisor              Area Supervisor\n",
              "37280            Security Officer             Security Officer\n",
              "103984          Table Games Dealer          Table Games Dealer\n",
              "2382            Recruiting Manager          Recruiting Manager\n",
              "46816       Senior Project Manager      Senior Project Manager\n",
              "119682          Restaurant Manager          Restaurant Manager\n",
              "104731                 Orderfiller                 Orderfiller"
            ]
          },
          "metadata": {
            "tags": []
          },
          "execution_count": 144
        }
      ]
    },
    {
      "cell_type": "markdown",
      "metadata": {
        "id": "do_3CmhbNOXq",
        "colab_type": "text"
      },
      "source": [
        "We can use the same code as we did earlier to see how much progress was made."
      ]
    },
    {
      "cell_type": "code",
      "metadata": {
        "id": "ZaeCLuhHBzFT",
        "colab_type": "code",
        "colab": {
          "base_uri": "https://localhost:8080/",
          "height": 374
        },
        "outputId": "30282b6c-11e5-469b-fa67-74b5f5a9636b"
      },
      "source": [
        "# How many different Top 20 employment titles\n",
        "# also Value Count the NaN \n",
        "loans_df['emp_title_cleaned'].value_counts(dropna=False)[:20]"
      ],
      "execution_count": 147,
      "outputs": [
        {
          "output_type": "execute_result",
          "data": {
            "text/plain": [
              "unknown               20922\n",
              "Teacher                2553\n",
              "Manager                2393\n",
              "Registered Nurse       1416\n",
              "Driver                 1258\n",
              "Supervisor             1160\n",
              "Truck Driver            920\n",
              "Rn                      832\n",
              "Office Manager          804\n",
              "Sales                   803\n",
              "General Manager         791\n",
              "Project Manager         720\n",
              "Owner                   623\n",
              "Director                523\n",
              "Operations Manager      518\n",
              "Sales Manager           500\n",
              "Police Officer          440\n",
              "Nurse                   424\n",
              "Technician              420\n",
              "Engineer                411\n",
              "Name: emp_title_cleaned, dtype: int64"
            ]
          },
          "metadata": {
            "tags": []
          },
          "execution_count": 147
        }
      ]
    },
    {
      "cell_type": "code",
      "metadata": {
        "id": "EP_Dl0TgBxn4",
        "colab_type": "code",
        "colab": {
          "base_uri": "https://localhost:8080/",
          "height": 34
        },
        "outputId": "94644664-533e-4e1e-d729-9c3ce5f1b1d6"
      },
      "source": [
        "# How many different unique employment titles are there currently?\n",
        "loans_df['emp_title_cleaned'].nunique()"
      ],
      "execution_count": 148,
      "outputs": [
        {
          "output_type": "execute_result",
          "data": {
            "text/plain": [
              "34877"
            ]
          },
          "metadata": {
            "tags": []
          },
          "execution_count": 148
        }
      ]
    },
    {
      "cell_type": "code",
      "metadata": {
        "id": "gzdqKOKgOdrG",
        "colab_type": "code",
        "colab": {
          "base_uri": "https://localhost:8080/",
          "height": 102
        },
        "outputId": "b1b2c46e-d116-4a30-aee4-808340af2f13"
      },
      "source": [
        "# recoding a categorical\n",
        "\n",
        "loans_df['new_emp_title']='All Others'\n",
        "# this creates a new column\n",
        "# filtering the columns data we need and bunching every thing else into All Others\n",
        "loans_df.loc[loans_df['emp_title']=='Manager', 'new_emp_title']='Manager'\n",
        "loans_df.loc[loans_df['emp_title']=='Teacher', 'new_emp_title']='Teacher'\n",
        "loans_df.loc[loans_df['emp_title']=='Driver', 'new_emp_title']='Driver'\n",
        "loans_df.loc[loans_df['emp_title']=='Registered Nurse' 'new_emp_title']='Registered Nurse'\n",
        "loans_df['new_emp_title'].value_counts()\n"
      ],
      "execution_count": 152,
      "outputs": [
        {
          "output_type": "execute_result",
          "data": {
            "text/plain": [
              "All Others    123501\n",
              "Teacher         2088\n",
              "Manager         1771\n",
              "Driver           924\n",
              "Name: new_emp_title, dtype: int64"
            ]
          },
          "metadata": {
            "tags": []
          },
          "execution_count": 152
        }
      ]
    },
    {
      "cell_type": "code",
      "metadata": {
        "id": "jYEZBwE0O4OO",
        "colab_type": "code",
        "colab": {
          "base_uri": "https://localhost:8080/",
          "height": 34
        },
        "outputId": "7178f96e-6dbc-434c-9cbd-4816d5da98ba"
      },
      "source": [
        "# how often is the employment_title null (NaN)?\n",
        "\n",
        "loans_df['emp_title_cleaned'].isnull().sum()"
      ],
      "execution_count": 153,
      "outputs": [
        {
          "output_type": "execute_result",
          "data": {
            "text/plain": [
              "0"
            ]
          },
          "metadata": {
            "tags": []
          },
          "execution_count": 153
        }
      ]
    },
    {
      "cell_type": "markdown",
      "metadata": {
        "id": "E6hS5JlfTMGx",
        "colab_type": "text"
      },
      "source": [
        "Work with Dates in Pandas"
      ]
    },
    {
      "cell_type": "code",
      "metadata": {
        "id": "xWZvXi7iO4fn",
        "colab_type": "code",
        "colab": {
          "base_uri": "https://localhost:8080/",
          "height": 153
        },
        "outputId": "268468d6-e9a1-4ec5-95dc-5285081ba8a5"
      },
      "source": [
        "# list all columns\n",
        "# date column - end with _d\n",
        "loans_df.columns[:30]"
      ],
      "execution_count": 157,
      "outputs": [
        {
          "output_type": "execute_result",
          "data": {
            "text/plain": [
              "Index(['loan_amnt', 'funded_amnt', 'funded_amnt_inv', 'term', 'int_rate',\n",
              "       'installment', 'grade', 'sub_grade', 'emp_title', 'emp_length',\n",
              "       'home_ownership', 'annual_inc', 'verification_status', 'issue_d',\n",
              "       'loan_status', 'pymnt_plan', 'purpose', 'title', 'zip_code',\n",
              "       'addr_state', 'dti', 'delinq_2yrs', 'earliest_cr_line',\n",
              "       'inq_last_6mths', 'mths_since_last_delinq', 'mths_since_last_record',\n",
              "       'open_acc', 'pub_rec', 'revol_bal', 'revol_util'],\n",
              "      dtype='object')"
            ]
          },
          "metadata": {
            "tags": []
          },
          "execution_count": 157
        }
      ]
    },
    {
      "cell_type": "code",
      "metadata": {
        "id": "xTKlwQlSO4uq",
        "colab_type": "code",
        "colab": {
          "base_uri": "https://localhost:8080/",
          "height": 119
        },
        "outputId": "049a0096-7921-49a8-86ad-c0993e994273"
      },
      "source": [
        "# Check out one column\n",
        "\n",
        "loans_df['issue_d'].head()"
      ],
      "execution_count": 158,
      "outputs": [
        {
          "output_type": "execute_result",
          "data": {
            "text/plain": [
              "0    Dec-2018\n",
              "1    Dec-2018\n",
              "2    Dec-2018\n",
              "3    Dec-2018\n",
              "4    Dec-2018\n",
              "Name: issue_d, dtype: object"
            ]
          },
          "metadata": {
            "tags": []
          },
          "execution_count": 158
        }
      ]
    },
    {
      "cell_type": "code",
      "metadata": {
        "id": "g1-UPKwcOeNh",
        "colab_type": "code",
        "colab": {
          "base_uri": "https://localhost:8080/",
          "height": 34
        },
        "outputId": "037c527b-3a19-4712-f000-df8ffc8f9755"
      },
      "source": [
        "# as a for loop\n",
        "mylist = []\n",
        "for col in loans_df.columns:\n",
        "  if col.endswith('_d'):\n",
        "    mylist.append(col)\n",
        "mylist"
      ],
      "execution_count": 159,
      "outputs": [
        {
          "output_type": "execute_result",
          "data": {
            "text/plain": [
              "['issue_d', 'last_pymnt_d', 'next_pymnt_d', 'last_credit_pull_d']"
            ]
          },
          "metadata": {
            "tags": []
          },
          "execution_count": 159
        }
      ]
    },
    {
      "cell_type": "code",
      "metadata": {
        "id": "zCJmpT9SUHyB",
        "colab_type": "code",
        "colab": {
          "base_uri": "https://localhost:8080/",
          "height": 34
        },
        "outputId": "9d718333-4f0c-4075-8ec3-238632c36944"
      },
      "source": [
        "# as a list comprehension\n",
        "my_date_col = [col for col in loans_df.columns if col.endswith('_d')]\n",
        "my_date_col"
      ],
      "execution_count": 162,
      "outputs": [
        {
          "output_type": "execute_result",
          "data": {
            "text/plain": [
              "['issue_d', 'last_pymnt_d', 'next_pymnt_d', 'last_credit_pull_d']"
            ]
          },
          "metadata": {
            "tags": []
          },
          "execution_count": 162
        }
      ]
    },
    {
      "cell_type": "code",
      "metadata": {
        "id": "9Vs3LmF6UIoU",
        "colab_type": "code",
        "colab": {
          "base_uri": "https://localhost:8080/",
          "height": 34
        },
        "outputId": "89a6edaa-b4e7-4d92-f7b8-4b80a5424da3"
      },
      "source": [
        "#lets look at the string format of the issue_d column\n",
        "loans_df['issue_d'].dtype"
      ],
      "execution_count": 165,
      "outputs": [
        {
          "output_type": "execute_result",
          "data": {
            "text/plain": [
              "dtype('O')"
            ]
          },
          "metadata": {
            "tags": []
          },
          "execution_count": 165
        }
      ]
    },
    {
      "cell_type": "code",
      "metadata": {
        "id": "348uxtYxVC4M",
        "colab_type": "code",
        "colab": {
          "base_uri": "https://localhost:8080/",
          "height": 51
        },
        "outputId": "9d0800d2-4f0b-4bcb-8885-523d078402f2"
      },
      "source": [
        "# type Object\n",
        "print(loans_df['issue_d'][0])\n",
        "type(loans_df['issue_d'][0])"
      ],
      "execution_count": 171,
      "outputs": [
        {
          "output_type": "stream",
          "text": [
            "Dec-2018\n"
          ],
          "name": "stdout"
        },
        {
          "output_type": "execute_result",
          "data": {
            "text/plain": [
              "str"
            ]
          },
          "metadata": {
            "tags": []
          },
          "execution_count": 171
        }
      ]
    },
    {
      "cell_type": "code",
      "metadata": {
        "id": "B7PU9eX0VCn-",
        "colab_type": "code",
        "colab": {
          "base_uri": "https://localhost:8080/",
          "height": 419
        },
        "outputId": "b36398f9-12be-408b-d95f-e27cf1a0c4b3"
      },
      "source": [
        "# infer_datetime_format=True\n",
        "\n",
        "loans_df['new_issue_d'] = pd.to_datetime(loans_df['issue_d'], infer_datetime_format=True)\n",
        "\n",
        "loans_df[['issue_d','new_issue_d']]"
      ],
      "execution_count": 173,
      "outputs": [
        {
          "output_type": "execute_result",
          "data": {
            "text/html": [
              "<div>\n",
              "<style scoped>\n",
              "    .dataframe tbody tr th:only-of-type {\n",
              "        vertical-align: middle;\n",
              "    }\n",
              "\n",
              "    .dataframe tbody tr th {\n",
              "        vertical-align: top;\n",
              "    }\n",
              "\n",
              "    .dataframe thead th {\n",
              "        text-align: right;\n",
              "    }\n",
              "</style>\n",
              "<table border=\"1\" class=\"dataframe\">\n",
              "  <thead>\n",
              "    <tr style=\"text-align: right;\">\n",
              "      <th></th>\n",
              "      <th>issue_d</th>\n",
              "      <th>new_issue_d</th>\n",
              "    </tr>\n",
              "  </thead>\n",
              "  <tbody>\n",
              "    <tr>\n",
              "      <th>0</th>\n",
              "      <td>Dec-2018</td>\n",
              "      <td>2018-12-01</td>\n",
              "    </tr>\n",
              "    <tr>\n",
              "      <th>1</th>\n",
              "      <td>Dec-2018</td>\n",
              "      <td>2018-12-01</td>\n",
              "    </tr>\n",
              "    <tr>\n",
              "      <th>2</th>\n",
              "      <td>Dec-2018</td>\n",
              "      <td>2018-12-01</td>\n",
              "    </tr>\n",
              "    <tr>\n",
              "      <th>3</th>\n",
              "      <td>Dec-2018</td>\n",
              "      <td>2018-12-01</td>\n",
              "    </tr>\n",
              "    <tr>\n",
              "      <th>4</th>\n",
              "      <td>Dec-2018</td>\n",
              "      <td>2018-12-01</td>\n",
              "    </tr>\n",
              "    <tr>\n",
              "      <th>...</th>\n",
              "      <td>...</td>\n",
              "      <td>...</td>\n",
              "    </tr>\n",
              "    <tr>\n",
              "      <th>128279</th>\n",
              "      <td>Oct-2018</td>\n",
              "      <td>2018-10-01</td>\n",
              "    </tr>\n",
              "    <tr>\n",
              "      <th>128280</th>\n",
              "      <td>Oct-2018</td>\n",
              "      <td>2018-10-01</td>\n",
              "    </tr>\n",
              "    <tr>\n",
              "      <th>128281</th>\n",
              "      <td>Oct-2018</td>\n",
              "      <td>2018-10-01</td>\n",
              "    </tr>\n",
              "    <tr>\n",
              "      <th>128282</th>\n",
              "      <td>Oct-2018</td>\n",
              "      <td>2018-10-01</td>\n",
              "    </tr>\n",
              "    <tr>\n",
              "      <th>128283</th>\n",
              "      <td>Oct-2018</td>\n",
              "      <td>2018-10-01</td>\n",
              "    </tr>\n",
              "  </tbody>\n",
              "</table>\n",
              "<p>128284 rows × 2 columns</p>\n",
              "</div>"
            ],
            "text/plain": [
              "         issue_d new_issue_d\n",
              "0       Dec-2018  2018-12-01\n",
              "1       Dec-2018  2018-12-01\n",
              "2       Dec-2018  2018-12-01\n",
              "3       Dec-2018  2018-12-01\n",
              "4       Dec-2018  2018-12-01\n",
              "...          ...         ...\n",
              "128279  Oct-2018  2018-10-01\n",
              "128280  Oct-2018  2018-10-01\n",
              "128281  Oct-2018  2018-10-01\n",
              "128282  Oct-2018  2018-10-01\n",
              "128283  Oct-2018  2018-10-01\n",
              "\n",
              "[128284 rows x 2 columns]"
            ]
          },
          "metadata": {
            "tags": []
          },
          "execution_count": 173
        }
      ]
    },
    {
      "cell_type": "code",
      "metadata": {
        "id": "-BFIOKIcXIwX",
        "colab_type": "code",
        "colab": {
          "base_uri": "https://localhost:8080/",
          "height": 51
        },
        "outputId": "dbff4c1a-3eae-44fa-b0ba-959e3c1e88bb"
      },
      "source": [
        "# Check our work\n",
        "print(loans_df['new_issue_d'].dtype)\n",
        "type(loans_df['new_issue_d'][0])"
      ],
      "execution_count": 176,
      "outputs": [
        {
          "output_type": "stream",
          "text": [
            "datetime64[ns]\n"
          ],
          "name": "stdout"
        },
        {
          "output_type": "execute_result",
          "data": {
            "text/plain": [
              "pandas._libs.tslibs.timestamps.Timestamp"
            ]
          },
          "metadata": {
            "tags": []
          },
          "execution_count": 176
        }
      ]
    },
    {
      "cell_type": "code",
      "metadata": {
        "id": "yCq5fv9MXIZu",
        "colab_type": "code",
        "colab": {
          "base_uri": "https://localhost:8080/",
          "height": 34
        },
        "outputId": "fdf53c10-b139-4818-d219-6bb8b04fdb65"
      },
      "source": [
        "# look at one value from the set - \"cherry pick\"\n",
        "loans_df['new_issue_d'].iloc[0]"
      ],
      "execution_count": 177,
      "outputs": [
        {
          "output_type": "execute_result",
          "data": {
            "text/plain": [
              "Timestamp('2018-12-01 00:00:00')"
            ]
          },
          "metadata": {
            "tags": []
          },
          "execution_count": 177
        }
      ]
    },
    {
      "cell_type": "code",
      "metadata": {
        "id": "CSLqN3mAXII9",
        "colab_type": "code",
        "colab": {
          "base_uri": "https://localhost:8080/",
          "height": 68
        },
        "outputId": "24d6c07a-1d1e-4aad-b154-28820bfeb51f"
      },
      "source": [
        "loans_df['new_issue_d'].head().values"
      ],
      "execution_count": 179,
      "outputs": [
        {
          "output_type": "execute_result",
          "data": {
            "text/plain": [
              "array(['2018-12-01T00:00:00.000000000', '2018-12-01T00:00:00.000000000',\n",
              "       '2018-12-01T00:00:00.000000000', '2018-12-01T00:00:00.000000000',\n",
              "       '2018-12-01T00:00:00.000000000'], dtype='datetime64[ns]')"
            ]
          },
          "metadata": {
            "tags": []
          },
          "execution_count": 179
        }
      ]
    },
    {
      "cell_type": "code",
      "metadata": {
        "id": "iRTGCuNVXH0k",
        "colab_type": "code",
        "colab": {
          "base_uri": "https://localhost:8080/",
          "height": 266
        },
        "outputId": "fe9bb6f5-01da-409c-f73f-551b5a36e063"
      },
      "source": [
        "# We can use the .dt accessor to now grab specific parts of the\n",
        "# datetime object. Lets grab just the year from \n",
        "# all of the cells in the issue_d column\n",
        "\n",
        "loans_df['year'] = loans_df['new_issue_d'].dt.year\n",
        "loans_df[['issue_d', 'new_issue_d','year']].sample(7)"
      ],
      "execution_count": 181,
      "outputs": [
        {
          "output_type": "execute_result",
          "data": {
            "text/html": [
              "<div>\n",
              "<style scoped>\n",
              "    .dataframe tbody tr th:only-of-type {\n",
              "        vertical-align: middle;\n",
              "    }\n",
              "\n",
              "    .dataframe tbody tr th {\n",
              "        vertical-align: top;\n",
              "    }\n",
              "\n",
              "    .dataframe thead th {\n",
              "        text-align: right;\n",
              "    }\n",
              "</style>\n",
              "<table border=\"1\" class=\"dataframe\">\n",
              "  <thead>\n",
              "    <tr style=\"text-align: right;\">\n",
              "      <th></th>\n",
              "      <th>issue_d</th>\n",
              "      <th>new_issue_d</th>\n",
              "      <th>year</th>\n",
              "    </tr>\n",
              "  </thead>\n",
              "  <tbody>\n",
              "    <tr>\n",
              "      <th>119230</th>\n",
              "      <td>Oct-2018</td>\n",
              "      <td>2018-10-01</td>\n",
              "      <td>2018</td>\n",
              "    </tr>\n",
              "    <tr>\n",
              "      <th>100045</th>\n",
              "      <td>Oct-2018</td>\n",
              "      <td>2018-10-01</td>\n",
              "      <td>2018</td>\n",
              "    </tr>\n",
              "    <tr>\n",
              "      <th>99547</th>\n",
              "      <td>Oct-2018</td>\n",
              "      <td>2018-10-01</td>\n",
              "      <td>2018</td>\n",
              "    </tr>\n",
              "    <tr>\n",
              "      <th>75369</th>\n",
              "      <td>Nov-2018</td>\n",
              "      <td>2018-11-01</td>\n",
              "      <td>2018</td>\n",
              "    </tr>\n",
              "    <tr>\n",
              "      <th>96751</th>\n",
              "      <td>Oct-2018</td>\n",
              "      <td>2018-10-01</td>\n",
              "      <td>2018</td>\n",
              "    </tr>\n",
              "    <tr>\n",
              "      <th>60197</th>\n",
              "      <td>Nov-2018</td>\n",
              "      <td>2018-11-01</td>\n",
              "      <td>2018</td>\n",
              "    </tr>\n",
              "    <tr>\n",
              "      <th>75239</th>\n",
              "      <td>Nov-2018</td>\n",
              "      <td>2018-11-01</td>\n",
              "      <td>2018</td>\n",
              "    </tr>\n",
              "  </tbody>\n",
              "</table>\n",
              "</div>"
            ],
            "text/plain": [
              "         issue_d new_issue_d  year\n",
              "119230  Oct-2018  2018-10-01  2018\n",
              "100045  Oct-2018  2018-10-01  2018\n",
              "99547   Oct-2018  2018-10-01  2018\n",
              "75369   Nov-2018  2018-11-01  2018\n",
              "96751   Oct-2018  2018-10-01  2018\n",
              "60197   Nov-2018  2018-11-01  2018\n",
              "75239   Nov-2018  2018-11-01  2018"
            ]
          },
          "metadata": {
            "tags": []
          },
          "execution_count": 181
        }
      ]
    },
    {
      "cell_type": "code",
      "metadata": {
        "id": "3GkxylSmXHKI",
        "colab_type": "code",
        "colab": {
          "base_uri": "https://localhost:8080/",
          "height": 266
        },
        "outputId": "fbfd80bf-933c-45a0-ac54-fdf2c61450a2"
      },
      "source": [
        "# now, the month using .dt.month\n",
        "\n",
        "loans_df['month'] = loans_df['new_issue_d'].dt.month\n",
        "loans_df[['issue_d', 'new_issue_d','year', 'month']].sample(7)"
      ],
      "execution_count": 182,
      "outputs": [
        {
          "output_type": "execute_result",
          "data": {
            "text/html": [
              "<div>\n",
              "<style scoped>\n",
              "    .dataframe tbody tr th:only-of-type {\n",
              "        vertical-align: middle;\n",
              "    }\n",
              "\n",
              "    .dataframe tbody tr th {\n",
              "        vertical-align: top;\n",
              "    }\n",
              "\n",
              "    .dataframe thead th {\n",
              "        text-align: right;\n",
              "    }\n",
              "</style>\n",
              "<table border=\"1\" class=\"dataframe\">\n",
              "  <thead>\n",
              "    <tr style=\"text-align: right;\">\n",
              "      <th></th>\n",
              "      <th>issue_d</th>\n",
              "      <th>new_issue_d</th>\n",
              "      <th>year</th>\n",
              "      <th>month</th>\n",
              "    </tr>\n",
              "  </thead>\n",
              "  <tbody>\n",
              "    <tr>\n",
              "      <th>33253</th>\n",
              "      <td>Dec-2018</td>\n",
              "      <td>2018-12-01</td>\n",
              "      <td>2018</td>\n",
              "      <td>12</td>\n",
              "    </tr>\n",
              "    <tr>\n",
              "      <th>51922</th>\n",
              "      <td>Nov-2018</td>\n",
              "      <td>2018-11-01</td>\n",
              "      <td>2018</td>\n",
              "      <td>11</td>\n",
              "    </tr>\n",
              "    <tr>\n",
              "      <th>127829</th>\n",
              "      <td>Oct-2018</td>\n",
              "      <td>2018-10-01</td>\n",
              "      <td>2018</td>\n",
              "      <td>10</td>\n",
              "    </tr>\n",
              "    <tr>\n",
              "      <th>92320</th>\n",
              "      <td>Oct-2018</td>\n",
              "      <td>2018-10-01</td>\n",
              "      <td>2018</td>\n",
              "      <td>10</td>\n",
              "    </tr>\n",
              "    <tr>\n",
              "      <th>73948</th>\n",
              "      <td>Nov-2018</td>\n",
              "      <td>2018-11-01</td>\n",
              "      <td>2018</td>\n",
              "      <td>11</td>\n",
              "    </tr>\n",
              "    <tr>\n",
              "      <th>117656</th>\n",
              "      <td>Oct-2018</td>\n",
              "      <td>2018-10-01</td>\n",
              "      <td>2018</td>\n",
              "      <td>10</td>\n",
              "    </tr>\n",
              "    <tr>\n",
              "      <th>112326</th>\n",
              "      <td>Oct-2018</td>\n",
              "      <td>2018-10-01</td>\n",
              "      <td>2018</td>\n",
              "      <td>10</td>\n",
              "    </tr>\n",
              "  </tbody>\n",
              "</table>\n",
              "</div>"
            ],
            "text/plain": [
              "         issue_d new_issue_d  year  month\n",
              "33253   Dec-2018  2018-12-01  2018     12\n",
              "51922   Nov-2018  2018-11-01  2018     11\n",
              "127829  Oct-2018  2018-10-01  2018     10\n",
              "92320   Oct-2018  2018-10-01  2018     10\n",
              "73948   Nov-2018  2018-11-01  2018     11\n",
              "117656  Oct-2018  2018-10-01  2018     10\n",
              "112326  Oct-2018  2018-10-01  2018     10"
            ]
          },
          "metadata": {
            "tags": []
          },
          "execution_count": 182
        }
      ]
    },
    {
      "cell_type": "code",
      "metadata": {
        "id": "U7Zkbc-eVCKi",
        "colab_type": "code",
        "colab": {
          "base_uri": "https://localhost:8080/",
          "height": 266
        },
        "outputId": "f6bfadd6-ade6-48eb-d4ec-3c4cdaf1a634"
      },
      "source": [
        "# now, the Weekday using .dt.weekday\n",
        "\n",
        "loans_df['weekday'] = loans_df['new_issue_d'].dt.weekday\n",
        "loans_df[['issue_d', 'new_issue_d','year', 'month', 'weekday']].sample(7)"
      ],
      "execution_count": 183,
      "outputs": [
        {
          "output_type": "execute_result",
          "data": {
            "text/html": [
              "<div>\n",
              "<style scoped>\n",
              "    .dataframe tbody tr th:only-of-type {\n",
              "        vertical-align: middle;\n",
              "    }\n",
              "\n",
              "    .dataframe tbody tr th {\n",
              "        vertical-align: top;\n",
              "    }\n",
              "\n",
              "    .dataframe thead th {\n",
              "        text-align: right;\n",
              "    }\n",
              "</style>\n",
              "<table border=\"1\" class=\"dataframe\">\n",
              "  <thead>\n",
              "    <tr style=\"text-align: right;\">\n",
              "      <th></th>\n",
              "      <th>issue_d</th>\n",
              "      <th>new_issue_d</th>\n",
              "      <th>year</th>\n",
              "      <th>month</th>\n",
              "      <th>weekday</th>\n",
              "    </tr>\n",
              "  </thead>\n",
              "  <tbody>\n",
              "    <tr>\n",
              "      <th>40284</th>\n",
              "      <td>Nov-2018</td>\n",
              "      <td>2018-11-01</td>\n",
              "      <td>2018</td>\n",
              "      <td>11</td>\n",
              "      <td>3</td>\n",
              "    </tr>\n",
              "    <tr>\n",
              "      <th>101613</th>\n",
              "      <td>Oct-2018</td>\n",
              "      <td>2018-10-01</td>\n",
              "      <td>2018</td>\n",
              "      <td>10</td>\n",
              "      <td>0</td>\n",
              "    </tr>\n",
              "    <tr>\n",
              "      <th>58106</th>\n",
              "      <td>Nov-2018</td>\n",
              "      <td>2018-11-01</td>\n",
              "      <td>2018</td>\n",
              "      <td>11</td>\n",
              "      <td>3</td>\n",
              "    </tr>\n",
              "    <tr>\n",
              "      <th>89154</th>\n",
              "      <td>Oct-2018</td>\n",
              "      <td>2018-10-01</td>\n",
              "      <td>2018</td>\n",
              "      <td>10</td>\n",
              "      <td>0</td>\n",
              "    </tr>\n",
              "    <tr>\n",
              "      <th>54794</th>\n",
              "      <td>Nov-2018</td>\n",
              "      <td>2018-11-01</td>\n",
              "      <td>2018</td>\n",
              "      <td>11</td>\n",
              "      <td>3</td>\n",
              "    </tr>\n",
              "    <tr>\n",
              "      <th>19952</th>\n",
              "      <td>Dec-2018</td>\n",
              "      <td>2018-12-01</td>\n",
              "      <td>2018</td>\n",
              "      <td>12</td>\n",
              "      <td>5</td>\n",
              "    </tr>\n",
              "    <tr>\n",
              "      <th>112736</th>\n",
              "      <td>Oct-2018</td>\n",
              "      <td>2018-10-01</td>\n",
              "      <td>2018</td>\n",
              "      <td>10</td>\n",
              "      <td>0</td>\n",
              "    </tr>\n",
              "  </tbody>\n",
              "</table>\n",
              "</div>"
            ],
            "text/plain": [
              "         issue_d new_issue_d  year  month  weekday\n",
              "40284   Nov-2018  2018-11-01  2018     11        3\n",
              "101613  Oct-2018  2018-10-01  2018     10        0\n",
              "58106   Nov-2018  2018-11-01  2018     11        3\n",
              "89154   Oct-2018  2018-10-01  2018     10        0\n",
              "54794   Nov-2018  2018-11-01  2018     11        3\n",
              "19952   Dec-2018  2018-12-01  2018     12        5\n",
              "112736  Oct-2018  2018-10-01  2018     10        0"
            ]
          },
          "metadata": {
            "tags": []
          },
          "execution_count": 183
        }
      ]
    },
    {
      "cell_type": "code",
      "metadata": {
        "id": "-Ii2eKwQUKk7",
        "colab_type": "code",
        "colab": {
          "base_uri": "https://localhost:8080/",
          "height": 204
        },
        "outputId": "24d2bf23-9c49-4f50-bf46-1bf50cc2b617"
      },
      "source": [
        "# same thing, diff var\n",
        "loans_df['new_last_credit_pull_d'] = pd.to_datetime(loans_df['last_credit_pull_d'])\n",
        "loans_df[['last_credit_pull_d', 'new_last_credit_pull_d']].head()"
      ],
      "execution_count": 186,
      "outputs": [
        {
          "output_type": "execute_result",
          "data": {
            "text/html": [
              "<div>\n",
              "<style scoped>\n",
              "    .dataframe tbody tr th:only-of-type {\n",
              "        vertical-align: middle;\n",
              "    }\n",
              "\n",
              "    .dataframe tbody tr th {\n",
              "        vertical-align: top;\n",
              "    }\n",
              "\n",
              "    .dataframe thead th {\n",
              "        text-align: right;\n",
              "    }\n",
              "</style>\n",
              "<table border=\"1\" class=\"dataframe\">\n",
              "  <thead>\n",
              "    <tr style=\"text-align: right;\">\n",
              "      <th></th>\n",
              "      <th>last_credit_pull_d</th>\n",
              "      <th>new_last_credit_pull_d</th>\n",
              "    </tr>\n",
              "  </thead>\n",
              "  <tbody>\n",
              "    <tr>\n",
              "      <th>0</th>\n",
              "      <td>Dec-2019</td>\n",
              "      <td>2019-12-01</td>\n",
              "    </tr>\n",
              "    <tr>\n",
              "      <th>1</th>\n",
              "      <td>Jan-2020</td>\n",
              "      <td>2020-01-01</td>\n",
              "    </tr>\n",
              "    <tr>\n",
              "      <th>2</th>\n",
              "      <td>Feb-2020</td>\n",
              "      <td>2020-02-01</td>\n",
              "    </tr>\n",
              "    <tr>\n",
              "      <th>3</th>\n",
              "      <td>Jan-2020</td>\n",
              "      <td>2020-01-01</td>\n",
              "    </tr>\n",
              "    <tr>\n",
              "      <th>4</th>\n",
              "      <td>Jan-2020</td>\n",
              "      <td>2020-01-01</td>\n",
              "    </tr>\n",
              "  </tbody>\n",
              "</table>\n",
              "</div>"
            ],
            "text/plain": [
              "  last_credit_pull_d new_last_credit_pull_d\n",
              "0           Dec-2019             2019-12-01\n",
              "1           Jan-2020             2020-01-01\n",
              "2           Feb-2020             2020-02-01\n",
              "3           Jan-2020             2020-01-01\n",
              "4           Jan-2020             2020-01-01"
            ]
          },
          "metadata": {
            "tags": []
          },
          "execution_count": 186
        }
      ]
    },
    {
      "cell_type": "code",
      "metadata": {
        "id": "hueb1Gfrdd1n",
        "colab_type": "code",
        "colab": {}
      },
      "source": [
        "# date arithmetic\n",
        "loans_df['day_diff'] = loans_df['new_issue_d'] - loans_df['new_last_credit_pull_d']"
      ],
      "execution_count": 0,
      "outputs": []
    },
    {
      "cell_type": "code",
      "metadata": {
        "id": "wu_dpz38fP3k",
        "colab_type": "code",
        "colab": {
          "base_uri": "https://localhost:8080/",
          "height": 419
        },
        "outputId": "8b4af755-a090-4435-b80a-0f727d6108d3"
      },
      "source": [
        "# check that out\n",
        "loans_df[['issue_d', 'last_credit_pull_d', 'day_diff']]"
      ],
      "execution_count": 188,
      "outputs": [
        {
          "output_type": "execute_result",
          "data": {
            "text/html": [
              "<div>\n",
              "<style scoped>\n",
              "    .dataframe tbody tr th:only-of-type {\n",
              "        vertical-align: middle;\n",
              "    }\n",
              "\n",
              "    .dataframe tbody tr th {\n",
              "        vertical-align: top;\n",
              "    }\n",
              "\n",
              "    .dataframe thead th {\n",
              "        text-align: right;\n",
              "    }\n",
              "</style>\n",
              "<table border=\"1\" class=\"dataframe\">\n",
              "  <thead>\n",
              "    <tr style=\"text-align: right;\">\n",
              "      <th></th>\n",
              "      <th>issue_d</th>\n",
              "      <th>last_credit_pull_d</th>\n",
              "      <th>day_diff</th>\n",
              "    </tr>\n",
              "  </thead>\n",
              "  <tbody>\n",
              "    <tr>\n",
              "      <th>0</th>\n",
              "      <td>Dec-2018</td>\n",
              "      <td>Dec-2019</td>\n",
              "      <td>-365 days</td>\n",
              "    </tr>\n",
              "    <tr>\n",
              "      <th>1</th>\n",
              "      <td>Dec-2018</td>\n",
              "      <td>Jan-2020</td>\n",
              "      <td>-396 days</td>\n",
              "    </tr>\n",
              "    <tr>\n",
              "      <th>2</th>\n",
              "      <td>Dec-2018</td>\n",
              "      <td>Feb-2020</td>\n",
              "      <td>-427 days</td>\n",
              "    </tr>\n",
              "    <tr>\n",
              "      <th>3</th>\n",
              "      <td>Dec-2018</td>\n",
              "      <td>Jan-2020</td>\n",
              "      <td>-396 days</td>\n",
              "    </tr>\n",
              "    <tr>\n",
              "      <th>4</th>\n",
              "      <td>Dec-2018</td>\n",
              "      <td>Jan-2020</td>\n",
              "      <td>-396 days</td>\n",
              "    </tr>\n",
              "    <tr>\n",
              "      <th>...</th>\n",
              "      <td>...</td>\n",
              "      <td>...</td>\n",
              "      <td>...</td>\n",
              "    </tr>\n",
              "    <tr>\n",
              "      <th>128279</th>\n",
              "      <td>Oct-2018</td>\n",
              "      <td>Nov-2018</td>\n",
              "      <td>-31 days</td>\n",
              "    </tr>\n",
              "    <tr>\n",
              "      <th>128280</th>\n",
              "      <td>Oct-2018</td>\n",
              "      <td>Jan-2020</td>\n",
              "      <td>-457 days</td>\n",
              "    </tr>\n",
              "    <tr>\n",
              "      <th>128281</th>\n",
              "      <td>Oct-2018</td>\n",
              "      <td>Jan-2020</td>\n",
              "      <td>-457 days</td>\n",
              "    </tr>\n",
              "    <tr>\n",
              "      <th>128282</th>\n",
              "      <td>Oct-2018</td>\n",
              "      <td>Jan-2020</td>\n",
              "      <td>-457 days</td>\n",
              "    </tr>\n",
              "    <tr>\n",
              "      <th>128283</th>\n",
              "      <td>Oct-2018</td>\n",
              "      <td>Jan-2020</td>\n",
              "      <td>-457 days</td>\n",
              "    </tr>\n",
              "  </tbody>\n",
              "</table>\n",
              "<p>128284 rows × 3 columns</p>\n",
              "</div>"
            ],
            "text/plain": [
              "         issue_d last_credit_pull_d  day_diff\n",
              "0       Dec-2018           Dec-2019 -365 days\n",
              "1       Dec-2018           Jan-2020 -396 days\n",
              "2       Dec-2018           Feb-2020 -427 days\n",
              "3       Dec-2018           Jan-2020 -396 days\n",
              "4       Dec-2018           Jan-2020 -396 days\n",
              "...          ...                ...       ...\n",
              "128279  Oct-2018           Nov-2018  -31 days\n",
              "128280  Oct-2018           Jan-2020 -457 days\n",
              "128281  Oct-2018           Jan-2020 -457 days\n",
              "128282  Oct-2018           Jan-2020 -457 days\n",
              "128283  Oct-2018           Jan-2020 -457 days\n",
              "\n",
              "[128284 rows x 3 columns]"
            ]
          },
          "metadata": {
            "tags": []
          },
          "execution_count": 188
        }
      ]
    },
    {
      "cell_type": "code",
      "metadata": {
        "id": "u0HnCbaQfPQA",
        "colab_type": "code",
        "colab": {
          "base_uri": "https://localhost:8080/",
          "height": 119
        },
        "outputId": "9722afde-0cf6-482f-ba35-f742a71cb8e9"
      },
      "source": [
        "loans_df['day_diff'].value_counts().sort_index().tail()"
      ],
      "execution_count": 189,
      "outputs": [
        {
          "output_type": "execute_result",
          "data": {
            "text/plain": [
              "-30 days     89\n",
              "0 days      514\n",
              "30 days      80\n",
              "31 days      33\n",
              "61 days       1\n",
              "Name: day_diff, dtype: int64"
            ]
          },
          "metadata": {
            "tags": []
          },
          "execution_count": 189
        }
      ]
    },
    {
      "cell_type": "code",
      "metadata": {
        "id": "pm_kHH4IfOe3",
        "colab_type": "code",
        "colab": {
          "base_uri": "https://localhost:8080/",
          "height": 170
        },
        "outputId": "6a1579be-2985-4e61-8aa2-ad8ae2cc9a3b"
      },
      "source": [
        "# What's oldest credit history that was involved in Q4 2018\n",
        "loans_df['day_diff'].describe()"
      ],
      "execution_count": 190,
      "outputs": [
        {
          "output_type": "execute_result",
          "data": {
            "text/plain": [
              "count                        128283\n",
              "mean     -412 days +12:30:45.083088\n",
              "std         70 days 13:50:06.866943\n",
              "min             -488 days +00:00:00\n",
              "25%             -457 days +00:00:00\n",
              "50%             -426 days +00:00:00\n",
              "75%             -396 days +00:00:00\n",
              "max                61 days 00:00:00\n",
              "Name: day_diff, dtype: object"
            ]
          },
          "metadata": {
            "tags": []
          },
          "execution_count": 190
        }
      ]
    },
    {
      "cell_type": "code",
      "metadata": {
        "id": "VLf4ChTJfNTB",
        "colab_type": "code",
        "colab": {}
      },
      "source": [
        "# oldest is 488 days\n",
        "# shortest is 61 days"
      ],
      "execution_count": 0,
      "outputs": []
    },
    {
      "cell_type": "code",
      "metadata": {
        "id": "6dpZxVb6fMVD",
        "colab_type": "code",
        "colab": {}
      },
      "source": [
        ""
      ],
      "execution_count": 0,
      "outputs": []
    },
    {
      "cell_type": "code",
      "metadata": {
        "id": "Dnb8e7avdgRf",
        "colab_type": "code",
        "colab": {}
      },
      "source": [
        ""
      ],
      "execution_count": 0,
      "outputs": []
    },
    {
      "cell_type": "code",
      "metadata": {
        "id": "rmh6pkdQdiX4",
        "colab_type": "code",
        "colab": {}
      },
      "source": [
        ""
      ],
      "execution_count": 0,
      "outputs": []
    },
    {
      "cell_type": "markdown",
      "metadata": {
        "colab_type": "text",
        "id": "L8k0LiHmo5EU"
      },
      "source": [
        "# Stretch Goals\n",
        "\n",
        "You can do more with the LendingClub or Instacart datasets.\n",
        "\n",
        "LendingClub options:\n",
        "- There's one other column in the dataframe with percent signs. Remove them and convert to floats. You'll need to handle missing values.\n",
        "- Modify the `emp_title` column to replace titles with 'Other' if the title is not in the top 20. \n",
        "- Take initiatve and work on your own ideas!\n",
        "\n",
        "Instacart options:\n",
        "- Read [Instacart Market Basket Analysis, Winner's Interview: 2nd place, Kazuki Onodera](http://blog.kaggle.com/2017/09/21/instacart-market-basket-analysis-winners-interview-2nd-place-kazuki-onodera/), especially the **Feature Engineering** section. (Can you choose one feature from his bulleted lists, and try to engineer it with pandas code?)\n",
        "- Read and replicate parts of [Simple Exploration Notebook - Instacart](https://www.kaggle.com/sudalairajkumar/simple-exploration-notebook-instacart). (It's the Python Notebook with the most upvotes for this Kaggle competition.)\n",
        "- Take initiative and work on your own ideas!"
      ]
    },
    {
      "cell_type": "markdown",
      "metadata": {
        "colab_type": "text",
        "id": "0_7PXF7lpEXg"
      },
      "source": [
        "You can uncomment and run the cells below to re-download and extract the Instacart data"
      ]
    },
    {
      "cell_type": "code",
      "metadata": {
        "id": "urIePNa0yNG6",
        "colab_type": "code",
        "colab": {}
      },
      "source": [
        "# !wget https://s3.amazonaws.com/instacart-datasets/instacart_online_grocery_shopping_2017_05_01.tar.gz"
      ],
      "execution_count": 0,
      "outputs": []
    },
    {
      "cell_type": "code",
      "metadata": {
        "id": "X9zEyu-uyNG8",
        "colab_type": "code",
        "colab": {}
      },
      "source": [
        "# !tar --gunzip --extract --verbose --file=instacart_online_grocery_shopping_2017_05_01.tar.gz"
      ],
      "execution_count": 0,
      "outputs": []
    },
    {
      "cell_type": "code",
      "metadata": {
        "id": "Y3IqrhlpyNG-",
        "colab_type": "code",
        "colab": {}
      },
      "source": [
        "# %cd instacart_2017_05_01"
      ],
      "execution_count": 0,
      "outputs": []
    }
  ]
}